{
 "cells": [
  {
   "cell_type": "markdown",
   "metadata": {},
   "source": [
    "\n",
    "# <p style=\"text-align: center;\">MIS382: Advanced Predictive Modeling</p>\n",
    "# <p style=\"text-align: center;\">Assignment 5</p>\n",
    "## <p style=\"text-align: center;\">Total points: 35</p>\n",
    "## <p style=\"text-align: center;\">Due: Monday, November 27th, submitted via Canvas by 11:59 pm</p>\n",
    "### <p style=\"text-align: center;\"> Brett Scroggins (bas4784) and Meyappan Subbaiah (ms47296)\n",
    "\n",
    "Your homework should be written in a **Jupyter notebook**. You may work in groups of two if you wish. Only one student per team needs to submit the assignment on Canvas.  But be sure to include name and UTID for both students.  Homework groups will be created and managed through Canvas, so please do not arbitrarily change your homework group.  \n",
    "\n",
    "Also, please make sure your code runs and the graphics (and anything else) are displayed in your notebook before submitting. (%matplotlib inline)"
   ]
  },
  {
   "cell_type": "markdown",
   "metadata": {},
   "source": [
    "# Question 1: Ensembles (1+12+2 = 15pts)\n",
    "In this question, we will compare performance of different ensemble methods: [Random Forest](http://scikit-learn.org/stable/modules/generated/sklearn.ensemble.RandomForestClassifier.html), [Gradient Boosting Decision Tree](http://scikit-learn.org/stable/modules/generated/sklearn.ensemble.GradientBoostingClassifier.html) (GBDT), and [XGBoost](http://xgboost.readthedocs.io/en/latest/).  Note that you have to install xgboost package in addition to scikit-learn.  You can see installation guides [here](http://xgboost.readthedocs.io/en/latest/build.html).\n",
    "\n",
    "\n",
    "\n",
    "\n",
    "Two  datasets are provided for this problem. For **each of the datasets ((X1.csv, y1.csv), (X2.csv, y2.csv))**, do the following:\n",
    "\n",
    "1. Load the data and partition it into features (X) and the target label (y) for classification task. Then, use [train_test_split](http://scikit-learn.org/stable/modules/generated/sklearn.model_selection.train_test_split.html) to split data into training and testing: test_size=0.33, random_state=42.\n",
    "\n",
    "2. Build a classifier using [Random Forest](http://scikit-learn.org/stable/modules/generated/sklearn.ensemble.RandomForestClassifier.html), [Gradient Boosting Decision Tree](http://scikit-learn.org/stable/modules/generated/sklearn.ensemble.GradientBoostingClassifier.html), and [XGBoost](http://xgboost.readthedocs.io/en/latest/), respectively, and answer the following for each classifier.\n",
    "\n",
    " - Mention any design choices (with reasoning/justification) that you made, e.g. the hyperparameters considered for each classifier.\n",
    " - Report the mean error rate (fraction of incorrect labels) and the confusion matrix on test data. <br>\n",
    " - Report the feature importance and time of execution (training and predicting times).\n",
    "\n",
    "3. Compare the three classifiers for the two different datasets ((X1.csv, y1.csv), (X2.csv, y2.csv)) in terms of the misclassification rate.  What are the characteristics of the dataset and the classifiers that resulted in somewhat different comparative results?"
   ]
  },
  {
   "cell_type": "code",
   "execution_count": 1,
   "metadata": {},
   "outputs": [
    {
     "name": "stderr",
     "output_type": "stream",
     "text": [
      "/anaconda/lib/python2.7/site-packages/sklearn/cross_validation.py:44: DeprecationWarning: This module was deprecated in version 0.18 in favor of the model_selection module into which all the refactored classes and functions are moved. Also note that the interface of the new CV iterators are different from that of this module. This module will be removed in 0.20.\n",
      "  \"This module will be removed in 0.20.\", DeprecationWarning)\n"
     ]
    }
   ],
   "source": [
    "import numpy as np\n",
    "import pandas as pd\n",
    "from sklearn.ensemble import RandomForestClassifier\n",
    "from sklearn.metrics import confusion_matrix\n",
    "from sklearn.ensemble import GradientBoostingClassifier\n",
    "from sklearn.model_selection import GridSearchCV\n",
    "from xgboost.sklearn import XGBClassifier\n",
    "from time import time\n",
    "import matplotlib.pyplot as plt\n",
    "from sklearn.model_selection import train_test_split\n",
    "%matplotlib inline"
   ]
  },
  {
   "cell_type": "markdown",
   "metadata": {},
   "source": [
    "## Part 1"
   ]
  },
  {
   "cell_type": "code",
   "execution_count": 2,
   "metadata": {
    "collapsed": true
   },
   "outputs": [],
   "source": [
    "x1 = pd.read_csv('X1.csv', header = None)\n",
    "x2 = pd.read_csv('X2.csv', header = None)\n",
    "\n",
    "y1 = pd.read_csv('y1.csv', header = None)\n",
    "y1 = y1[0].values\n",
    "y2 = pd.read_csv('y2.csv', header = None)\n",
    "y2 = y2[0].values\n",
    "\n",
    "x1_train, x1_test, y1_train, y1_test = train_test_split(x1, y1, \n",
    "                                                    test_size=0.33, \n",
    "                                                    random_state=42)\n",
    "\n",
    "x2_train, x2_test, y2_train, y2_test = train_test_split(x2, y2, \n",
    "                                                    test_size=0.33, \n",
    "                                                    random_state=42)"
   ]
  },
  {
   "cell_type": "markdown",
   "metadata": {},
   "source": [
    "## Part 2\n",
    "### Random Forest\n",
    "#### X1 and Y1"
   ]
  },
  {
   "cell_type": "code",
   "execution_count": 3,
   "metadata": {},
   "outputs": [
    {
     "data": {
      "text/plain": [
       "GridSearchCV(cv=5, error_score='raise',\n",
       "       estimator=RandomForestClassifier(bootstrap=True, class_weight=None, criterion='gini',\n",
       "            max_depth=None, max_features='auto', max_leaf_nodes=None,\n",
       "            min_impurity_split=1e-07, min_samples_leaf=1,\n",
       "            min_samples_split=2, min_weight_fraction_leaf=0.0,\n",
       "            n_estimators=10, n_jobs=1, oob_score=False, random_state=None,\n",
       "            verbose=0, warm_start=False),\n",
       "       fit_params={}, iid=True, n_jobs=1,\n",
       "       param_grid={'n_estimators': [5, 25, 50], 'criterion': ['gini', 'entropy']},\n",
       "       pre_dispatch='2*n_jobs', refit=True, return_train_score=True,\n",
       "       scoring=None, verbose=0)"
      ]
     },
     "execution_count": 3,
     "metadata": {},
     "output_type": "execute_result"
    }
   ],
   "source": [
    "RFC = RandomForestClassifier()\n",
    "param_grid_RFC = { 'n_estimators' : [5,25,50],\n",
    "                  'criterion' : ['gini', 'entropy']}\n",
    "cv_RFC = GridSearchCV(estimator = RFC, param_grid=param_grid_RFC, cv=5)\n",
    "cv_RFC.fit(x1_train, y1_train)"
   ]
  },
  {
   "cell_type": "code",
   "execution_count": 4,
   "metadata": {},
   "outputs": [
    {
     "name": "stdout",
     "output_type": "stream",
     "text": [
      "Best Parameters: {'n_estimators': 50, 'criterion': 'gini'}\n",
      "Best Score: 0.875\n"
     ]
    }
   ],
   "source": [
    "print 'Best Parameters: {}'.format(cv_RFC.best_params_)\n",
    "print 'Best Score: {:.3f}'.format(cv_RFC.best_score_)"
   ]
  },
  {
   "cell_type": "code",
   "execution_count": 5,
   "metadata": {},
   "outputs": [
    {
     "name": "stdout",
     "output_type": "stream",
     "text": [
      "Fitting time: 0.717 sec\n",
      "Prediction time: 0.025 sec\n"
     ]
    }
   ],
   "source": [
    "t0 = time()\n",
    "best_RFC = RandomForestClassifier(n_estimators = 25, criterion = 'gini')\n",
    "model_RFC = best_RFC.fit(x1_train, y1_train)\n",
    "print \"Fitting time: {:.3f} sec\".format(time() - t0,3)\n",
    "\n",
    "t1 = time()\n",
    "y1_pred_RFC = model_RFC.predict(x1_test)\n",
    "print 'Prediction time: {:.3f} sec'.format(time() - t1)"
   ]
  },
  {
   "cell_type": "code",
   "execution_count": 6,
   "metadata": {},
   "outputs": [
    {
     "name": "stdout",
     "output_type": "stream",
     "text": [
      "[[1443  238]\n",
      " [ 151 1468]]\n",
      "Percent Incorrect: 11.788%\n"
     ]
    }
   ],
   "source": [
    "conf_mat = confusion_matrix(y1_test, y1_pred_RFC)\n",
    "print conf_mat\n",
    "acc = np.sum(np.diagonal(conf_mat))/float(np.sum(conf_mat))\n",
    "print 'Percent Incorrect: {:.3f}%'.format((1-acc)*100)"
   ]
  },
  {
   "cell_type": "code",
   "execution_count": 7,
   "metadata": {
    "collapsed": true
   },
   "outputs": [],
   "source": [
    "importances_1 = best_RFC.feature_importances_"
   ]
  },
  {
   "cell_type": "markdown",
   "metadata": {},
   "source": [
    "#### X2 and Y2"
   ]
  },
  {
   "cell_type": "code",
   "execution_count": 8,
   "metadata": {},
   "outputs": [
    {
     "data": {
      "text/plain": [
       "GridSearchCV(cv=5, error_score='raise',\n",
       "       estimator=RandomForestClassifier(bootstrap=True, class_weight=None, criterion='gini',\n",
       "            max_depth=None, max_features='auto', max_leaf_nodes=None,\n",
       "            min_impurity_split=1e-07, min_samples_leaf=1,\n",
       "            min_samples_split=2, min_weight_fraction_leaf=0.0,\n",
       "            n_estimators=10, n_jobs=1, oob_score=False, random_state=None,\n",
       "            verbose=0, warm_start=False),\n",
       "       fit_params={}, iid=True, n_jobs=1,\n",
       "       param_grid={'n_estimators': [5, 25, 50], 'criterion': ['gini', 'entropy']},\n",
       "       pre_dispatch='2*n_jobs', refit=True, return_train_score=True,\n",
       "       scoring=None, verbose=0)"
      ]
     },
     "execution_count": 8,
     "metadata": {},
     "output_type": "execute_result"
    }
   ],
   "source": [
    "RFC = RandomForestClassifier()\n",
    "param_grid_RFC = { 'n_estimators' : [5,25,50],\n",
    "                  'criterion' : ['gini', 'entropy']}\n",
    "cv_RFC = GridSearchCV(estimator = RFC, param_grid=param_grid_RFC, cv=5)\n",
    "cv_RFC.fit(x2_train, y2_train)"
   ]
  },
  {
   "cell_type": "code",
   "execution_count": 9,
   "metadata": {},
   "outputs": [
    {
     "name": "stdout",
     "output_type": "stream",
     "text": [
      "Best Parameters: {'n_estimators': 50, 'criterion': 'gini'}\n",
      "Best Score: 0.923\n"
     ]
    }
   ],
   "source": [
    "print 'Best Parameters: {}'.format(cv_RFC.best_params_)\n",
    "print 'Best Score: {:.3f}'.format(cv_RFC.best_score_)"
   ]
  },
  {
   "cell_type": "code",
   "execution_count": 10,
   "metadata": {},
   "outputs": [
    {
     "name": "stdout",
     "output_type": "stream",
     "text": [
      "Fitting time: 0.479 sec\n",
      "Prediction time: 0.030 sec\n"
     ]
    }
   ],
   "source": [
    "t0 = time()\n",
    "best_RFC = RandomForestClassifier(n_estimators = 50, criterion = 'gini')\n",
    "model_RFC = best_RFC.fit(x2_train, y2_train)\n",
    "print \"Fitting time: {:.3f} sec\".format(time() - t0)\n",
    "\n",
    "t1 = time()\n",
    "y2_pred_RFC = model_RFC.predict(x2_test)\n",
    "print 'Prediction time: {:.3f} sec'.format(time() - t1)"
   ]
  },
  {
   "cell_type": "code",
   "execution_count": 11,
   "metadata": {
    "scrolled": true
   },
   "outputs": [
    {
     "name": "stdout",
     "output_type": "stream",
     "text": [
      "[[788  62]\n",
      " [ 40 760]]\n",
      "Percent Incorrect: 6.182%\n"
     ]
    }
   ],
   "source": [
    "conf_mat = confusion_matrix(y2_test, y2_pred_RFC)\n",
    "print conf_mat\n",
    "acc = np.sum(np.diagonal(conf_mat))/float(np.sum(conf_mat))\n",
    "print 'Percent Incorrect: {:.3f}%'.format((1-acc)*100)"
   ]
  },
  {
   "cell_type": "markdown",
   "metadata": {},
   "source": [
    "### Feature Importances RF (1 vs. 2)"
   ]
  },
  {
   "cell_type": "code",
   "execution_count": 12,
   "metadata": {},
   "outputs": [
    {
     "name": "stdout",
     "output_type": "stream",
     "text": [
      "Feature ranking:\n",
      "1. feature 22 (0.398133)\n",
      "2. feature 21 (0.104648)\n",
      "3. feature 18 (0.067408)\n",
      "4. feature 0 (0.047359)\n",
      "5. feature 7 (0.015836)\n",
      "6. feature 14 (0.015749)\n",
      "7. feature 5 (0.015683)\n",
      "8. feature 25 (0.015567)\n",
      "9. feature 26 (0.015522)\n",
      "10. feature 15 (0.015482)\n",
      "11. feature 3 (0.015352)\n",
      "12. feature 6 (0.015304)\n",
      "13. feature 4 (0.015144)\n",
      "14. feature 12 (0.015033)\n",
      "15. feature 27 (0.015030)\n",
      "16. feature 13 (0.014930)\n",
      "17. feature 23 (0.014825)\n",
      "18. feature 17 (0.014700)\n",
      "19. feature 19 (0.014683)\n",
      "20. feature 1 (0.014551)\n",
      "21. feature 10 (0.014457)\n",
      "22. feature 9 (0.014404)\n",
      "23. feature 11 (0.014256)\n",
      "24. feature 24 (0.014187)\n",
      "25. feature 20 (0.014165)\n",
      "26. feature 29 (0.014152)\n",
      "27. feature 8 (0.013746)\n",
      "28. feature 16 (0.013270)\n",
      "29. feature 2 (0.013218)\n",
      "30. feature 28 (0.013206)\n"
     ]
    }
   ],
   "source": [
    "## importance 1 found above\n",
    "indices_1 = np.argsort(importances_1)[::-1]\n",
    "# Print the feature ranking\n",
    "print(\"Feature ranking:\")\n",
    "for f in range(len(importances_1)):\n",
    "    print(\"%d. feature %d (%f)\" % (f + 1, indices_1[f], importances_1[indices_1[f]]))"
   ]
  },
  {
   "cell_type": "code",
   "execution_count": 13,
   "metadata": {},
   "outputs": [
    {
     "data": {
      "image/png": "[encoded data removed]",
      "text/plain": [
       "<matplotlib.figure.Figure at 0x11589da10>"
      ]
     },
     "metadata": {},
     "output_type": "display_data"
    }
   ],
   "source": [
    "plt.figure()\n",
    "plt.title(\"Feature importances for X1\")\n",
    "plt.bar(range(len(importances_1)), importances_1[indices_1],\n",
    "       color=\"r\", align=\"center\")\n",
    "plt.xticks(range(len(importances_1)), indices_1)\n",
    "plt.xlim([-1, len(importances_1)])\n",
    "plt.show()"
   ]
  },
  {
   "cell_type": "code",
   "execution_count": 14,
   "metadata": {},
   "outputs": [
    {
     "name": "stdout",
     "output_type": "stream",
     "text": [
      "Feature ranking:\n",
      "1. feature 9 (0.146034)\n",
      "2. feature 11 (0.084006)\n",
      "3. feature 18 (0.076406)\n",
      "4. feature 15 (0.070733)\n",
      "5. feature 13 (0.067523)\n",
      "6. feature 5 (0.061680)\n",
      "7. feature 4 (0.056510)\n",
      "8. feature 7 (0.055730)\n",
      "9. feature 3 (0.052480)\n",
      "10. feature 16 (0.049370)\n",
      "11. feature 6 (0.046875)\n",
      "12. feature 8 (0.044870)\n",
      "13. feature 19 (0.041370)\n",
      "14. feature 10 (0.034183)\n",
      "15. feature 0 (0.029635)\n",
      "16. feature 1 (0.017285)\n",
      "17. feature 14 (0.016896)\n",
      "18. feature 2 (0.016837)\n",
      "19. feature 12 (0.015947)\n",
      "20. feature 17 (0.015629)\n"
     ]
    }
   ],
   "source": [
    "importances_2 = best_RFC.feature_importances_\n",
    "indices_2 = np.argsort(importances_2)[::-1]\n",
    "# Print the feature ranking\n",
    "print(\"Feature ranking:\")\n",
    "for f in range(len(importances_2)):\n",
    "    print(\"%d. feature %d (%f)\" % (f + 1, indices_2[f], importances_2[indices_2[f]]))"
   ]
  },
  {
   "cell_type": "code",
   "execution_count": 15,
   "metadata": {},
   "outputs": [
    {
     "data": {
      "image/png": "[encoded data removed]",
      "text/plain": [
       "<matplotlib.figure.Figure at 0x1162955d0>"
      ]
     },
     "metadata": {},
     "output_type": "display_data"
    }
   ],
   "source": [
    "plt.figure()\n",
    "plt.title(\"Feature importances for X2\")\n",
    "plt.bar(range(len(importances_2)), importances_2[indices_2],\n",
    "       color=\"r\", align=\"center\")\n",
    "plt.xticks(range(len(importances_2)), indices_2)\n",
    "plt.xlim([-1, len(importances_2)])\n",
    "plt.show()"
   ]
  },
  {
   "cell_type": "markdown",
   "metadata": {},
   "source": [
    "### GBDT\n",
    "#### X1 and Y1"
   ]
  },
  {
   "cell_type": "code",
   "execution_count": 16,
   "metadata": {},
   "outputs": [
    {
     "data": {
      "text/plain": [
       "GridSearchCV(cv=5, error_score='raise',\n",
       "       estimator=GradientBoostingClassifier(criterion='friedman_mse', init=None,\n",
       "              learning_rate=0.1, loss='deviance', max_depth=3,\n",
       "              max_features=None, max_leaf_nodes=None,\n",
       "              min_impurity_split=1e-07, min_samples_leaf=1,\n",
       "              min_samples_split=2, min_weight_fraction_leaf=0.0,\n",
       "              n_estimators=100, presort='auto', random_state=None,\n",
       "              subsample=1.0, verbose=0, warm_start=False),\n",
       "       fit_params={}, iid=True, n_jobs=1,\n",
       "       param_grid={'learning_rate': [0.01, 0.1, 1], 'max_depth': [1, 3, 5]},\n",
       "       pre_dispatch='2*n_jobs', refit=True, return_train_score=True,\n",
       "       scoring=None, verbose=0)"
      ]
     },
     "execution_count": 16,
     "metadata": {},
     "output_type": "execute_result"
    }
   ],
   "source": [
    "GBC = GradientBoostingClassifier()\n",
    "param_grid_GBC = {'learning_rate' : [.01, .1, 1],\n",
    "              'max_depth' : [1,3,5]}\n",
    "cv_GBC = GridSearchCV(estimator = GBC, param_grid=param_grid_GBC, cv=5)\n",
    "cv_GBC.fit(x1_train, y1_train)"
   ]
  },
  {
   "cell_type": "code",
   "execution_count": 17,
   "metadata": {},
   "outputs": [
    {
     "name": "stdout",
     "output_type": "stream",
     "text": [
      "Best Parameters: {'learning_rate': 0.1, 'max_depth': 5}\n",
      "Best Score: 0.910\n"
     ]
    }
   ],
   "source": [
    "print 'Best Parameters: {}'.format(cv_GBC.best_params_)\n",
    "print 'Best Score: {:.3f}'.format(cv_GBC.best_score_)"
   ]
  },
  {
   "cell_type": "code",
   "execution_count": 18,
   "metadata": {},
   "outputs": [
    {
     "name": "stdout",
     "output_type": "stream",
     "text": [
      "Fitting time: 3.395 sec\n",
      "Prediction time: 0.009 sec\n"
     ]
    }
   ],
   "source": [
    "t0 = time()\n",
    "best_GBC = GradientBoostingClassifier(learning_rate = .01,\n",
    "                                     max_depth = 5)\n",
    "model_GBC = best_GBC.fit(x1_train, y1_train)\n",
    "print \"Fitting time: {:.3f} sec\".format(time() - t0)\n",
    "\n",
    "t1 = time()\n",
    "y1_pred_GBC = model_GBC.predict(x1_test)\n",
    "print 'Prediction time: {:.3f} sec'.format(time() - t1)"
   ]
  },
  {
   "cell_type": "code",
   "execution_count": 19,
   "metadata": {},
   "outputs": [
    {
     "name": "stdout",
     "output_type": "stream",
     "text": [
      "[[1451  230]\n",
      " [ 160 1459]]\n",
      "Percent Incorrect: 11.818%\n"
     ]
    }
   ],
   "source": [
    "conf_mat = confusion_matrix(y1_test, y1_pred_GBC)\n",
    "print conf_mat\n",
    "acc = np.sum(np.diagonal(conf_mat))/float(np.sum(conf_mat))\n",
    "print 'Percent Incorrect: {:.3f}%'.format((1-acc)*100)"
   ]
  },
  {
   "cell_type": "code",
   "execution_count": 20,
   "metadata": {
    "collapsed": true
   },
   "outputs": [],
   "source": [
    "imp_1g = best_GBC.feature_importances_"
   ]
  },
  {
   "cell_type": "markdown",
   "metadata": {},
   "source": [
    "#### X2 and Y2"
   ]
  },
  {
   "cell_type": "code",
   "execution_count": 21,
   "metadata": {},
   "outputs": [
    {
     "data": {
      "text/plain": [
       "GridSearchCV(cv=5, error_score='raise',\n",
       "       estimator=GradientBoostingClassifier(criterion='friedman_mse', init=None,\n",
       "              learning_rate=0.1, loss='deviance', max_depth=3,\n",
       "              max_features=None, max_leaf_nodes=None,\n",
       "              min_impurity_split=1e-07, min_samples_leaf=1,\n",
       "              min_samples_split=2, min_weight_fraction_leaf=0.0,\n",
       "              n_estimators=100, presort='auto', random_state=None,\n",
       "              subsample=1.0, verbose=0, warm_start=False),\n",
       "       fit_params={}, iid=True, n_jobs=1,\n",
       "       param_grid={'learning_rate': [0.01, 0.1, 1], 'max_depth': [1, 3, 5]},\n",
       "       pre_dispatch='2*n_jobs', refit=True, return_train_score=True,\n",
       "       scoring=None, verbose=0)"
      ]
     },
     "execution_count": 21,
     "metadata": {},
     "output_type": "execute_result"
    }
   ],
   "source": [
    "GBC = GradientBoostingClassifier()\n",
    "param_grid_GBC = {'learning_rate' : [.01, .1, 1],\n",
    "              'max_depth' : [1,3,5]}\n",
    "cv_GBC = GridSearchCV(estimator = GBC, param_grid=param_grid_GBC, cv=5)\n",
    "cv_GBC.fit(x2_train, y2_train)"
   ]
  },
  {
   "cell_type": "code",
   "execution_count": 22,
   "metadata": {},
   "outputs": [
    {
     "name": "stdout",
     "output_type": "stream",
     "text": [
      "Best Parameters: {'learning_rate': 0.1, 'max_depth': 5}\n",
      "Best Score: 0.926\n"
     ]
    }
   ],
   "source": [
    "print 'Best Parameters: {}'.format(cv_GBC.best_params_)\n",
    "print 'Best Score: {:.3f}'.format(cv_GBC.best_score_)"
   ]
  },
  {
   "cell_type": "code",
   "execution_count": 23,
   "metadata": {},
   "outputs": [
    {
     "name": "stdout",
     "output_type": "stream",
     "text": [
      "Fitting time: 1.187 sec\n",
      "Prediction time: 0.005 sec\n"
     ]
    }
   ],
   "source": [
    "t0 = time()\n",
    "best_GBC = GradientBoostingClassifier(learning_rate = .01,\n",
    "                                     max_depth = 5)\n",
    "model_GBC = best_GBC.fit(x2_train, y2_train)\n",
    "print \"Fitting time: {:.3f} sec\".format(time() - t0)\n",
    "\n",
    "t1 = time()\n",
    "y2_pred_GBC = model_GBC.predict(x2_test)\n",
    "print 'Prediction time: {:.3f} sec'.format(time() - t1)"
   ]
  },
  {
   "cell_type": "code",
   "execution_count": 24,
   "metadata": {},
   "outputs": [
    {
     "name": "stdout",
     "output_type": "stream",
     "text": [
      "[[731 119]\n",
      " [ 82 718]]\n",
      "Percent Incorrect: 12.182%\n"
     ]
    }
   ],
   "source": [
    "conf_mat = confusion_matrix(y2_test, y2_pred_GBC)\n",
    "print conf_mat\n",
    "acc = np.sum(np.diagonal(conf_mat))/float(np.sum(conf_mat))\n",
    "print 'Percent Incorrect: {:.3f}%'.format((1-acc)*100)"
   ]
  },
  {
   "cell_type": "markdown",
   "metadata": {},
   "source": [
    "### Feature Importance (GDBT) 1 vs 2"
   ]
  },
  {
   "cell_type": "code",
   "execution_count": 25,
   "metadata": {},
   "outputs": [
    {
     "name": "stdout",
     "output_type": "stream",
     "text": [
      "Feature ranking:\n",
      "1. feature 22 (0.710742)\n",
      "2. feature 18 (0.115959)\n",
      "3. feature 21 (0.104501)\n",
      "4. feature 0 (0.063255)\n",
      "5. feature 29 (0.000755)\n",
      "6. feature 11 (0.000571)\n",
      "7. feature 15 (0.000542)\n",
      "8. feature 2 (0.000493)\n",
      "9. feature 16 (0.000487)\n",
      "10. feature 10 (0.000429)\n",
      "11. feature 7 (0.000324)\n",
      "12. feature 6 (0.000286)\n",
      "13. feature 14 (0.000264)\n",
      "14. feature 25 (0.000254)\n",
      "15. feature 3 (0.000200)\n",
      "16. feature 5 (0.000151)\n",
      "17. feature 13 (0.000148)\n",
      "18. feature 27 (0.000147)\n",
      "19. feature 20 (0.000097)\n",
      "20. feature 24 (0.000094)\n",
      "21. feature 26 (0.000074)\n",
      "22. feature 1 (0.000066)\n",
      "23. feature 28 (0.000052)\n",
      "24. feature 19 (0.000047)\n",
      "25. feature 12 (0.000033)\n",
      "26. feature 23 (0.000023)\n",
      "27. feature 9 (0.000005)\n",
      "28. feature 17 (0.000000)\n",
      "29. feature 8 (0.000000)\n",
      "30. feature 4 (0.000000)\n"
     ]
    }
   ],
   "source": [
    "## importance 1 found above\n",
    "indices_1 = np.argsort(imp_1g)[::-1]\n",
    "# Print the feature ranking\n",
    "print(\"Feature ranking:\")\n",
    "for f in range(len(imp_1g)):\n",
    "    print(\"%d. feature %d (%f)\" % (f + 1, indices_1[f], imp_1g[indices_1[f]]))"
   ]
  },
  {
   "cell_type": "code",
   "execution_count": 26,
   "metadata": {},
   "outputs": [
    {
     "data": {
      "image/png": "[encoded data removed]",
      "text/plain": [
       "<matplotlib.figure.Figure at 0x116d44dd0>"
      ]
     },
     "metadata": {},
     "output_type": "display_data"
    }
   ],
   "source": [
    "plt.figure()\n",
    "plt.title(\"Feature importances for X1\")\n",
    "plt.bar(range(len(imp_1g)), imp_1g[indices_1],\n",
    "       color=\"r\", align=\"center\")\n",
    "plt.xticks(range(len(imp_1g)), indices_1)\n",
    "plt.xlim([-1, len(imp_1g)])\n",
    "plt.show()"
   ]
  },
  {
   "cell_type": "code",
   "execution_count": 27,
   "metadata": {},
   "outputs": [
    {
     "name": "stdout",
     "output_type": "stream",
     "text": [
      "Feature ranking:\n",
      "1. feature 9 (0.211987)\n",
      "2. feature 11 (0.138620)\n",
      "3. feature 13 (0.098942)\n",
      "4. feature 18 (0.089203)\n",
      "5. feature 15 (0.088358)\n",
      "6. feature 7 (0.077275)\n",
      "7. feature 16 (0.055648)\n",
      "8. feature 5 (0.052555)\n",
      "9. feature 3 (0.051757)\n",
      "10. feature 10 (0.034128)\n",
      "11. feature 4 (0.029347)\n",
      "12. feature 8 (0.026301)\n",
      "13. feature 6 (0.018886)\n",
      "14. feature 19 (0.016870)\n",
      "15. feature 0 (0.008079)\n",
      "16. feature 12 (0.001016)\n",
      "17. feature 2 (0.000440)\n",
      "18. feature 1 (0.000363)\n",
      "19. feature 14 (0.000159)\n",
      "20. feature 17 (0.000065)\n"
     ]
    }
   ],
   "source": [
    "importances_2 = best_GBC.feature_importances_\n",
    "indices_2 = np.argsort(importances_2)[::-1]\n",
    "# Print the feature ranking\n",
    "print(\"Feature ranking:\")\n",
    "for f in range(len(importances_2)):\n",
    "    print(\"%d. feature %d (%f)\" % (f + 1, indices_2[f], importances_2[indices_2[f]]))"
   ]
  },
  {
   "cell_type": "code",
   "execution_count": 28,
   "metadata": {},
   "outputs": [
    {
     "data": {
      "image/png": "[encoded data removed]",
      "text/plain": [
       "<matplotlib.figure.Figure at 0x116d3d190>"
      ]
     },
     "metadata": {},
     "output_type": "display_data"
    }
   ],
   "source": [
    "plt.figure()\n",
    "plt.title(\"Feature importances for X2\")\n",
    "plt.bar(range(len(importances_2)), importances_2[indices_2],\n",
    "       color=\"r\", align=\"center\")\n",
    "plt.xticks(range(len(importances_2)), indices_2)\n",
    "plt.xlim([-1, len(importances_2)])\n",
    "plt.show()"
   ]
  },
  {
   "cell_type": "markdown",
   "metadata": {},
   "source": [
    "### XG Boost\n",
    "#### X1 and Y1"
   ]
  },
  {
   "cell_type": "code",
   "execution_count": 29,
   "metadata": {},
   "outputs": [
    {
     "data": {
      "text/plain": [
       "GridSearchCV(cv=5, error_score='raise',\n",
       "       estimator=XGBClassifier(base_score=0.5, colsample_bylevel=1, colsample_bytree=1,\n",
       "       gamma=0, learning_rate=0.1, max_delta_step=0, max_depth=3,\n",
       "       min_child_weight=1, missing=None, n_estimators=100, nthread=-1,\n",
       "       objective='binary:logistic', reg_alpha=0, reg_lambda=1,\n",
       "       scale_pos_weight=1, seed=0, silent=True, subsample=1),\n",
       "       fit_params={}, iid=True, n_jobs=1,\n",
       "       param_grid={'n_estimators': [5, 25, 50], 'learning_rate': [0.01, 0.1, 1], 'max_depth': [1, 3, 5]},\n",
       "       pre_dispatch='2*n_jobs', refit=True, return_train_score=True,\n",
       "       scoring=None, verbose=0)"
      ]
     },
     "execution_count": 29,
     "metadata": {},
     "output_type": "execute_result"
    }
   ],
   "source": [
    "# fit model no training data\n",
    "from xgboost import XGBClassifier\n",
    "xgb = XGBClassifier()\n",
    "param_grid_XGB = { 'n_estimators' : [5,25,50],\n",
    "                  'learning_rate' : [.01, .1, 1],\n",
    "                  'max_depth' : [1,3,5]}\n",
    "cv_XGB = GridSearchCV(estimator = xgb, param_grid=param_grid_XGB, cv=5)\n",
    "cv_XGB.fit(x1_train, y1_train)"
   ]
  },
  {
   "cell_type": "code",
   "execution_count": 30,
   "metadata": {},
   "outputs": [
    {
     "name": "stdout",
     "output_type": "stream",
     "text": [
      "Best Parameters: {'n_estimators': 50, 'learning_rate': 0.1, 'max_depth': 5}\n",
      "Best Score: 0.905\n"
     ]
    }
   ],
   "source": [
    "print 'Best Parameters: {}'.format(cv_XGB.best_params_)\n",
    "print 'Best Score: {:.3f}'.format(cv_XGB.best_score_)"
   ]
  },
  {
   "cell_type": "code",
   "execution_count": 31,
   "metadata": {},
   "outputs": [
    {
     "name": "stdout",
     "output_type": "stream",
     "text": [
      "Fitting time: 0.347 sec\n",
      "Prediction time: 0.005 sec\n"
     ]
    }
   ],
   "source": [
    "t0 = time()\n",
    "best_XGB = XGBClassifier(learning_rate = .01,\n",
    "                                     max_depth = 5,\n",
    "                                     n_estimators=50)\n",
    "model_XGB = best_XGB.fit(x1_train, y1_train)\n",
    "print \"Fitting time: {:.3f} sec\".format(time() - t0)\n",
    "\n",
    "t1 = time()\n",
    "y1_pred_XGB = model_XGB.predict(x1_test)\n",
    "print 'Prediction time: {:.3f} sec'.format(time() - t1)"
   ]
  },
  {
   "cell_type": "code",
   "execution_count": 32,
   "metadata": {},
   "outputs": [
    {
     "name": "stdout",
     "output_type": "stream",
     "text": [
      "[[1468  213]\n",
      " [ 191 1428]]\n",
      "Percent Incorrect: 12.242%\n"
     ]
    }
   ],
   "source": [
    "conf_mat = confusion_matrix(y1_test, y1_pred_XGB)\n",
    "print conf_mat\n",
    "acc = np.sum(np.diagonal(conf_mat))/float(np.sum(conf_mat))\n",
    "print 'Percent Incorrect: {:.3f}%'.format((1-acc)*100)"
   ]
  },
  {
   "cell_type": "code",
   "execution_count": 33,
   "metadata": {
    "collapsed": true
   },
   "outputs": [],
   "source": [
    "importances_1 = best_XGB.feature_importances_"
   ]
  },
  {
   "cell_type": "markdown",
   "metadata": {},
   "source": [
    "#### X2 and Y2"
   ]
  },
  {
   "cell_type": "code",
   "execution_count": 34,
   "metadata": {},
   "outputs": [
    {
     "data": {
      "text/plain": [
       "GridSearchCV(cv=5, error_score='raise',\n",
       "       estimator=XGBClassifier(base_score=0.5, colsample_bylevel=1, colsample_bytree=1,\n",
       "       gamma=0, learning_rate=0.1, max_delta_step=0, max_depth=3,\n",
       "       min_child_weight=1, missing=None, n_estimators=100, nthread=-1,\n",
       "       objective='binary:logistic', reg_alpha=0, reg_lambda=1,\n",
       "       scale_pos_weight=1, seed=0, silent=True, subsample=1),\n",
       "       fit_params={}, iid=True, n_jobs=1,\n",
       "       param_grid={'n_estimators': [5, 25, 50], 'learning_rate': [0.01, 0.1, 1], 'max_depth': [1, 3, 5]},\n",
       "       pre_dispatch='2*n_jobs', refit=True, return_train_score=True,\n",
       "       scoring=None, verbose=0)"
      ]
     },
     "execution_count": 34,
     "metadata": {},
     "output_type": "execute_result"
    }
   ],
   "source": [
    "# fit model no training data\n",
    "from xgboost import XGBClassifier\n",
    "xgb = XGBClassifier()\n",
    "param_grid_XGB = { 'n_estimators' : [5,25,50],\n",
    "                  'learning_rate' : [.01, .1, 1],\n",
    "                  'max_depth' : [1,3,5]}\n",
    "cv_XGB = GridSearchCV(estimator = xgb, param_grid=param_grid_XGB, cv=5)\n",
    "cv_XGB.fit(x2_train, y2_train)"
   ]
  },
  {
   "cell_type": "code",
   "execution_count": 35,
   "metadata": {},
   "outputs": [
    {
     "name": "stdout",
     "output_type": "stream",
     "text": [
      "Best Parameters: {'n_estimators': 50, 'learning_rate': 1, 'max_depth': 5}\n",
      "Best Score: 0.923\n"
     ]
    }
   ],
   "source": [
    "print 'Best Parameters: {}'.format(cv_XGB.best_params_)\n",
    "print 'Best Score: {:.3f}'.format(cv_XGB.best_score_)"
   ]
  },
  {
   "cell_type": "code",
   "execution_count": 36,
   "metadata": {},
   "outputs": [
    {
     "name": "stdout",
     "output_type": "stream",
     "text": [
      "Fitting time: 0.146 sec\n",
      "Prediction time: 0.002 sec\n"
     ]
    }
   ],
   "source": [
    "t0 = time()\n",
    "best_XGB = XGBClassifier(learning_rate = 1,\n",
    "                                     max_depth = 5,\n",
    "                                     n_estimators=50)\n",
    "model_XGB = best_XGB.fit(x2_train, y2_train)\n",
    "print \"Fitting time: {:.3f} sec\".format(time() - t0)\n",
    "\n",
    "t1 = time()\n",
    "y2_pred_XGB = model_XGB.predict(x2_test)\n",
    "print 'Prediction time: {:.3f} sec'.format(time() - t1)"
   ]
  },
  {
   "cell_type": "code",
   "execution_count": 37,
   "metadata": {},
   "outputs": [
    {
     "name": "stdout",
     "output_type": "stream",
     "text": [
      "[[796  54]\n",
      " [ 50 750]]\n",
      "Percent Incorrect: 6.303%\n"
     ]
    }
   ],
   "source": [
    "conf_mat = confusion_matrix(y2_test, y2_pred_XGB)\n",
    "print conf_mat\n",
    "acc = np.sum(np.diagonal(conf_mat))/float(np.sum(conf_mat))\n",
    "print 'Percent Incorrect: {:.3f}%'.format((1-acc)*100)"
   ]
  },
  {
   "cell_type": "markdown",
   "metadata": {},
   "source": [
    "### Feature Importance"
   ]
  },
  {
   "cell_type": "code",
   "execution_count": 38,
   "metadata": {},
   "outputs": [
    {
     "name": "stdout",
     "output_type": "stream",
     "text": [
      "Feature ranking:\n",
      "1. feature 18 (0.274408)\n",
      "2. feature 21 (0.229290)\n",
      "3. feature 0 (0.210799)\n",
      "4. feature 22 (0.178994)\n",
      "5. feature 11 (0.020710)\n",
      "6. feature 16 (0.019970)\n",
      "7. feature 29 (0.014053)\n",
      "8. feature 5 (0.011834)\n",
      "9. feature 25 (0.008136)\n",
      "10. feature 13 (0.007396)\n",
      "11. feature 1 (0.007396)\n",
      "12. feature 14 (0.004438)\n",
      "13. feature 17 (0.002959)\n",
      "14. feature 2 (0.002219)\n",
      "15. feature 7 (0.002219)\n",
      "16. feature 27 (0.002219)\n",
      "17. feature 24 (0.001479)\n",
      "18. feature 8 (0.000740)\n",
      "19. feature 4 (0.000740)\n",
      "20. feature 28 (0.000000)\n",
      "21. feature 12 (0.000000)\n",
      "22. feature 10 (0.000000)\n",
      "23. feature 9 (0.000000)\n",
      "24. feature 15 (0.000000)\n",
      "25. feature 6 (0.000000)\n",
      "26. feature 26 (0.000000)\n",
      "27. feature 3 (0.000000)\n",
      "28. feature 19 (0.000000)\n",
      "29. feature 20 (0.000000)\n",
      "30. feature 23 (0.000000)\n"
     ]
    }
   ],
   "source": [
    "## importance 1 found above\n",
    "indices_1 = np.argsort(importances_1)[::-1]\n",
    "# Print the feature ranking\n",
    "print(\"Feature ranking:\")\n",
    "for f in range(len(importances_1)):\n",
    "    print(\"%d. feature %d (%f)\" % (f + 1, indices_1[f], importances_1[indices_1[f]]))"
   ]
  },
  {
   "cell_type": "code",
   "execution_count": 39,
   "metadata": {},
   "outputs": [
    {
     "data": {
      "image/png": "[encoded data removed]",
      "text/plain": [
       "<matplotlib.figure.Figure at 0x1171b9610>"
      ]
     },
     "metadata": {},
     "output_type": "display_data"
    }
   ],
   "source": [
    "plt.figure()\n",
    "plt.title(\"Feature importances for X1\")\n",
    "plt.bar(range(len(importances_1)), importances_1[indices_1],\n",
    "       color=\"r\", align=\"center\")\n",
    "plt.xticks(range(len(importances_1)), indices_1)\n",
    "plt.xlim([-1, len(importances_1)])\n",
    "plt.show()"
   ]
  },
  {
   "cell_type": "code",
   "execution_count": 40,
   "metadata": {},
   "outputs": [
    {
     "name": "stdout",
     "output_type": "stream",
     "text": [
      "Feature ranking:\n",
      "1. feature 9 (0.075297)\n",
      "2. feature 4 (0.068692)\n",
      "3. feature 15 (0.067371)\n",
      "4. feature 16 (0.064729)\n",
      "5. feature 11 (0.064729)\n",
      "6. feature 5 (0.063408)\n",
      "7. feature 13 (0.062087)\n",
      "8. feature 18 (0.060766)\n",
      "9. feature 8 (0.058124)\n",
      "10. feature 3 (0.056803)\n",
      "11. feature 7 (0.054161)\n",
      "12. feature 10 (0.052840)\n",
      "13. feature 6 (0.046235)\n",
      "14. feature 0 (0.043593)\n",
      "15. feature 19 (0.042272)\n",
      "16. feature 17 (0.031704)\n",
      "17. feature 1 (0.025099)\n",
      "18. feature 12 (0.023778)\n",
      "19. feature 2 (0.021136)\n",
      "20. feature 14 (0.017173)\n"
     ]
    }
   ],
   "source": [
    "importances_2 = best_XGB.feature_importances_\n",
    "indices_2 = np.argsort(importances_2)[::-1]\n",
    "# Print the feature ranking\n",
    "print(\"Feature ranking:\")\n",
    "for f in range(len(importances_2)):\n",
    "    print(\"%d. feature %d (%f)\" % (f + 1, indices_2[f], importances_2[indices_2[f]]))"
   ]
  },
  {
   "cell_type": "code",
   "execution_count": 41,
   "metadata": {},
   "outputs": [
    {
     "data": {
      "image/png": "[encoded data removed]",
      "text/plain": [
       "<matplotlib.figure.Figure at 0x1171b9110>"
      ]
     },
     "metadata": {},
     "output_type": "display_data"
    }
   ],
   "source": [
    "plt.figure()\n",
    "plt.title(\"Feature importances for X2\")\n",
    "plt.bar(range(len(importances_2)), importances_2[indices_2],\n",
    "       color=\"r\", align=\"center\")\n",
    "plt.xticks(range(len(importances_2)), indices_2)\n",
    "plt.xlim([-1, len(importances_2)])\n",
    "plt.show()"
   ]
  },
  {
   "cell_type": "markdown",
   "metadata": {},
   "source": [
    "## Part 3"
   ]
  },
  {
   "cell_type": "markdown",
   "metadata": {},
   "source": [
    "- For the X1 and Y1 sets, the lowest accuracy percentage came from the Gradient Boosting Decision Trees. This took the most amount of computing time (3.329 seconds to train, compared to both other methods less than a second). What the Gradient Boosting classifier did though that other models did not is isolate variable importance much more accurately. This resulted in 4 variables being the \"most important\" and the other remaining 26 did not receive much weight. This method gave the best result achieved through cross validation because of this. For all of the reseason stated above, the Gradient Boosting Classification was preferred for X1 and Y1.\n",
    "- For the X2 and Y2 training sets, even though there were fewer variables to help train our method, the variable importance was much more spread out over these variables. The best results came from the Random Forest (6.061% misclassification rate) and XG Boost (6.308% misclassification). Of these two methods, the XG Boost completed the task in about 1/4 of the time as the Random Forest while still producing approximately the same result, and for this reason, this was the preferred method for this data set."
   ]
  },
  {
   "cell_type": "markdown",
   "metadata": {},
   "source": [
    "# Question 2: Visualization using Bokeh (10 pts)\n",
    "\n",
    "In this problem, you'll build an interactive visualization. Bokeh is a Python interactive visualization library that targets modern web browsers for presentation. For more information on Bokeh, see http://bokeh.pydata.org/en/latest/. The problem statement is as follows:\n",
    "\n",
    "Using the \"nbasalariesfull.csv\" data set from HMK4, your goal is to build a Bokeh visualization which allows the user to explore how salary (on a log scale) varies with points per game (PSG) and age. You will create a visualization that allows the user to toggle the X axis of a scatter plot between PSG and age, with the y-axis always being log Salary. Also add the hover tool so that if the user hovers over a datapoint in the plot a window pops up that shows the player name, team, position, salary, and the current x variable (PSG or age) depending on the current tab.  Color each point according to a player's position and provide a legend for the colors. Add the ability to Zoom in/out.  Add slight horizontal jitter to a player's age.\n",
    "\n",
    "Hints: \n",
    "1. see: http://bokeh.pydata.org/en/latest/docs/user_guide/tools.html#basic-tooltips for hover and zoom tool examples.\n",
    "2. See: http://bokeh.pydata.org/en/latest/docs/reference/plotting.html. Look for the scatter API.\n",
    "3. See: http://bokeh.pydata.org/en/0.10.0/docs/user_guide/styling.html#labels. For labeling axes.\n",
    "4. See: https://bokeh.pydata.org/en/latest/docs/user_guide/categorical.html  for how to use jitter transform\n",
    "5. See: http://bokeh.pydata.org/en/latest/docs/gallery/iris.html for coloring points by category\n",
    "6. Use output_notebook() from Bokeh to output the plot to your notebook\n",
    "\n",
    "Include an image screenshot in addition to the visualization output."
   ]
  },
  {
   "cell_type": "code",
   "execution_count": 42,
   "metadata": {
    "collapsed": true
   },
   "outputs": [],
   "source": [
    "import warnings\n",
    "warnings.filterwarnings('ignore')\n",
    "\n",
    "import pandas as pd\n",
    "import numpy as np\n",
    "from bokeh.models.widgets import Panel, Tabs\n",
    "from bokeh.models import CustomJS, ColumnDataSource, HoverTool, BoxZoomTool,CategoricalColorMapper\n",
    "from bokeh.transform import jitter\n",
    "from bokeh.plotting import figure, output_notebook, show\n",
    "\n",
    "data = pd.read_csv(\"nbasalariesfull.csv\")\n",
    "data[\"logsalary\"] = data.SALARY.apply(np.log)"
   ]
  },
  {
   "cell_type": "code",
   "execution_count": 43,
   "metadata": {
    "collapsed": true
   },
   "outputs": [],
   "source": [
    "dat = ColumnDataSource(data)\n",
    "hover = HoverTool(\n",
    "        tooltips=[\n",
    "            (\"Player Name\", \"@Player\"),\n",
    "            (\"Team\", \"@Tm\"),\n",
    "            (\"Position\", \"@Pos\"),\n",
    "            (\"Salary\", \"@SALARY\"),\n",
    "            (\"x\",\"$x\")\n",
    "        ]\n",
    "    )"
   ]
  },
  {
   "cell_type": "code",
   "execution_count": 44,
   "metadata": {
    "collapsed": true
   },
   "outputs": [],
   "source": [
    "#https://github.com/bokeh/bokeh/issues/5112\n",
    "color_mapper = CategoricalColorMapper(factors=['PG', 'SG', 'SF','PF','C','PF-C','SG-SF'], \n",
    "                                      palette=['red','blue','darkgreen','orange','aqua','purple','black'])"
   ]
  },
  {
   "cell_type": "code",
   "execution_count": 45,
   "metadata": {},
   "outputs": [
    {
     "data": {
      "text/html": [
       "\n",
       "    <div class=\"bk-root\">\n",
       "        <a href=\"https://bokeh.pydata.org\" target=\"_blank\" class=\"bk-logo bk-logo-small bk-logo-notebook\"></a>\n",
       "        <span id=\"18edb949-bfa5-4fb0-90dc-45479b78706e\">Loading BokehJS ...</span>\n",
       "    </div>"
      ]
     },
     "metadata": {},
     "output_type": "display_data"
    },
    {
     "data": {
      "application/javascript": [
       "\n",
       "(function(root) {\n",
       "  function now() {\n",
       "    return new Date();\n",
       "  }\n",
       "\n",
       "  var force = true;\n",
       "\n",
       "  if (typeof (root._bokeh_onload_callbacks) === \"undefined\" || force === true) {\n",
       "    root._bokeh_onload_callbacks = [];\n",
       "    root._bokeh_is_loading = undefined;\n",
       "  }\n",
       "\n",
       "\n",
       "  \n",
       "  if (typeof (root._bokeh_timeout) === \"undefined\" || force === true) {\n",
       "    root._bokeh_timeout = Date.now() + 5000;\n",
       "    root._bokeh_failed_load = false;\n",
       "  }\n",
       "\n",
       "  var NB_LOAD_WARNING = {'data': {'text/html':\n",
       "     \"<div style='background-color: #fdd'>\\n\"+\n",
       "     \"<p>\\n\"+\n",
       "     \"BokehJS does not appear to have successfully loaded. If loading BokehJS from CDN, this \\n\"+\n",
       "     \"may be due to a slow or bad network connection. Possible fixes:\\n\"+\n",
       "     \"</p>\\n\"+\n",
       "     \"<ul>\\n\"+\n",
       "     \"<li>re-rerun `output_notebook()` to attempt to load from CDN again, or</li>\\n\"+\n",
       "     \"<li>use INLINE resources instead, as so:</li>\\n\"+\n",
       "     \"</ul>\\n\"+\n",
       "     \"<code>\\n\"+\n",
       "     \"from bokeh.resources import INLINE\\n\"+\n",
       "     \"output_notebook(resources=INLINE)\\n\"+\n",
       "     \"</code>\\n\"+\n",
       "     \"</div>\"}};\n",
       "\n",
       "  function display_loaded() {\n",
       "    if (root.Bokeh !== undefined) {\n",
       "      var el = document.getElementById(\"18edb949-bfa5-4fb0-90dc-45479b78706e\");\n",
       "      if (el != null) {\n",
       "        el.textContent = \"BokehJS \" + Bokeh.version + \" successfully loaded.\";\n",
       "      }\n",
       "    } else if (Date.now() < root._bokeh_timeout) {\n",
       "      setTimeout(display_loaded, 100)\n",
       "    }\n",
       "  }\n",
       "\n",
       "\n",
       "  function run_callbacks() {\n",
       "    try {\n",
       "      root._bokeh_onload_callbacks.forEach(function(callback) { callback() });\n",
       "    }\n",
       "    finally {\n",
       "      delete root._bokeh_onload_callbacks\n",
       "    }\n",
       "    console.info(\"Bokeh: all callbacks have finished\");\n",
       "  }\n",
       "\n",
       "  function load_libs(js_urls, callback) {\n",
       "    root._bokeh_onload_callbacks.push(callback);\n",
       "    if (root._bokeh_is_loading > 0) {\n",
       "      console.log(\"Bokeh: BokehJS is being loaded, scheduling callback at\", now());\n",
       "      return null;\n",
       "    }\n",
       "    if (js_urls == null || js_urls.length === 0) {\n",
       "      run_callbacks();\n",
       "      return null;\n",
       "    }\n",
       "    console.log(\"Bokeh: BokehJS not loaded, scheduling load and callback at\", now());\n",
       "    root._bokeh_is_loading = js_urls.length;\n",
       "    for (var i = 0; i < js_urls.length; i++) {\n",
       "      var url = js_urls[i];\n",
       "      var s = document.createElement('script');\n",
       "      s.src = url;\n",
       "      s.async = false;\n",
       "      s.onreadystatechange = s.onload = function() {\n",
       "        root._bokeh_is_loading--;\n",
       "        if (root._bokeh_is_loading === 0) {\n",
       "          console.log(\"Bokeh: all BokehJS libraries loaded\");\n",
       "          run_callbacks()\n",
       "        }\n",
       "      };\n",
       "      s.onerror = function() {\n",
       "        console.warn(\"failed to load library \" + url);\n",
       "      };\n",
       "      console.log(\"Bokeh: injecting script tag for BokehJS library: \", url);\n",
       "      document.getElementsByTagName(\"head\")[0].appendChild(s);\n",
       "    }\n",
       "  };var element = document.getElementById(\"18edb949-bfa5-4fb0-90dc-45479b78706e\");\n",
       "  if (element == null) {\n",
       "    console.log(\"Bokeh: ERROR: autoload.js configured with elementid '18edb949-bfa5-4fb0-90dc-45479b78706e' but no matching script tag was found. \")\n",
       "    return false;\n",
       "  }\n",
       "\n",
       "  var js_urls = [\"https://cdn.pydata.org/bokeh/release/bokeh-0.12.7.min.js\", \"https://cdn.pydata.org/bokeh/release/bokeh-widgets-0.12.7.min.js\", \"https://cdn.pydata.org/bokeh/release/bokeh-tables-0.12.7.min.js\", \"https://cdn.pydata.org/bokeh/release/bokeh-gl-0.12.7.min.js\"];\n",
       "\n",
       "  var inline_js = [\n",
       "    function(Bokeh) {\n",
       "      Bokeh.set_log_level(\"info\");\n",
       "    },\n",
       "    \n",
       "    function(Bokeh) {\n",
       "      \n",
       "    },\n",
       "    \n",
       "    function(Bokeh) {\n",
       "      \n",
       "      document.getElementById(\"18edb949-bfa5-4fb0-90dc-45479b78706e\").textContent = \"BokehJS is loading...\";\n",
       "    },\n",
       "    function(Bokeh) {\n",
       "      console.log(\"Bokeh: injecting CSS: https://cdn.pydata.org/bokeh/release/bokeh-0.12.7.min.css\");\n",
       "      Bokeh.embed.inject_css(\"https://cdn.pydata.org/bokeh/release/bokeh-0.12.7.min.css\");\n",
       "      console.log(\"Bokeh: injecting CSS: https://cdn.pydata.org/bokeh/release/bokeh-widgets-0.12.7.min.css\");\n",
       "      Bokeh.embed.inject_css(\"https://cdn.pydata.org/bokeh/release/bokeh-widgets-0.12.7.min.css\");\n",
       "      console.log(\"Bokeh: injecting CSS: https://cdn.pydata.org/bokeh/release/bokeh-tables-0.12.7.min.css\");\n",
       "      Bokeh.embed.inject_css(\"https://cdn.pydata.org/bokeh/release/bokeh-tables-0.12.7.min.css\");\n",
       "    }\n",
       "  ];\n",
       "\n",
       "  function run_inline_js() {\n",
       "    \n",
       "    if ((root.Bokeh !== undefined) || (force === true)) {\n",
       "      for (var i = 0; i < inline_js.length; i++) {\n",
       "        inline_js[i].call(root, root.Bokeh);\n",
       "      }if (force === true) {\n",
       "        display_loaded();\n",
       "      }} else if (Date.now() < root._bokeh_timeout) {\n",
       "      setTimeout(run_inline_js, 100);\n",
       "    } else if (!root._bokeh_failed_load) {\n",
       "      console.log(\"Bokeh: BokehJS failed to load within specified timeout.\");\n",
       "      root._bokeh_failed_load = true;\n",
       "    } else if (force !== true) {\n",
       "      var cell = $(document.getElementById(\"18edb949-bfa5-4fb0-90dc-45479b78706e\")).parents('.cell').data().cell;\n",
       "      cell.output_area.append_execute_result(NB_LOAD_WARNING)\n",
       "    }\n",
       "\n",
       "  }\n",
       "\n",
       "  if (root._bokeh_is_loading === 0) {\n",
       "    console.log(\"Bokeh: BokehJS loaded, going straight to plotting\");\n",
       "    run_inline_js();\n",
       "  } else {\n",
       "    load_libs(js_urls, function() {\n",
       "      console.log(\"Bokeh: BokehJS plotting callback run at\", now());\n",
       "      run_inline_js();\n",
       "    });\n",
       "  }\n",
       "}(window));"
      ]
     },
     "metadata": {},
     "output_type": "display_data"
    },
    {
     "data": {
      "text/html": [
       "\n",
       "\n",
       "    <div class=\"bk-root\">\n",
       "        <div class=\"bk-plotdiv\" id=\"994e16b0-73d3-4892-988a-cd9c48ee095e\"></div>\n",
       "    </div>\n",
       "<script type=\"text/javascript\">\n",
       "  \n",
       "  (function(root) {\n",
       "    function now() {\n",
       "      return new Date();\n",
       "    }\n",
       "  \n",
       "    var force = false;\n",
       "  \n",
       "    if (typeof (root._bokeh_onload_callbacks) === \"undefined\" || force === true) {\n",
       "      root._bokeh_onload_callbacks = [];\n",
       "      root._bokeh_is_loading = undefined;\n",
       "    }\n",
       "  \n",
       "  \n",
       "    \n",
       "    if (typeof (root._bokeh_timeout) === \"undefined\" || force === true) {\n",
       "      root._bokeh_timeout = Date.now() + 0;\n",
       "      root._bokeh_failed_load = false;\n",
       "    }\n",
       "  \n",
       "    var NB_LOAD_WARNING = {'data': {'text/html':\n",
       "       \"<div style='background-color: #fdd'>\\n\"+\n",
       "       \"<p>\\n\"+\n",
       "       \"BokehJS does not appear to have successfully loaded. If loading BokehJS from CDN, this \\n\"+\n",
       "       \"may be due to a slow or bad network connection. Possible fixes:\\n\"+\n",
       "       \"</p>\\n\"+\n",
       "       \"<ul>\\n\"+\n",
       "       \"<li>re-rerun `output_notebook()` to attempt to load from CDN again, or</li>\\n\"+\n",
       "       \"<li>use INLINE resources instead, as so:</li>\\n\"+\n",
       "       \"</ul>\\n\"+\n",
       "       \"<code>\\n\"+\n",
       "       \"from bokeh.resources import INLINE\\n\"+\n",
       "       \"output_notebook(resources=INLINE)\\n\"+\n",
       "       \"</code>\\n\"+\n",
       "       \"</div>\"}};\n",
       "  \n",
       "    function display_loaded() {\n",
       "      if (root.Bokeh !== undefined) {\n",
       "        var el = document.getElementById(\"994e16b0-73d3-4892-988a-cd9c48ee095e\");\n",
       "        if (el != null) {\n",
       "          el.textContent = \"BokehJS \" + Bokeh.version + \" successfully loaded.\";\n",
       "        }\n",
       "      } else if (Date.now() < root._bokeh_timeout) {\n",
       "        setTimeout(display_loaded, 100)\n",
       "      }\n",
       "    }\n",
       "  \n",
       "  \n",
       "    function run_callbacks() {\n",
       "      try {\n",
       "        root._bokeh_onload_callbacks.forEach(function(callback) { callback() });\n",
       "      }\n",
       "      finally {\n",
       "        delete root._bokeh_onload_callbacks\n",
       "      }\n",
       "      console.info(\"Bokeh: all callbacks have finished\");\n",
       "    }\n",
       "  \n",
       "    function load_libs(js_urls, callback) {\n",
       "      root._bokeh_onload_callbacks.push(callback);\n",
       "      if (root._bokeh_is_loading > 0) {\n",
       "        console.log(\"Bokeh: BokehJS is being loaded, scheduling callback at\", now());\n",
       "        return null;\n",
       "      }\n",
       "      if (js_urls == null || js_urls.length === 0) {\n",
       "        run_callbacks();\n",
       "        return null;\n",
       "      }\n",
       "      console.log(\"Bokeh: BokehJS not loaded, scheduling load and callback at\", now());\n",
       "      root._bokeh_is_loading = js_urls.length;\n",
       "      for (var i = 0; i < js_urls.length; i++) {\n",
       "        var url = js_urls[i];\n",
       "        var s = document.createElement('script');\n",
       "        s.src = url;\n",
       "        s.async = false;\n",
       "        s.onreadystatechange = s.onload = function() {\n",
       "          root._bokeh_is_loading--;\n",
       "          if (root._bokeh_is_loading === 0) {\n",
       "            console.log(\"Bokeh: all BokehJS libraries loaded\");\n",
       "            run_callbacks()\n",
       "          }\n",
       "        };\n",
       "        s.onerror = function() {\n",
       "          console.warn(\"failed to load library \" + url);\n",
       "        };\n",
       "        console.log(\"Bokeh: injecting script tag for BokehJS library: \", url);\n",
       "        document.getElementsByTagName(\"head\")[0].appendChild(s);\n",
       "      }\n",
       "    };var element = document.getElementById(\"994e16b0-73d3-4892-988a-cd9c48ee095e\");\n",
       "    if (element == null) {\n",
       "      console.log(\"Bokeh: ERROR: autoload.js configured with elementid '994e16b0-73d3-4892-988a-cd9c48ee095e' but no matching script tag was found. \")\n",
       "      return false;\n",
       "    }\n",
       "  \n",
       "    var js_urls = [];\n",
       "  \n",
       "    var inline_js = [\n",
       "      function(Bokeh) {\n",
       "        (function() {\n",
       "          var fn = function() {\n",
       "            var docs_json = {\"0ecbfe51-5490-4666-94e9-07d49f36eec4\":{\"roots\":{\"references\":[{\"attributes\":{\"fill_alpha\":{\"value\":0.1},\"fill_color\":{\"value\":\"#1f77b4\"},\"line_alpha\":{\"value\":0.1},\"line_color\":{\"value\":\"#1f77b4\"},\"x\":{\"field\":\"Age\",\"transform\":{\"id\":\"8c54dff0-8090-435f-bd83-de16db9f0c97\",\"type\":\"Jitter\"}},\"y\":{\"field\":\"logsalary\"}},\"id\":\"499d54a5-fef6-4e35-bdf3-ea26ae45c379\",\"type\":\"Circle\"},{\"attributes\":{\"child\":{\"id\":\"e886b86b-7301-47f0-b966-50463d18ec9c\",\"subtype\":\"Figure\",\"type\":\"Plot\"},\"title\":\"PPG\"},\"id\":\"ca034223-a670-4ddc-8fa2-104e7ce7e793\",\"type\":\"Panel\"},{\"attributes\":{\"plot\":null,\"text\":\"\"},\"id\":\"94926c27-826c-4700-9f3f-182dc25dd3bc\",\"type\":\"Title\"},{\"attributes\":{\"plot\":null,\"text\":\"\"},\"id\":\"08809197-c750-48d0-8e3d-52afe7ead836\",\"type\":\"Title\"},{\"attributes\":{\"axis_label\":\"Age\",\"formatter\":{\"id\":\"2767cdc7-da43-43da-bf1c-87b56431929a\",\"type\":\"BasicTickFormatter\"},\"plot\":{\"id\":\"18efa352-1a2c-46c8-9738-b620e587927e\",\"subtype\":\"Figure\",\"type\":\"Plot\"},\"ticker\":{\"id\":\"f1655fa7-de74-4850-b4f8-8b7c6fff9ee1\",\"type\":\"BasicTicker\"}},\"id\":\"43785fe6-4366-40c6-a68d-907ca46dfd55\",\"type\":\"LinearAxis\"},{\"attributes\":{\"callback\":null},\"id\":\"09750401-c516-4a79-b4b6-45754e1b609e\",\"type\":\"DataRange1d\"},{\"attributes\":{\"factors\":[\"PG\",\"SG\",\"SF\",\"PF\",\"C\",\"PF-C\",\"SG-SF\"],\"palette\":[\"red\",\"blue\",\"darkgreen\",\"orange\",\"aqua\",\"purple\",\"black\"]},\"id\":\"4347a93b-1267-419e-8482-100a1b677dad\",\"type\":\"CategoricalColorMapper\"},{\"attributes\":{\"callback\":null},\"id\":\"4684979f-1997-4405-bb7d-a61a3ae7dd10\",\"type\":\"DataRange1d\"},{\"attributes\":{\"child\":{\"id\":\"18efa352-1a2c-46c8-9738-b620e587927e\",\"subtype\":\"Figure\",\"type\":\"Plot\"},\"title\":\"Age\"},\"id\":\"73367bfc-547d-428a-9f90-8011c0a590aa\",\"type\":\"Panel\"},{\"attributes\":{},\"id\":\"e57be68f-4711-4979-aa71-fee7c6daae10\",\"type\":\"LinearScale\"},{\"attributes\":{\"below\":[{\"id\":\"68819838-68fd-42a9-8bd6-e0c4993a16c1\",\"type\":\"LinearAxis\"}],\"left\":[{\"id\":\"287644ec-c69c-4161-a78e-b676fdc9b3cb\",\"type\":\"LinearAxis\"}],\"renderers\":[{\"id\":\"68819838-68fd-42a9-8bd6-e0c4993a16c1\",\"type\":\"LinearAxis\"},{\"id\":\"463273ae-3b13-4715-8931-e99e031fc097\",\"type\":\"Grid\"},{\"id\":\"287644ec-c69c-4161-a78e-b676fdc9b3cb\",\"type\":\"LinearAxis\"},{\"id\":\"97aa50c3-9355-4072-8dab-03203e8e17d6\",\"type\":\"Grid\"},{\"id\":\"fc3da4bd-230d-4499-b08e-a31af783abe6\",\"type\":\"BoxAnnotation\"},{\"id\":\"6af026ff-7d4d-49f4-83a0-7dba020852f9\",\"type\":\"Legend\"},{\"id\":\"5d7693c9-64c5-4cd8-97f8-863cdb1975a3\",\"type\":\"GlyphRenderer\"}],\"title\":{\"id\":\"94926c27-826c-4700-9f3f-182dc25dd3bc\",\"type\":\"Title\"},\"toolbar\":{\"id\":\"d69f4905-1cb3-4da1-9b09-9be8e176a5e9\",\"type\":\"Toolbar\"},\"x_range\":{\"id\":\"1dd38ab5-cad9-40e1-b261-b6c697f78246\",\"type\":\"DataRange1d\"},\"x_scale\":{\"id\":\"25cfe24e-3716-4e05-a065-c504e23c118a\",\"type\":\"LinearScale\"},\"y_range\":{\"id\":\"4684979f-1997-4405-bb7d-a61a3ae7dd10\",\"type\":\"DataRange1d\"},\"y_scale\":{\"id\":\"7f837027-3d27-49ed-84af-5a5b8f27ad66\",\"type\":\"LinearScale\"}},\"id\":\"e886b86b-7301-47f0-b966-50463d18ec9c\",\"subtype\":\"Figure\",\"type\":\"Plot\"},{\"attributes\":{\"source\":{\"id\":\"a8c058e0-ba5d-49a5-83d1-0a93ba17ef72\",\"type\":\"ColumnDataSource\"}},\"id\":\"2a20e745-2608-42bb-abd0-52cd58e337a2\",\"type\":\"CDSView\"},{\"attributes\":{},\"id\":\"bc7cc2da-1f87-4f49-8cbd-8446925f47c1\",\"type\":\"BasicTickFormatter\"},{\"attributes\":{\"data_source\":{\"id\":\"a8c058e0-ba5d-49a5-83d1-0a93ba17ef72\",\"type\":\"ColumnDataSource\"},\"glyph\":{\"id\":\"4da7ec60-3422-47ae-bc29-6c8b2083dff3\",\"type\":\"Circle\"},\"hover_glyph\":null,\"muted_glyph\":null,\"nonselection_glyph\":{\"id\":\"499d54a5-fef6-4e35-bdf3-ea26ae45c379\",\"type\":\"Circle\"},\"selection_glyph\":null,\"view\":{\"id\":\"2943ecae-d662-4e1a-b208-12bc8e9100e2\",\"type\":\"CDSView\"}},\"id\":\"16a12e19-f4cb-47f2-a287-7031d618d6c6\",\"type\":\"GlyphRenderer\"},{\"attributes\":{},\"id\":\"b83d8d3c-1d3e-4ae3-a8ff-5941f0339214\",\"type\":\"BasicTicker\"},{\"attributes\":{\"fill_alpha\":{\"value\":0.1},\"fill_color\":{\"value\":\"#1f77b4\"},\"line_alpha\":{\"value\":0.1},\"line_color\":{\"value\":\"#1f77b4\"},\"x\":{\"field\":\"PSG\"},\"y\":{\"field\":\"logsalary\"}},\"id\":\"9a85ab04-d3af-4068-a4d7-3967c223bfd7\",\"type\":\"Circle\"},{\"attributes\":{\"callback\":null,\"column_names\":[\"FT\",\"3P\",\"TOV\",\"Pos\",\"2PA\",\"Tm\",\"FG\",\"GS\",\"DRB\",\"SALARY\",\"index\",\"AST\",\"PF\",\"FT%\",\"FGA\",\"2P\",\"G\",\"STL\",\"Age\",\"TRB\",\"FTA\",\"eFG%\",\"BLK\",\"FG%\",\"logsalary\",\"3PA\",\"PSG\",\"Player\",\"2P%\",\"MP\",\"ORB\",\"3P%\"],\"data\":{\"2P\":{\"__ndarray__\":\"ZmZmZmZmFEAzMzMzMzMXQGZmZmZmZhxAZmZmZmZmIEAzMzMzMzMhQM3MzMzMzBRAMzMzMzMzIUAzMzMzMzMdQJqZmZmZmRtAmpmZmZmZE0DNzMzMzMwUQM3MzMzMzBJAmpmZmZmZGUDNzMzMzMwgQJqZmZmZmRdAZmZmZmZmGEAzMzMzMzMTQGZmZmZmZhZAZmZmZmZmGkBmZmZmZmYWQJqZmZmZmRdAzczMzMzMEkAzMzMzMzMXQDMzMzMzMxNAZmZmZmZmDkAzMzMzMzMVQM3MzMzMzBRAzczMzMzMHEAzMzMzMzMVQAAAAAAAABRAMzMzMzMzHUBmZmZmZmYSQGZmZmZmZiBAzczMzMzMHEAAAAAAAAAQQAAAAAAAAB5AZmZmZmZmEkBmZmZmZmYWQDMzMzMzMxVAZmZmZmZmGEAAAAAAAAAUQDMzMzMzMxlAzczMzMzMGEBmZmZmZmYYQAAAAAAAAAhAMzMzMzMzG0BmZmZmZmYKQAAAAAAAABJAZmZmZmZmEEAAAAAAAAAMQDMzMzMzMw9AMzMzMzMzGUBmZmZmZmYQQGZmZmZmZhBAzczMzMzMBEDNzMzMzMwaQGZmZmZmZgpAmpmZmZmZEUBmZmZmZmYOQM3MzMzMzAhAZmZmZmZmDkBmZmZmZmYQQGZmZmZmZgpAZmZmZmZmCkDNzMzMzMwWQJqZmZmZmRNAzczMzMzMFkAzMzMzMzMLQDMzMzMzMw9AmpmZmZmZDUBmZmZmZmYOQAAAAAAAAAxAMzMzMzMzEUDNzMzMzMwUQAAAAAAAAAxAMzMzMzMzF0AzMzMzMzMLQGZmZmZmZgpAmpmZmZmZDUDNzMzMzMwUQJqZmZmZmfk/MzMzMzMzC0BmZmZmZmYOQGZmZmZmZhRAzczMzMzMAECamZmZmZkTQDMzMzMzMxFAZmZmZmZmEkDNzMzMzMwUQDMzMzMzMwtAZmZmZmZmCkCamZmZmZkJQGZmZmZmZv4/zczMzMzMFEAAAAAAAAAQQAAAAAAAABJAZmZmZmZmEECamZmZmZkFQM3MzMzMzPw/MzMzMzMz+z+amZmZmZkJQM3MzMzMzAxAMzMzMzMzB0BmZmZmZmYCQGZmZmZmZgZAmpmZmZmZEUBmZmZmZmYKQDMzMzMzMxFAAAAAAAAABECamZmZmZkFQGZmZmZmZhJAmpmZmZmZ8T9mZmZmZmYCQJqZmZmZmQlAMzMzMzMzB0AzMzMzMzMPQJqZmZmZmQVAzczMzMzMDEBmZmZmZmYKQAAAAAAAABBAAAAAAAAABECamZmZmZkBQJqZmZmZmRFAAAAAAAAAEECamZmZmZkRQM3MzMzMzABAZmZmZmZmAkCamZmZmZkNQM3MzMzMzABAZmZmZmZm/j8AAAAAAAAMQDMzMzMzMwNAZmZmZmZm/j9mZmZmZmb+PwAAAAAAAAhAmpmZmZmZDUBmZmZmZmYGQAAAAAAAAARAZmZmZmZmBkAAAAAAAAAAQJqZmZmZmQFAzczMzMzMBECamZmZmZkFQJqZmZmZmQFAmpmZmZmZDUBmZmZmZmb+PwAAAAAAAAhAmpmZmZmZDUBmZmZmZmb2P5qZmZmZmQlAZmZmZmZmCkAAAAAAAAAAQDMzMzMzMwtAmpmZmZmZBUAzMzMzMzMDQGZmZmZmZgZAZmZmZmZmDkDNzMzMzMwEQDMzMzMzM/s/zczMzMzMBEAAAAAAAAAEQGZmZmZmZgZAmpmZmZmZBUCamZmZmZkJQAAAAAAAAAxAzczMzMzMDEBmZmZmZmYGQDMzMzMzMwdAmpmZmZmZBUBmZmZmZmb2P83MzMzMzAhAzczMzMzM/D8zMzMzMzMDQDMzMzMzMwdAmpmZmZmZCUDNzMzMzMwAQGZmZmZmZgJAmpmZmZmZAUBmZmZmZmYKQM3MzMzMzABAmpmZmZmZ+T/NzMzMzMwIQJqZmZmZmQlAZmZmZmZm/j8AAAAAAAAIQJqZmZmZmfk/zczMzMzM/D8zMzMzMzP7P2ZmZmZmZv4/zczMzMzM/D8AAAAAAAAEQGZmZmZmZvY/ZmZmZmZmBkAAAAAAAAAIQGZmZmZmZgJAAAAAAAAA8D9mZmZmZmb2P83MzMzMzOw/zczMzMzMBEDNzMzMzMz8P2ZmZmZmZgZAMzMzMzMz8z/NzMzMzMz0PzMzMzMzM/M/mpmZmZmZCUDNzMzMzMz8PzMzMzMzMwNAzczMzMzMCEAzMzMzMzP7PwAAAAAAAAhAMzMzMzMzB0CamZmZmZkFQDMzMzMzMwdAZmZmZmZm/j+amZmZmZkFQM3MzMzMzPQ/ZmZmZmZm/j8zMzMzMzPzPzMzMzMzMwdAAAAAAAAACECamZmZmZkFQDMzMzMzM/M/zczMzMzM9D8AAAAAAAAEQJqZmZmZmfk/ZmZmZmZm/j9mZmZmZmYCQAAAAAAAAABAZmZmZmZm/j/NzMzMzMwAQDMzMzMzMwNAzczMzMzMBECamZmZmZkFQJqZmZmZmfE/AAAAAAAAAEAAAAAAAAD4P5qZmZmZmfk/zczMzMzM7D9mZmZmZmb2P83MzMzMzPw/AAAAAAAA8D9mZmZmZmYCQAAAAAAAAARAAAAAAAAA+D9mZmZmZmYCQDMzMzMzM/M/mpmZmZmZAUBmZmZmZmb2PwAAAAAAAABAzczMzMzM9D+amZmZmZn5PwAAAAAAAABAMzMzMzMz8z9mZmZmZmbmP5qZmZmZmfE/MzMzMzMz+z/NzMzMzMwAQJqZmZmZmek/MzMzMzMz8z9mZmZmZmYCQJqZmZmZmQFAZmZmZmZm/j8AAAAAAAAEQDMzMzMzMwNAAAAAAAAABECamZmZmZnxP5qZmZmZmdk/AAAAAAAA8D9mZmZmZmYCQDMzMzMzM/s/mpmZmZmZ+T9mZmZmZmb2PwAAAAAAAPg/ZmZmZmZm/j8AAAAAAAD4P83MzMzMzPQ/ZmZmZmZm/j+amZmZmZn5P5qZmZmZmfk/AAAAAAAA+D+amZmZmZn5P5qZmZmZmfE/mpmZmZmZ+T9mZmZmZmbmPwAAAAAAAPA/zczMzMzM/D/NzMzMzMz8PwAAAAAAAPA/MzMzMzMz+z8zMzMzMzPzPwAAAAAAAOA/mpmZmZmZ8T9mZmZmZmb2PzMzMzMzM+M/MzMzMzMz8z/NzMzMzMz0PwAAAAAAAPg/ZmZmZmZm5j8AAAAAAAAAQM3MzMzMzOw/MzMzMzMz8z/NzMzMzMz0P83MzMzMzPw/zczMzMzM7D+amZmZmZnxP83MzMzMzPQ/zczMzMzM9D8AAAAAAADwP83MzMzMzOw/AAAAAAAA+D8zMzMzMzPjPwAAAAAAAPg/AAAAAAAA8D9mZmZmZmb2P5qZmZmZmfE/AAAAAAAA8D/NzMzMzMzsPzMzMzMzM/M/zczMzMzM9D/NzMzMzMz0P5qZmZmZmek/MzMzMzMz4z+amZmZmZnxP2ZmZmZmZvY/AAAAAAAA8D8AAAAAAADgPwAAAAAAAPg/AAAAAAAA4D8zMzMzMzPjPwAAAAAAAPA/AAAAAAAA8D+amZmZmZnJP5qZmZmZmfE/MzMzMzMz8z/NzMzMzMzsPwAAAAAAAOA/AAAAAAAA4D8AAAAAAADwP83MzMzMzOw/mpmZmZmZ6T8AAAAAAADgPzMzMzMzM+M/mpmZmZmZyT9mZmZmZmbmP2ZmZmZmZuY/AAAAAAAA4D8zMzMzMzPjP5qZmZmZmbk/mpmZmZmZyT8AAAAAAADwP83MzMzMzOw/AAAAAAAA8D+amZmZmZnpPzMzMzMzM9M/zczMzMzM7D9mZmZmZmbmP2ZmZmZmZuY/AAAAAAAA4D8AAAAAAADgPzMzMzMzM+M/AAAAAAAA4D8zMzMzMzPjPzMzMzMzM+M/mpmZmZmZyT+amZmZmZnJP5qZmZmZmdk/mpmZmZmZ2T8zMzMzMzPjPwAAAAAAAOA/mpmZmZmZ2T8zMzMzMzPTP5qZmZmZmck/AAAAAAAA4D+amZmZmZnJPzMzMzMzM9M/mpmZmZmZuT+amZmZmZnZPwAAAAAAAAAAAAAAAAAAAAA=\",\"dtype\":\"float64\",\"shape\":[379]},\"2P%\":{\"__ndarray__\":\"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\",\"dtype\":\"float64\",\"shape\":[379]},\"2PA\":{\"__ndarray__\":\"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\",\"dtype\":\"float64\",\"shape\":[379]},\"3P\":{\"__ndarray__\":\"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\",\"dtype\":\"float64\",\"shape\":[379]},\"3P%\":{\"__ndarray__\":\"dJMYBFYO3T9g5dAi2/nWP/hT46WbxNg/HFpkO99P1T8tsp3vp8bTPwAAAAAAANg/I9v5fmq81D9uEoPAyqHVP4xs5/up8dI/WDm0yHa+1z9g5dAi2/nWPzMzMzMzM9s/GARWDi2y1T8cWmQ730/VPyYxCKwcWtw/K4cW2c730z9YObTIdr7XP+Slm8QgsNo/MzMzMzMz0z8DK4cW2c7XPxFYObTIdtY/vHSTGARW1j8lBoGVQ4vUPxfZzvdT49U/sp3vp8ZL1z9YObTIdr7XP1yPwvUoXNc/JzEIrBxaxD9kO99PjZfWP1pkO99Pjdc/bef7qfHS1T/y0k1iEFjZP9Ei2/l+asw/AAAAAAAAAAA9CtejcD3SP8ZLN4lBYMU/+FPjpZvE2D9qvHSTGATWP9Ei2/l+atQ/ppvEILBy0D8bL90kBoHVP/LSTWIQWOU/EoPAyqFF1j+Nl24Sg8DSP2ZmZmZmZt4/HFpkO99P1T8K16NwPQrXPxKDwMqhRdY/mpmZmZmZ2T+amZmZmZnZPwisHFpkO9c/xSCwcmiRzT+0yHa+nxrXP6FFtvP91Ng/+n5qvHST2D9t5/up8dLNPxKDwMqhRdY/cT0K16Nw1T8tsp3vp8bTP2Dl0CLb+dY/FK5H4XoU1j8cWmQ730/VP8P1KFyPwtU/Gy/dJAaB1T8AAAAAAAAAACuHFtnO99M/ppvEILBy0D9qvHSTGATWP0SLbOf7qdk/oUW28/3U2D9MN4lBYOXYP8DKoUW289U/LbKd76fG0z8AAAAAAAAAAOXQItv5fto/AAAAAAAAAADsUbgehevZPxFYObTIdtY/ppvEILBy2D8cWmQ730/VP2Q730+Nl9Y/2/l+arx00z/RItv5fmrUPwAAAAAAAAAAWDm0yHa+1z8RWDm0yHbeP9v5fmq8dNs/d76fGi/d1D8AAAAAAADgP2q8dJMYBNY/Di2yne+n1j9PjZduEoPYP/P91HjpJtk/AAAAAAAAAAAxCKwcWmTTP4/C9Shcj9o/XI/C9Shc1z+TGARWDi3aP7FyaJHtfNc/9ihcj8L12D9PjZduEoPYPylcj8L1KNQ/Gy/dJAaB1T/ufD81XrrZPw0CK4cW2dY/Rrbz/dR40T/l0CLb+X7SP5huEoPAytE/ppvEILBy2D8X2c73U+PVPwAAAAAAAOA/CKwcWmQ71z/2KFyPwvXYP8/3U+Olm9Q/pHA9Ctej2D93vp8aL93UP2q8dJMYBNY/I9v5fmq81D/l0CLb+X7SPw0CK4cW2c4/WDm0yHa+1z8tsp3vp8bTPwAAAAAAAAAAPzVeukkM0j8xCKwcWmTLP7TIdr6fGtc/L90kBoGV0z8zMzMzMzPTP3e+nxov3dQ/z/dT46Wb1D8cWmQ730/VP+xRuB6F69k/mpmZmZmZ2T9OYhBYObTYPyPb+X5qvNQ/xSCwcmiR3T89CtejcD3aP7bz/dR46dY/uB6F61G4zj/FILByaJHVP6AaL90kBtk//dR46SYx2D8/NV66SQzSPzMzMzMzM9s/AAAAAAAAAAAK16NwPQrXP4xs5/up8dI/AAAAAAAAAABFtvP91HjZPwAAAAAAAAAAAAAAAAAAAAD+1HjpJjHQP+j7qfHSTcI/GARWDi2yzT9xPQrXo3DVPw0CK4cW2c4/AAAAAAAAAAAtsp3vp8bTP++nxks3idk/ZDvfT42X1j9SuB6F61HYP9NNYhBYOdQ/QWDl0CLb2T+amZmZmZm5PwAAAAAAAAAAAAAAAAAAAAArhxbZzvfTPwAAAAAAAAAAppvEILBy2D93vp8aL93UPw0CK4cW2dY/VOOlm8Qg2D+7SQwCK4fGP6RwPQrXo9g/AAAAAAAAAABBYOXQItvZP2Q730+Nl9Y/2c73U+Ol0z8AAAAAAAAAAB+F61G4HtU/4XoUrkfh2j9cj8L1KFzPPwAAAAAAAAAAX7pJDAIr1z8AAAAAAAAAALbz/dR46dY/iUFg5dAi0z/l0CLb+X7aP2q8dJMYBNY/dJMYBFYO1T+kcD0K16PYPz0K16NwPdo/HFpkO99P1T9t5/up8dLNP7TIdr6fGtc/0SLb+X5q3D8UrkfhehTWP83MzMzMzNQ/AAAAAAAAAACcxCCwcmjRPwAAAAAAAAAAne+nxks32T946SYxCKzcP3Noke18P9U/AAAAAAAA0D8NAiuHFtnWP/hT46WbxNg/2/l+arx02z9BYOXQItvZPwAAAAAAAAAAAAAAAAAAAAAAAAAAAAAAAAAAAAAAAAAAEVg5tMh21j+DwMqhRbbTP3STGARWDtU/CtejcD0K1z9fukkMAivXPwAAAAAAAAAAAAAAAAAAAACq8dJNYhDIP7x0kxgEVtY/Gy/dJAaB3T8AAAAAAAAAAClcj8L1KNQ/uB6F61G41j9fukkMAivXP0Fg5dAi29E/GARWDi2y1T9Ei2zn+6nRPwAAAAAAAAAAxks3iUFgxT/o+6nx0k3CP4/C9Shcj9I/lkOLbOf70T9KDAIrhxbZP9NNYhBYOdQ/+FPjpZvE2D+8dJMYBFbWP0+Nl24Sg9g/16NwPQrX0z8AAAAAAAAAAAAAAAAAAAAArBxaZDvf1z+Nl24Sg8DSPzMzMzMzM9M/AAAAAAAAAABI4XoUrkfZP+j7qfHSTdI/4XoUrkfh0j8cWmQ730/VPwAAAAAAAAAABFYOLbKdzz9g5dAi2/nePwAAAAAAANg/KVyPwvUozD+yne+nxkvHP/hT46WbxNg/QWDl0CLb2T8AAAAAAAAAAAAAAAAAAAAAAAAAAAAAAACamZmZmZm5PwAAAAAAAAAAAAAAAAAA8D+0yHa+nxrXPwrXo3A9Ctc/+n5qvHST2D8AAAAAAAAAANEi2/l+asw/MQisHFpk0z8j2/l+arzUP5qZmZmZmbk/dJMYBFYOzT+BlUOLbOfTP6abxCCwctg/AAAAAAAAAABt5/up8dLVPyPb+X5qvNQ/HFpkO99P1T/qJjEIrBzSPx+F61G4Ht0/AAAAAAAAAABqvHSTGATWP0W28/3UeNk/AAAAAAAAAAAAAAAAAAAAAOOlm8QgsNI/AAAAAAAAAAAj2/l+arzUP05iEFg5tNg/hxbZzvdT0z9I4XoUrkfBP+XQItv5fto/QWDl0CLb0T9/arx0kxjUPwAAAAAAAAAA6Pup8dJN0j8AAAAAAAAAAFK4HoXrUdg/DQIrhxbZ1j/o+6nx0k3SPwAAAAAAAAAA9ihcj8L10D+kcD0K16PYPy2yne+nxss/xks3iUFgxT+amZmZmZnJPyGwcmiR7dQ/AAAAAAAA0D8hsHJoke3UPwAAAAAAAAAAXI/C9Shczz9kO99PjZfOP7Kd76fGS9c/AAAAAAAAAABKDAIrhxbRPwAAAAAAAAAAAAAAAAAAAAAAAAAAAAAAAC2yne+nxtM/j8L1KFyP2j/RItv5fmrMPwAAAAAAAAAAHFpkO99P1T+Nl24Sg8DSPwAAAAAAAAAA+FPjpZvE2D9GtvP91HjRPwAAAAAAAAAA0SLb+X5qvD/y0k1iEFjlPwAAAAAAAAAAAAAAAAAA0D8X2c73U+PFP4cW2c73U9M/1XjpJjEI1D8AAAAAAAAAAAAAAAAAAMA/lkOLbOf70T/hehSuR+HSPwaBlUOLbNc/0SLb+X5q1D8AAAAAAADQP/LSTWIQWOU/NV66SQwC0z/sUbgehevRPxfZzvdT490/w/UoXI/C1T8AAAAAAAAAABxaZDvfT9U/AAAAAAAAAAAAAAAAAAAAAJhuEoPAytE/AAAAAAAAAAAAAAAAAAAAAAAAAAAAAAAAAAAAAAAAAADFILByaJHNPwAAAAAAAOA/c2iR7Xw/tT/RItv5fmrMPwAAAAAAAAAAAAAAAAAA0D8AAAAAAADgP5qZmZmZmck/mpmZmZmZyT8AAAAAAAAAAAAAAAAAAAAAAAAAAAAAAADRItv5fmq8PxFYObTIds4/AAAAAAAAAADFILByaJHNPwAAAAAAAAAAMzMzMzMz0z8AAAAAAAAAAOj7qfHSTcI/AAAAAAAAAAA=\",\"dtype\":\"float64\",\"shape\":[379]},\"3PA\":{\"__ndarray__\":\"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\",\"dtype\":\"float64\",\"shape\":[379]},\"AST\":{\"__ndarray__\":\"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\",\"dtype\":\"float64\",\"shape\":[379]},\"Age\":{\"__ndarray__\":\"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\",\"dtype\":\"float64\",\"shape\":[379]},\"BLK\":{\"__ndarray__\":\"mpmZmZmZyT8zMzMzMzPjPzMzMzMzM/M/ZmZmZmZm9j8zMzMzMzPjP5qZmZmZmdk/AAAAAAAAAEAzMzMzMzPTPzMzMzMzM9M/mpmZmZmZ2T+amZmZmZm5PzMzMzMzM+M/AAAAAAAA4D8AAAAAAADgPwAAAAAAAPA/MzMzMzMz4z8AAAAAAADgPzMzMzMzM9M/MzMzMzMz4z8zMzMzMzPjP5qZmZmZmek/MzMzMzMz0z8zMzMzMzPTP5qZmZmZmdk/mpmZmZmZ2T+amZmZmZnJPzMzMzMzM+M/MzMzMzMz4z+amZmZmZm5P2ZmZmZmZuY/MzMzMzMz+z+amZmZmZnJP5qZmZmZmfE/mpmZmZmZ8T+amZmZmZnJPzMzMzMzM/M/mpmZmZmZyT9mZmZmZmbmPzMzMzMzM/s/ZmZmZmZm9j8zMzMzMzPTP83MzMzMzPQ/AAAAAAAAAECamZmZmZnJP5qZmZmZmbk/ZmZmZmZm9j8AAAAAAADgP5qZmZmZmek/MzMzMzMz0z8AAAAAAAAAADMzMzMzM9M/mpmZmZmZyT8zMzMzMzPTPzMzMzMzM9M/MzMzMzMz0z8AAAAAAADgPzMzMzMzM+M/AAAAAAAA4D+amZmZmZnJP5qZmZmZmck/AAAAAAAA4D9mZmZmZmb+P5qZmZmZmck/AAAAAAAA4D+amZmZmZkNQJqZmZmZmck/mpmZmZmZ2T+amZmZmZnJP5qZmZmZmbk/ZmZmZmZm9j+amZmZmZnJPzMzMzMzM9M/AAAAAAAA4D+amZmZmZn5PzMzMzMzM9M/zczMzMzM9D+amZmZmZm5P5qZmZmZmck/mpmZmZmZuT8AAAAAAADgPzMzMzMzM+M/mpmZmZmZyT8AAAAAAADgP83MzMzMzPQ/MzMzMzMz0z+amZmZmZnZP5qZmZmZmdk/ZmZmZmZm/j/NzMzMzMzsP5qZmZmZmdk/mpmZmZmZyT8AAAAAAAAAADMzMzMzM9M/zczMzMzM7D8AAAAAAADgP5qZmZmZmck/mpmZmZmZuT+amZmZmZnJPwAAAAAAAOA/ZmZmZmZm5j+amZmZmZnJPwAAAAAAAOA/AAAAAAAA4D8AAAAAAADwPwAAAAAAAOA/mpmZmZmZ6T8zMzMzMzPTP5qZmZmZmdk/mpmZmZmZuT+amZmZmZm5PwAAAAAAAPg/mpmZmZmZyT+amZmZmZnJP5qZmZmZmbk/AAAAAAAAAAAzMzMzMzPTP5qZmZmZmbk/mpmZmZmZuT+amZmZmZm5PzMzMzMzM9M/mpmZmZmZ2T+amZmZmZnJP5qZmZmZmfk/MzMzMzMz4z9mZmZmZmb2PzMzMzMzM+M/AAAAAAAAAAAzMzMzMzPzP5qZmZmZmbk/mpmZmZmZ6T8zMzMzMzPjPwAAAAAAAOA/mpmZmZmZ2T8zMzMzMzPTP5qZmZmZmbk/MzMzMzMz0z8AAAAAAAAAAJqZmZmZmck/mpmZmZmZ+T+amZmZmZm5P5qZmZmZmck/mpmZmZmZ2T+amZmZmZnJP5qZmZmZmbk/mpmZmZmZ8T+amZmZmZm5P2ZmZmZmZuY/AAAAAAAA4D+amZmZmZnZP5qZmZmZmQFAAAAAAAAA8D8zMzMzMzPTP5qZmZmZmek/mpmZmZmZyT+amZmZmZm5P5qZmZmZmbk/AAAAAAAA4D8AAAAAAADgP5qZmZmZmbk/MzMzMzMz0z+amZmZmZnZP5qZmZmZmek/mpmZmZmZ2T/NzMzMzMzsP83MzMzMzPQ/mpmZmZmZ8T+amZmZmZm5PzMzMzMzM9M/mpmZmZmZ2T8zMzMzMzPTPzMzMzMzM9M/MzMzMzMz0z8AAAAAAAAAAJqZmZmZmbk/ZmZmZmZm9j+amZmZmZm5P5qZmZmZmbk/mpmZmZmZyT+amZmZmZnxP5qZmZmZmck/mpmZmZmZyT8zMzMzMzPTPwAAAAAAAOA/mpmZmZmZuT8zMzMzMzPjP5qZmZmZmbk/mpmZmZmZuT+amZmZmZm5PzMzMzMzM9M/mpmZmZmZyT9mZmZmZmbmP5qZmZmZmbk/mpmZmZmZ2T+amZmZmZnxP5qZmZmZmck/AAAAAAAAAACamZmZmZnJP5qZmZmZmbk/mpmZmZmZ6T+amZmZmZnJP2ZmZmZmZuY/MzMzMzMz0z+amZmZmZnJP5qZmZmZmek/zczMzMzM7D+amZmZmZm5PwAAAAAAAOA/ZmZmZmZm5j+amZmZmZm5PzMzMzMzM/M/AAAAAAAA8D+amZmZmZnxP2ZmZmZmZv4/MzMzMzMz0z+amZmZmZnZP5qZmZmZmbk/mpmZmZmZ2T+amZmZmZnZP83MzMzMzPQ/zczMzMzM7D+amZmZmZnJPzMzMzMzM9M/AAAAAAAA4D/NzMzMzMzsP5qZmZmZmdk/mpmZmZmZuT8zMzMzMzPTP5qZmZmZmdk/AAAAAAAA4D8zMzMzMzPTPzMzMzMzM+M/MzMzMzMz0z+amZmZmZnpP5qZmZmZmck/mpmZmZmZuT+amZmZmZnJP5qZmZmZmdk/mpmZmZmZ2T+amZmZmZnJP5qZmZmZmck/MzMzMzMz0z+amZmZmZnZPzMzMzMzM+M/AAAAAAAA4D8AAAAAAADgP5qZmZmZmdk/ZmZmZmZm9j8AAAAAAAAAADMzMzMzM+M/mpmZmZmZ2T+amZmZmZm5PzMzMzMzM9M/AAAAAAAAAACamZmZmZm5P5qZmZmZmbk/mpmZmZmZuT+amZmZmZnpP5qZmZmZmbk/mpmZmZmZyT8zMzMzMzPTP5qZmZmZmfE/mpmZmZmZ2T+amZmZmZnZPwAAAAAAAOA/mpmZmZmZ+T8zMzMzMzPTP5qZmZmZmck/mpmZmZmZ2T+amZmZmZnpPwAAAAAAAOA/MzMzMzMz4z+amZmZmZm5PwAAAAAAAAAAmpmZmZmZ6T8zMzMzMzPjPwAAAAAAAOA/mpmZmZmZ6T8AAAAAAAAAAJqZmZmZmdk/AAAAAAAAAACamZmZmZnJPwAAAAAAAAAAAAAAAAAAAACamZmZmZm5PzMzMzMzM9M/AAAAAAAA8D8AAAAAAADgP5qZmZmZmck/AAAAAAAA8D+amZmZmZnJPwAAAAAAAAAAmpmZmZmZuT8zMzMzMzPTPzMzMzMzM9M/mpmZmZmZyT8AAAAAAAAAADMzMzMzM9M/mpmZmZmZyT8AAAAAAAAAAAAAAAAAAAAAAAAAAAAAAAAAAAAAAADgP5qZmZmZmek/AAAAAAAA4D+amZmZmZm5PwAAAAAAAAAAmpmZmZmZuT+amZmZmZnZP5qZmZmZmbk/AAAAAAAAAAAAAAAAAAAAADMzMzMzM9M/mpmZmZmZyT8zMzMzMzPTP5qZmZmZmdk/AAAAAAAAAAAzMzMzMzPTP5qZmZmZmdk/mpmZmZmZ2T8zMzMzMzPjP5qZmZmZmbk/mpmZmZmZuT+amZmZmZnJPzMzMzMzM9M/mpmZmZmZ2T+amZmZmZnJPwAAAAAAAAAAAAAAAAAAAAAzMzMzMzPTPwAAAAAAAOA/MzMzMzMz0z+amZmZmZnZP5qZmZmZmbk/mpmZmZmZuT+amZmZmZnZP5qZmZmZmbk/mpmZmZmZyT+amZmZmZnJP5qZmZmZmbk/mpmZmZmZyT8AAAAAAAAAAAAAAAAAAAAAAAAAAAAAAAAzMzMzMzPTP5qZmZmZmck/mpmZmZmZuT+amZmZmZnJPwAAAAAAAAAAAAAAAAAAAAAAAAAAAADgP5qZmZmZmdk/mpmZmZmZuT8zMzMzMzPTPwAAAAAAAAAAmpmZmZmZyT+amZmZmZnJP5qZmZmZmck/AAAAAAAAAACamZmZmZnJPwAAAAAAAAAAmpmZmZmZyT8AAAAAAAAAAAAAAAAAAAAAAAAAAAAAAAAAAAAAAAAAAJqZmZmZmbk/AAAAAAAAAACamZmZmZm5P2ZmZmZmZuY/AAAAAAAAAAAAAAAAAAAAAAAAAAAAAAAAAAAAAAAAAAAAAAAAAAAAADMzMzMzM+M/AAAAAAAAAACamZmZmZnJP5qZmZmZmck/AAAAAAAAAAA=\",\"dtype\":\"float64\",\"shape\":[379]},\"DRB\":{\"__ndarray__\":\"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\",\"dtype\":\"float64\",\"shape\":[379]},\"FG\":{\"__ndarray__\":\"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\",\"dtype\":\"float64\",\"shape\":[379]},\"FG%\":{\"__ndarray__\":\"VOOlm8Qg4D9/arx0kxjcPylcj8L1KOA/d76fGi/d3D+kcD0K16PgPzeJQWDl0No/WmQ730+N3z8lBoGVQ4vcP3STGARWDt0/jZduEoPA2j8xCKwcWmTbPxSuR+F6FN4/LbKd76fG2z9WDi2yne/fP/7UeOkmMeA/dJMYBFYO3T+IFtnO91PbP3jpJjEIrNw/xks3iUFg3T/KoUW28/3cP4lBYOXQIts/g8DKoUW22z946SYxCKzcP4/C9Shcj9o/PQrXo3A92j/FILByaJHdPxfZzvdT490/yXa+nxov3T8tsp3vp8bbP3jpJjEIrNw/8tJNYhBY4T/RItv5fmrcP1K4HoXrUeA/0SLb+X5q4D+28/3UeOnWP6jGSzeJQeA/I9v5fmq83D9uEoPAyqHdPxSuR+F6FN4//tR46SYx4D9/arx0kxjcPxgEVg4tst0/arx0kxgE3j+IFtnO91PbP7gehetRuN4/eekmMQis4D83iUFg5dDaP9R46SYxCNw/f2q8dJMY3D/FILByaJHdPzZeukkMAts/ZmZmZmZm3j/P91PjpZvcP4PAyqFFtts/jZduEoPA2j+mm8QgsHLgP90kBoGVQ9s/arx0kxgE3j/hehSuR+HaP+F6FK5H4do/2s73U+Ol2z+MbOf7qfHaP0Fg5dAi29k/JjEIrBxa3D8xCKwcWmTjP7tJDAIrh94/WmQ730+N3z/l0CLb+X7aP7TIdr6fGt8/XI/C9Shc3z8hsHJoke3cP99PjZduEts/iBbZzvdT2z/Xo3A9CtfjP7FyaJHtfN8/v58aL90k4j89CtejcD3aPz0K16NwPdo/JjEIrBxa3D9OYhBYObTgP6RwPQrXo9g/oBov3SQG2T+yne+nxkvXPxSuR+F6FOI/OrTIdr6f2j8830+Nl27iPx1aZDvfT+E/Di2yne+n3j9BYOXQItvhPx+F61G4Ht0/arx0kxgE3j9/arx0kxjcP4gW2c73U9s/CtejcD0K3z8zMzMzMzPbP1pkO99Pjd8/dJMYBFYO3T9jEFg5tMjeP5MYBFYOLdo/QDVeukkM2j9t5/up8dLdP4XrUbgehds/ku18PzVe2j8hsHJoke3cP9NNYhBYOdw/IbByaJHt3D82XrpJDALbP9v5fmq8dNs/g8DKoUW22z/Jdr6fGi/dP3npJjEIrOA/CtejcD0K1z9MN4lBYOXYP4xs5/up8do/JQaBlUOL3D+BlUOLbOfbPzvfT42Xbto/7FG4HoXr2T/D9Shcj8LdP8l2vp8aL90/iUFg5dAi2z89CtejcD3aP3Noke18P+E/16NwPQrX2z+sHFpkO9/fPzq0yHa+n9o/TmIQWDm02D+gGi/dJAbhP1YOLbKd79c//Knx0k1i2D/8qfHSTWLgPx+F61G4Ht0/LbKd76fG2z8v3SQGgZXbPxKDwMqhRd4/mG4Sg8DK4T/D9Shcj8LdP++nxks3idk/N4lBYOXQ2j/vp8ZLN4nZP8qhRbbz/dw/dJMYBFYO3T+WQ4ts5/vZPyGwcmiR7dw/DAIrhxbZ4j8DK4cW2c7XPxKDwMqhRd4/nMQgsHJo4T/Xo3A9CtfbPxbZzvdT4+E/UI2XbhKD4D8Sg8DKoUXWP99PjZduEts/5KWbxCCw2j/UeOkmMQjcPzvfT42Xbto//tR46SYx4D93vp8aL93cP+j7qfHSTdo/f2q8dJMY3D+0yHa+nxrfPyGwcmiR7dw/zczMzMzM3D8hsHJoke3gPwisHFpkO98/okW28/3U4D9/arx0kxjcP23n+6nx0t0/YxBYObTI3j+kcD0K16PYPxxaZDvfT90/eOkmMQis3D9uEoPAyqHVP2MQWDm0yN4/5KWbxCCw2j99PzVeukncPyyHFtnO99s/AAAAAAAA2D8EVg4tsp3jP+j7qfHSTdo/ZDvfT42X3j/RItv5fmrgP8uhRbbz/eA/2/l+arx02z83iUFg5dDiP0w3iUFg5dg/WmQ730+N1z/GSzeJQWDdP/P91HjpJtk/z/dT46Wb3D8hsHJoke3cP+xRuB6F69k/w/UoXI/C3T+4HoXrUbjiP30/NV66Sdw/ZmZmZmZm1j9FtvP91HjZPxgEVg4tstU/xCCwcmiR4T/6fmq8dJPYPw4tsp3vp+I/PQrXo3A92j9kO99PjZfeP6rx0k1iENg/CtejcD0K3z9Ei2zn+6nZP9rO91Pjpds/cT0K16Nw4T82XrpJDALbPzq0yHa+n+I/arx0kxgE4j/vp8ZLN4nhPz81XrpJDOI/ZDvfT42X3j+IFtnO91PbP1pkO99Pjdc/v58aL90k3j/l0CLb+X7aP++nxks3ieU/oBov3SQG4T8fhetRuB7dP6FFtvP91Ng/IbByaJHt3D9aZDvfT43jPz0K16NwPdo/xSCwcmiR3T93vp8aL93gP7x0kxgEVt4/KVyPwvUo4D82XrpJDALbPylcj8L1KOA/9P3UeOkm4T8UrkfhehTiP7gehetRuNY/f2q8dJMY3D/AyqFFtvPdP3e+nxov3dw/1HjpJjEI3D+DwMqhRbbbP9R46SYxCNw/CKwcWmQ71z8RWDm0yHbePxFYObTIdt4/7FG4HoXr2T9cj8L1KFzfPxFYObTIdtY/JjEIrBxa3D8v3SQGgZXbP3Noke18P90/Vg4tsp3v1z/z/dR46SbZP23n+6nx0t0/d76fGi/d1D8RWDm0yHbeP5ZDi2zn+9k/ne+nxks32T+mm8QgsHLgP+kmMQisHNo/iUFg5dAi2z8j2/l+arzgP99PjZduEuM/sp3vp8ZL4z93vp8aL93gP1CNl24Sg+A/qvHSTWIQ5D8DK4cW2c7XP05iEFg5tNg/wMqhRbbz3T8IrBxaZDvjP30/NV66Sdw/ZmZmZmZm3j89CtejcD3aP7tJDAIrh9Y/EVg5tMh23j9YObTIdr7fP0Fg5dAi29k/E4PAyqFF4j8tsp3vp8bbP8DKoUW2890/I9v5fmq83D/6fmq8dJPgP4GVQ4ts59s/UrgehetR2D+hRbbz/dTYPzvfT42Xbto/T42XbhKD2D/P91PjpZvcP8DKoUW289U/yXa+nxov4T/P91PjpZvcP90kBoGVQ9s/YOXQItv51j8EVg4tsp3XP4gW2c73U9s/16NwPQrX2z/RItv5fmrcP3STGARWDuE/16NwPQrX0z8AAAAAAADwP5zEILByaNk/eOkmMQis3D9MN4lBYOXgPz0K16NwPdo/lkOLbOf72T/NzMzMzMzcP7FyaJHtfNc/iUFg5dAi2z/2KFyPwvXQP7Kd76fGS9c/bef7qfHS4T9uEoPAyqHVP8/3U+Olm+Q/AyuHFtnO1z+MbOf7qfHaP4/C9Shcj9o/HFpkO99P1T+q8dJNYhDYPzvfT42Xbto/mG4Sg8DK4T/Xo3A9CtfjP0w3iUFg5dg/f2q8dJMY3D+kcD0K16PYPxSuR+F6FN4/YxBYObTI3j+F61G4HoXTPwAAAAAAAOg/UrgehetR2D9YObTIdr7XP+Slm8QgsNo/zczMzMzM3D/kpZvEILDaP5MYBFYOLdo/w/UoXI/C3T97FK5H4XrUP7FyaJHtfNc/sp3vp8ZL1z+IFtnO91PbP3sUrkfhetQ/BoGVQ4ts1z9WDi2yne/XP6abxCCwctg/g8DKoUW20z/y0k1iEFjhP3e+nxov3dw/7FG4HoXr2T+XbhKDwMrZP9Ei2/l+atw/l24Sg8DK2T+6SQwCK4fiPycxCKwcWuQ/ku18PzVe2j/GSzeJQWDdPxxaZDvfT9U/KVyPwvUo3D+28/3UeOnWP05iEFg5tOA/cT0K16Nw4T8RWDm0yHbWPxODwMqhReI/PzVeukkM0j/vp8ZLN4nRPzMzMzMzM+M/mpmZmZmZyT+amZmZmZnZPycxCKwcWtQ/pHA9Ctej2D9kO99PjZfeP7Kd76fGS9c/AAAAAAAA0D+iRbbz/dTQP/YoXI/C9dA/mpmZmZmZ2T8v3SQGgZXTPzMzMzMzM+M/okW28/3U0D8hsHJoke3gP3Noke18P7U/AAAAAAAAAAA=\",\"dtype\":\"float64\",\"shape\":[379]},\"FGA\":{\"__ndarray__\":\"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\",\"dtype\":\"float64\",\"shape\":[379]},\"FT\":{\"__ndarray__\":\"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\",\"dtype\":\"float64\",\"shape\":[379]},\"FT%\":{\"__ndarray__\":\"dJMYBFYO7T+F61G4HoXrPyPb+X5qvOw/YOXQItv55j8xCKwcWmTnPyUGgZVDi+w/qMZLN4lB6D8zMzMzMzPrP5ZDi2zn++k/hetRuB6F6z+sHFpkO9/rP1YOLbKd7+s/u0kMAiuH6j/dJAaBlUPnPyyHFtnO9+s/OrTIdr6f6j+0yHa+nxrrPxFYObTIduo/JjEIrBxa6D9Ei2zn+6npPxxaZDvfT+k/ku18PzVe6j9SuB6F61HsP90kBoGVQ+s/LbKd76fG6z946SYxCKzsP3E9CtejcOk/xks3iUFg6T/azvdT46XrP/p+arx0k+w/wMqhRbbz6T/RItv5fmrsP39qvHSTGOg/2/l+arx06z8730+Nl27qP8DKoUW28+U/JQaBlUOL6D/2KFyPwvXoP9NNYhBYOeg/X7pJDAIr5z9g5dAi2/nqP7tJDAIrh+o/8tJNYhBY6T/GSzeJQWDpP9Ei2/l+auw/uB6F61G41j/o+6nx0k3qP4/C9Shcj+o/YxBYObTI6j+Nl24Sg8DqP+Slm8QgsOo/Rbbz/dR46T/2KFyPwvXoP0W28/3UeOk/0SLb+X5q7D/P91PjpZvkP1+6SQwCK+s/ZDvfT42X6j/AyqFFtvPpP4XrUbgehes/l24Sg8DK6T83iUFg5dDqPyGwcmiR7ew/PQrXo3A96j/NzMzMzMzkP90kBoGVQ+c/+n5qvHST6D8DK4cW2c7rP9v5fmq8dOs/EoPAyqFF5j/GSzeJQWDpP+F6FK5H4eo/8/3UeOkm6T+yne+nxkvfPxfZzvdT4+U/j8L1KFyP5j+q8dJNYhDoPy/dJAaBlec/4XoUrkfh6j+hRbbz/dToPxxaZDvfT+k/+n5qvHST7D9xPQrXo3DlPyYxCKwcWug/dJMYBFYO6T8bL90kBoHpPxSuR+F6FOY/qvHSTWIQ6D8EVg4tsp3jPylcj8L1KOg/PQrXo3A96j9kO99PjZfqP/hT46WbxOg/+FPjpZvE5D+F61G4HoXnP1K4HoXrUeg/j8L1KFyP4j8j2/l+arzkPwAAAAAAAOg/bef7qfHS6T8mMQisHFroP9ejcD0K1+c/FK5H4XoU6j8OLbKd76fqPxSuR+F6FOo/IbByaJHt5D/y0k1iEFjlP+F6FK5H4eY/Di2yne+n6j946SYxCKzsP+F6FK5H4eI/Di2yne+n6j8zMzMzMzPjPxxaZDvfT+k/eOkmMQis6D8MAiuHFtniP7+fGi/dJOo/mpmZmZmZ6T+mm8QgsHLoPxFYObTIduo/30+Nl24S5z86tMh2vp/qP3E9CtejcOk/exSuR+F65D/dJAaBlUPnPy/dJAaBlec/Di2yne+n6j8RWDm0yHbqP7TIdr6fGus/7nw/NV666T/AyqFFtvPpPwAAAAAAAOg/bef7qfHS5T9I4XoUrkfpP/3UeOkmMeg/WmQ730+N5z9cj8L1KFzrPzeJQWDl0OY/dJMYBFYO5T+JQWDl0CLrP2q8dJMYBOo/DQIrhxbZ6j+0yHa+nxrrPwaBlUOLbOs/YxBYObTI4j97FK5H4XrsP8ZLN4lBYOU/5dAi2/l+4j8OLbKd76fqP2iR7Xw/NeI/JQaBlUOL5D93vp8aL93oP7Kd76fGS+c/xSCwcmiR5T+XbhKDwMrlP7tJDAIrh+o/YxBYObTI5j/dJAaBlUPnP4lBYOXQIus/JQaBlUOL6D8bL90kBoHpP3Noke18P+U/CKwcWmQ75z9U46WbxCDoPxFYObTIduY/v58aL90k5j8EVg4tsp3nP/p+arx0k+g//Knx0k1i6D946SYxCKzoP3e+nxov3eQ/JjEIrBxa6D8dWmQ730/hP0oMAiuHFuk/g8DKoUW24z8GgZVDi2zrP/YoXI/C9ew/SgwCK4cW6T86tMh2vp/iP6wcWmQ73+c/hetRuB6F5z/4U+Olm8TsP9Ei2/l+aug/YOXQItv55j+DwMqhRbbjPwaBlUOLbOs/BoGVQ4ts6z8AAAAAAADsP1TjpZvEIOg/30+Nl24S5z8pXI/C9SjoP9rO91Pjpes/qvHSTWIQ6D89CtejcD3iP6FFtvP91Og/AAAAAAAA8D+yne+nxkvnP7tJDAIrh+o/CtejcD0K6z8AAAAAAADoP9ejcD0K1+M/SgwCK4cW6T+F61G4HoXnP9rO91Pjpec/l24Sg8DK6T9PjZduEoPoP2ZmZmZmZuo/ne+nxks36T/2KFyPwvXoP6jGSzeJQdg/I9v5fmq85D/2KFyPwvXgP+F6FK5H4eI/2c73U+Ol4z/dJAaBlUPnPzEIrBxaZOc/H4XrUbge6T+yne+nxkvrP/LSTWIQWOE/76fGSzeJ4T9mZmZmZmbqPw4tsp3vp+o/8tJNYhBY5T8W2c73U+PhP++nxks3iek/DQIrhxbZ6j8v3SQGgZXnP4GVQ4ts5+M/1XjpJjEI5D8X2c73U+PlP6abxCCwcug/hetRuB6F6z+28/3UeOnmP8qhRbbz/eg/JQaBlUOL5D+cxCCwcmjpPz0K16NwPeY/BoGVQ4ts6z+gGi/dJAbtPz0K16NwPeY/kxgEVg4t6j8UrkfhehTqPw0CK4cW2eo/ZDvfT42X6j9xPQrXo3DlP5LtfD81Xuo/bef7qfHS6T8tsp3vp8bnP2MQWDm0yOY/SgwCK4cW6T/AyqFFtvPlPwisHFpkO+c/30+Nl24S6z+YbhKDwMrhP/hT46WbxOA/9ihcj8L16D9ANV66SQzmPwMrhxbZzuc/wMqhRbbz6T9qvHSTGATqPw0CK4cW2eY/0SLb+X5q6D+XbhKDwMrlPylcj8L1KOQ/uB6F61G43j9KDAIrhxbtP1g5tMh2vuM/3SQGgZVD5z8830+Nl27iP8qhRbbz/eQ/ke18PzVe4j/y0k1iEFjpPzzfT42XbuI/JQaBlUOL6D9aZDvfT43jP2Q730+Nl94/cT0K16Nw4T/NzMzMzMzsP4GVQ4ts5+c/hetRuB6F5z/y0k1iEFjlPwAAAAAAAOg/mpmZmZmZ6T+amZmZmZnpP6AaL90kBuk/sp3vp8ZL3z8v3SQGgZXbP4GVQ4ts5+s/iBbZzvdT5z8GgZVDi2zrP7TIdr6fGuc/YOXQItv55j/sUbgehevlP/p+arx0k+Q/EoPAyqFF5j8OLbKd76fqP3E9CtejcOE/MzMzMzMz6z8AAAAAAAAAADMzMzMzM+c/z/dT46Wb7D9pke18PzXmPzvfT42Xbuo/mpmZmZmZ6T8tsp3vp8bnP5qZmZmZmek/Di2yne+n6j8AAAAAAADoP7+fGi/dJOY/AAAAAAAA6D/b+X5qvHTnP05iEFg5tOA/ZmZmZmZm5j/Xo3A9CtfnPwIrhxbZzuM/MzMzMzMz4z99PzVeuknoP3STGARWDuU/DQIrhxbZ5j8CK4cW2c7jP0oMAiuHFuU/QWDl0CLb7T+kcD0K16PgP/LSTWIQWOU/u0kMAiuH5j+amZmZmZnpPwAAAAAAAAAAarx0kxgE7j/sUbgehevpP/p+arx0k+Q/AAAAAAAA6D8AAAAAAAAAAPLSTWIQWOU/AAAAAAAA8D/6fmq8dJPkPwaBlUOLbOs/+n5qvHST5D97FK5H4XrkPwAAAAAAAOg/IbByaJHt5D8AAAAAAADsP3STGARWDuE/AAAAAAAA8D8NAiuHFtnmP7gehetRuOI/7nw/NV667T+amZmZmZnpPwAAAAAAAPA/AAAAAAAA8D8AAAAAAADYP3STGARWDuE/pHA9Ctej2D/o+6nx0k3mPwaBlUOLbOs/AAAAAAAA8D/P91PjpZvgPwAAAAAAAPA/SgwCK4cW7T8AAAAAAADsPwAAAAAAAAAAtMh2vp8a5z+amZmZmZnpPwAAAAAAAPA/AAAAAAAA6D+amZmZmZnpP65H4XoUruM/AAAAAAAA8D+amZmZmZnZPwAAAAAAAOA/AAAAAAAA8D8AAAAAAADoPwAAAAAAAPA/AAAAAAAAAAAAAAAAAADQPwAAAAAAAOg/5KWbxCCw2j8fhetRuB7dPwAAAAAAAAAAAAAAAAAAAAA=\",\"dtype\":\"float64\",\"shape\":[379]},\"FTA\":{\"__ndarray__\":\"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\",\"dtype\":\"float64\",\"shape\":[379]},\"G\":{\"__ndarray__\":\"AAAAAADAU0AAAAAAAIBUQAAAAAAAAFJAAAAAAABAUEAAAAAAAABTQAAAAAAAwFJAAAAAAACATkAAAAAAAIBTQAAAAAAAAFRAAAAAAABAVEAAAAAAAIBUQAAAAAAAAFRAAAAAAAAAUkAAAAAAAIBBQAAAAAAAAFJAAAAAAADAUEAAAAAAAEBUQAAAAAAAAFRAAAAAAABAVEAAAAAAAAA/QAAAAAAAQFNAAAAAAAAAVEAAAAAAAIBKQAAAAAAAAEpAAAAAAACASkAAAAAAAIBSQAAAAAAAgEpAAAAAAACAUkAAAAAAAMBTQAAAAAAAwFJAAAAAAACAVEAAAAAAAMBTQAAAAAAAQFBAAAAAAACAUkAAAAAAAIBQQAAAAAAAgEpAAAAAAACAS0AAAAAAAIBRQAAAAAAAQFRAAAAAAAAAVEAAAAAAAEBQQAAAAAAAAEpAAAAAAAAAUkAAAAAAAIBQQAAAAAAAwFJAAAAAAABAVEAAAAAAAEBTQAAAAAAAAFJAAAAAAADAU0AAAAAAAMBTQAAAAAAAAExAAAAAAAAAUUAAAAAAAABTQAAAAAAAADlAAAAAAACARkAAAAAAAEBSQAAAAAAAgFFAAAAAAAAAU0AAAAAAAABTQAAAAAAAwFNAAAAAAACAVEAAAAAAAABSQAAAAAAAwFNAAAAAAABAUkAAAAAAAEBSQAAAAAAAAFJAAAAAAAAAU0AAAAAAAEBQQAAAAAAAgFJAAAAAAABAVEAAAAAAAIBUQAAAAAAAAFNAAAAAAABAVEAAAAAAAMBRQAAAAAAAgE5AAAAAAADAUkAAAAAAAAA/QAAAAAAAAFRAAAAAAADAUUAAAAAAAAA0QAAAAAAAwFBAAAAAAAAAQEAAAAAAAABRQAAAAAAAAE5AAAAAAABAVEAAAAAAAIBUQAAAAAAAABxAAAAAAACAU0AAAAAAAMBQQAAAAAAAgFJAAAAAAAAAU0AAAAAAAEBUQAAAAAAAwFNAAAAAAACAR0AAAAAAAABQQAAAAAAAAFJAAAAAAAAAUkAAAAAAAEBRQAAAAAAAAFBAAAAAAACAUEAAAAAAAIBQQAAAAAAAAFRAAAAAAACAU0AAAAAAAEBUQAAAAAAAwFJAAAAAAAAAS0AAAAAAAAAmQAAAAAAAQFRAAAAAAADAU0AAAAAAAAA/QAAAAAAAwFBAAAAAAABAU0AAAAAAAAA6QAAAAAAAAFRAAAAAAACAUkAAAAAAAEBSQAAAAAAAAFBAAAAAAACARkAAAAAAAIBUQAAAAAAAQFRAAAAAAACAUkAAAAAAAIBOQAAAAAAAgFRAAAAAAABAVEAAAAAAAABOQAAAAAAAgFRAAAAAAAAAUUAAAAAAAIBUQAAAAAAAAFNAAAAAAAAAU0AAAAAAAABUQAAAAAAAQFFAAAAAAADAUUAAAAAAAEBSQAAAAAAAgFRAAAAAAAAAQkAAAAAAAABEQAAAAAAAgFNAAAAAAABAU0AAAAAAAIBOQAAAAAAAAE1AAAAAAADAU0AAAAAAAABUQAAAAAAAQFRAAAAAAADAUUAAAAAAAIBLQAAAAAAAgFNAAAAAAACATEAAAAAAAABUQAAAAAAAgE5AAAAAAACAVEAAAAAAAIBOQAAAAAAAgFNAAAAAAACATEAAAAAAAMBQQAAAAAAAAE1AAAAAAABAUkAAAAAAAIBQQAAAAAAAgE5AAAAAAAAAUkAAAAAAAABCQAAAAAAAAElAAAAAAAAAU0AAAAAAAEBSQAAAAAAAgE5AAAAAAABAUkAAAAAAAABKQAAAAAAAAFNAAAAAAADAUEAAAAAAAEBSQAAAAAAAAFBAAAAAAACATkAAAAAAAAAgQAAAAAAAQFFAAAAAAAAAQEAAAAAAAIBNQAAAAAAAgERAAAAAAABAUkAAAAAAAABUQAAAAAAAgFRAAAAAAABAVEAAAAAAAIBNQAAAAAAAgEtAAAAAAAAAUUAAAAAAAIBUQAAAAAAAAFNAAAAAAACAQ0AAAAAAAABSQAAAAAAAgFRAAAAAAAAAUEAAAAAAAIBRQAAAAAAAAFNAAAAAAACAU0AAAAAAAMBTQAAAAAAAgFNAAAAAAAAACEAAAAAAAABUQAAAAAAAAEtAAAAAAACAUEAAAAAAAIBUQAAAAAAAgFBAAAAAAAAAP0AAAAAAAAA2QAAAAAAAwFNAAAAAAAAAU0AAAAAAAEBRQAAAAAAAAFJAAAAAAACAU0AAAAAAAIBHQAAAAAAAQFNAAAAAAACAUEAAAAAAAABHQAAAAAAAgExAAAAAAABAUEAAAAAAAABPQAAAAAAAAEhAAAAAAAAATEAAAAAAAMBTQAAAAAAAAChAAAAAAACAU0AAAAAAAABHQAAAAAAAAE5AAAAAAAAASkAAAAAAAEBUQAAAAAAAgEpAAAAAAAAAUUAAAAAAAABTQAAAAAAAgFNAAAAAAADAUkAAAAAAAIBTQAAAAAAAQFRAAAAAAACAU0AAAAAAAABTQAAAAAAAgFBAAAAAAACAQkAAAAAAAMBSQAAAAAAAAFRAAAAAAACAUUAAAAAAAMBTQAAAAAAAAFRAAAAAAAAAUUAAAAAAAABOQAAAAAAAgE1AAAAAAACATEAAAAAAAMBTQAAAAAAAQFRAAAAAAABAVEAAAAAAAEBUQAAAAAAAAD1AAAAAAAAAS0AAAAAAAIBQQAAAAAAAADtAAAAAAAAAN0AAAAAAAIBFQAAAAAAAACxAAAAAAAAAU0AAAAAAAIBJQAAAAAAAAFFAAAAAAACASEAAAAAAAABCQAAAAAAAAE5AAAAAAAAAS0AAAAAAAIBPQAAAAAAAwFNAAAAAAACAUUAAAAAAAABQQAAAAAAAAFJAAAAAAAAATkAAAAAAAIBOQAAAAAAAQFJAAAAAAACATEAAAAAAAIBMQAAAAAAAAChAAAAAAABAUEAAAAAAAIBRQAAAAAAAADhAAAAAAACAQ0AAAAAAAABGQAAAAAAAgFNAAAAAAAAAR0AAAAAAAEBSQAAAAAAAADZAAAAAAAAAKEAAAAAAAABNQAAAAAAAgFNAAAAAAAAAPUAAAAAAAMBRQAAAAAAAgEBAAAAAAACASUAAAAAAAIBNQAAAAAAAQFRAAAAAAACAQkAAAAAAAABCQAAAAAAAAFJAAAAAAACAUEAAAAAAAIBFQAAAAAAAAFFAAAAAAAAAPUAAAAAAAADwPwAAAAAAAENAAAAAAACASUAAAAAAAAA7QAAAAAAAAEhAAAAAAACAS0AAAAAAAAA7QAAAAAAAgERAAAAAAAAAMUAAAAAAAAAcQAAAAAAAAD5AAAAAAACAQ0AAAAAAAIBLQAAAAAAAgENAAAAAAAAARUAAAAAAAIBTQAAAAAAAADFAAAAAAAAAAEAAAAAAAIBJQAAAAAAAADlAAAAAAAAAP0AAAAAAAIBCQAAAAAAAAFFAAAAAAACAQkAAAAAAAAA3QAAAAAAAAENAAAAAAACAR0AAAAAAAIBRQAAAAAAAAABAAAAAAAAAR0AAAAAAAIBRQAAAAAAAACRAAAAAAAAAIEAAAAAAAAAUQAAAAAAAACBAAAAAAAAAMEAAAAAAAAA+QAAAAAAAAEJAAAAAAAAAOkAAAAAAAIBKQAAAAAAAACBAAAAAAAAASkAAAAAAAIBNQAAAAAAAgEVAAAAAAAAAOkAAAAAAAAA+QAAAAAAAAEZAAAAAAAAAREAAAAAAAIBCQAAAAAAAACRAAAAAAACAQEAAAAAAAAAmQAAAAAAAAD1AAAAAAAAAPUAAAAAAAIBNQAAAAAAAADhAAAAAAAAAKEAAAAAAAAA9QAAAAAAAADFAAAAAAAAAKEAAAAAAAAA0QAAAAAAAABRAAAAAAAAANEAAAAAAAIBDQAAAAAAAABRAAAAAAAAAFEAAAAAAAAAYQAAAAAAAAC5AAAAAAAAAIkAAAAAAAAA0QAAAAAAAADBAAAAAAAAAFEAAAAAAAAAoQAAAAAAAAEFAAAAAAAAAIEAAAAAAAAA9QAAAAAAAADNAAAAAAAAANUAAAAAAAAA5QAAAAAAAABhAAAAAAAAACEA=\",\"dtype\":\"float64\",\"shape\":[379]},\"GS\":{\"__ndarray__\":\"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\",\"dtype\":\"float64\",\"shape\":[379]},\"MP\":{\"__ndarray__\":\"mpmZmZkZQUDNzMzMzAxDQGZmZmZm5kFAzczMzMxMQUDNzMzMzMxBQJqZmZmZ2UFAAAAAAADAQUAzMzMzM/NBQDMzMzMzM0FAZmZmZmZmQUCamZmZmRlAQGZmZmZmpkBAzczMzMyMQUAzMzMzM7NAQM3MzMzMjEBAMzMzMzNzQkDNzMzMzMxBQGZmZmZmZkFAzczMzMyMQUCamZmZmRlBQJqZmZmZGUJAmpmZmZkZQkAAAAAAAIA/QAAAAAAAAEJAmpmZmZlZQUCamZmZmVlAQAAAAAAAwEBAAAAAAACAPkAzMzMzM7M+QAAAAAAAgD9AAAAAAAAAQEDNzMzMzAxCQM3MzMzMTD9AmpmZmZmZPkAzMzMzMzM8QAAAAAAAAD5AmpmZmZkZP0AAAAAAAABBQJqZmZmZWUBAZmZmZmamQUAzMzMzMzM8QDMzMzMzM0FAzczMzMzMP0DNzMzMzMw/QAAAAAAAADxAMzMzMzNzQEAAAAAAAIA/QAAAAAAAgEBAAAAAAACAPEAAAAAAAEBAQGZmZmZmZj9AmpmZmZmZPUAzMzMzM7NAQJqZmZmZmT5AMzMzMzNzQEAAAAAAAIBAQAAAAAAAgEFAzczMzMyMQECamZmZmVlCQJqZmZmZGUBAMzMzMzOzPEBmZmZmZmY8QGZmZmZm5jpAmpmZmZmZP0CamZmZmRk9QGZmZmZmZkBAMzMzMzOzP0AzMzMzMzNAQAAAAAAAAD5AmpmZmZlZQUAAAAAAAAA8QDMzMzMzsztAZmZmZmbmQEDNzMzMzAxAQAAAAAAAgD1AmpmZmZkZPkAzMzMzM7M5QDMzMzMzMzxAMzMzMzOzQEAzMzMzMzMyQGZmZmZmZjxAzczMzMwMQEBmZmZmZmY+QAAAAAAAADpAZmZmZmamQUAAAAAAAAA1QM3MzMzMTD1AzczMzMwMQEDNzMzMzEw5QDMzMzMzM0BAzczMzMwMQEAzMzMzM7NAQM3MzMzMTDVAzczMzMxMN0AAAAAAAIA5QAAAAAAAgDtAmpmZmZmZQUAzMzMzMzM7QGZmZmZm5jZAZmZmZmbmOEBmZmZmZuY+QDMzMzMzMzxAzczMzMxMOkBmZmZmZuY8QM3MzMzMzDtAAAAAAACAPkCamZmZmZk7QDMzMzMzMzxAzczMzMzMOkBmZmZmZuYzQM3MzMzMTD1AAAAAAACAOUAzMzMzMzM+QM3MzMzMTDRAAAAAAACANkBmZmZmZmY9QM3MzMzMTDVAmpmZmZmZOkAAAAAAAIA0QAAAAAAAADxAZmZmZmZmOUAAAAAAAIA2QJqZmZmZGTtAmpmZmZmZN0DNzMzMzMw2QAAAAAAAgDxAmpmZmZmZOECamZmZmRk7QJqZmZmZmT5AzczMzMzMPEAzMzMzM7M1QDMzMzMzMzRAMzMzMzOzPEBmZmZmZuY3QM3MzMzMTDRAmpmZmZmZL0AzMzMzMzM0QJqZmZmZmTtAzczMzMzMOkAzMzMzMzMyQJqZmZmZmTNAAAAAAACAPUBmZmZmZmY7QAAAAAAAADdAmpmZmZmZOUBmZmZmZuYzQGZmZmZm5jdAMzMzMzMzM0AAAAAAAAA+QDMzMzMzsz9AZmZmZmZmOUDNzMzMzEw7QM3MzMzMTDdAAAAAAACAM0BmZmZmZuY1QAAAAAAAADZAMzMzMzOzNECamZmZmZkyQDMzMzMzszRAZmZmZmbmM0AAAAAAAAA4QGZmZmZm5jRAAAAAAACANUDNzMzMzEw4QDMzMzMzMzlAAAAAAACAOkDNzMzMzEw0QGZmZmZmZjpAMzMzMzOzMkDNzMzMzMw4QM3MzMzMTDlAZmZmZmbmNUAAAAAAAAAyQGZmZmZm5jNAmpmZmZkZMUDNzMzMzEw2QDMzMzMzMzJAmpmZmZkZN0AzMzMzMzM5QAAAAAAAAD9AZmZmZmbmOUCamZmZmZkxQGZmZmZmZjBAMzMzMzMzNUAzMzMzM7M7QM3MzMzMTDVAmpmZmZmZOkCamZmZmRk8QM3MzMzMzDhAAAAAAAAANEAzMzMzM7M1QJqZmZmZmThAAAAAAACAMkDNzMzMzMw2QGZmZmZmZjZAmpmZmZmZLEBmZmZmZmY4QJqZmZmZGTNAzczMzMxMNEBmZmZmZmY0QAAAAAAAgDhAMzMzMzOzNkAAAAAAAAAuQJqZmZmZGTpAAAAAAAAAL0CamZmZmRkwQDMzMzMzMydAAAAAAAAAMkAAAAAAAAAyQJqZmZmZGTNAZmZmZmZmNUAzMzMzM7MwQM3MzMzMzDBAmpmZmZmZOkDNzMzMzMwxQJqZmZmZGTJAZmZmZmZmLUCamZmZmZk5QDMzMzMzszFAAAAAAAAAM0CamZmZmZkrQM3MzMzMzDBAzczMzMxMNUDNzMzMzMw0QJqZmZmZmS9AzczMzMzML0AzMzMzMzMyQDMzMzMzszJAZmZmZmZmN0CamZmZmZk8QGZmZmZmZi5AAAAAAACAM0BmZmZmZmYxQGZmZmZm5jNAmpmZmZmZLUCamZmZmZkuQJqZmZmZmThAmpmZmZkZMUBmZmZmZuYxQM3MzMzMTDFAmpmZmZkZMkCamZmZmZknQDMzMzMzMy1AMzMzMzMzMkAzMzMzM7M0QM3MzMzMTDRAMzMzMzMzN0AAAAAAAIAyQDMzMzMzMzVAZmZmZmZmOEBmZmZmZmY1QDMzMzMzMyxAAAAAAAAANEAzMzMzMzMmQGZmZmZm5jNAmpmZmZmZMECamZmZmZkrQDMzMzMzMytAmpmZmZmZLUCamZmZmRkwQJqZmZmZmSpAzczMzMzMIkCamZmZmRk0QDMzMzMzMzRAMzMzMzOzNEDNzMzMzEw0QJqZmZmZmTJAZmZmZmbmMUCamZmZmZksQM3MzMzMzC9AMzMzMzMzMEBmZmZmZmYoQJqZmZmZmSpAmpmZmZmZJ0AzMzMzMzM2QDMzMzMzMy5AzczMzMzMJUCamZmZmRkwQAAAAAAAADBAZmZmZmZmLEBmZmZmZmY2QM3MzMzMzCFAAAAAAAAAKkAAAAAAAAAxQDMzMzMzMy5AZmZmZmbmNUDNzMzMzMwpQGZmZmZm5jNAzczMzMzMKUBmZmZmZmYtQJqZmZmZmS5AAAAAAAAAL0AzMzMzMzMqQGZmZmZmZi1AMzMzMzMzLEBmZmZmZmYmQM3MzMzMTDFAMzMzMzOzNEAAAAAAAAAYQDMzMzMzMyRAZmZmZmZmIkDNzMzMzMwtQAAAAAAAACZAmpmZmZmZJ0AAAAAAAAAhQM3MzMzMzCJAzczMzMzMJEDNzMzMzMwsQJqZmZmZmSpAmpmZmZmZJ0DNzMzMzMwlQGZmZmZmZiNAZmZmZmZmLEAzMzMzMzMuQAAAAAAAACFAAAAAAAAAHkAzMzMzMzMsQJqZmZmZmSlAzczMzMzMJEDNzMzMzMwoQM3MzMzMzCxAMzMzMzMzJ0CamZmZmZkoQDMzMzMzMy1AAAAAAAAAJECamZmZmZksQAAAAAAAAAhAZmZmZmZmK0BmZmZmZmYoQDMzMzMzMxtAMzMzMzMzGUAAAAAAAAAmQDMzMzMzMxlAAAAAAAAAHEBmZmZmZmYkQJqZmZmZmSFAmpmZmZmZJkDNzMzMzMwiQGZmZmZmZh5AmpmZmZmZIkDNzMzMzMwrQDMzMzMzMydAzczMzMzMFkDNzMzMzMwgQDMzMzMzMx9AAAAAAAAAJECamZmZmZkZQJqZmZmZmRFAzczMzMzMIEBmZmZmZmYaQDMzMzMzMx9AAAAAAAAAHkCamZmZmZknQAAAAAAAABpAMzMzMzMzG0AAAAAAAAAcQDMzMzMzMxlAMzMzMzMzFUAzMzMzMzMfQM3MzMzMzBBAZmZmZmZmIUAAAAAAAAAgQGZmZmZmZg5AAAAAAAAAIkAAAAAAAAAIQJqZmZmZmRFAzczMzMzMEkDNzMzMzMwMQM3MzMzMzAxAmpmZmZmZFUAAAAAAAAAMQM3MzMzMzBBAmpmZmZmZE0CamZmZmZkbQGZmZmZmZhRAmpmZmZmZEUBmZmZmZmYOQM3MzMzMzBxAAAAAAAAAAEA=\",\"dtype\":\"float64\",\"shape\":[379]},\"ORB\":{\"__ndarray__\":\"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\",\"dtype\":\"float64\",\"shape\":[379]},\"PF\":{\"__ndarray__\":\"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\",\"dtype\":\"float64\",\"shape\":[379]},\"PSG\":{\"__ndarray__\":\"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\",\"dtype\":\"float64\",\"shape\":[379]},\"Player\":[\"Stephen Curry\",\"James Harden\",\"Kevin Durant\",\"DeMarcus Cousins\",\"LeBron James\",\"Damian Lillard\",\"Anthony Davis\",\"DeMar DeRozan\",\"Russell Westbrook\",\"Paul George\",\"Isaiah Thomas\",\"Klay Thompson\",\"Carmelo Anthony\",\"Blake Griffin\",\"Kawhi Leonard\",\"Jimmy Butler\",\"Kemba Walker\",\"C.J. McCollum\",\"Andrew Wiggins\",\"Eric Bledsoe\",\"John Wall\",\"Gordon Hayward\",\"Kyrie Irving\",\"Brandon Knight\",\"Danilo Gallinari\",\"Chris Paul\",\"Chris Bosh\",\"Dwyane Wade\",\"Reggie Jackson\",\"Dirk Nowitzki\",\"Karl-Anthony Towns\",\"Khris Middleton\",\"Nikola Vucevic\",\"LaMarcus Aldridge\",\"Kobe Bryant\",\"Jahlil Okafor\",\"Bradley Beal\",\"Rudy Gay\",\"Paul Millsap\",\"Giannis Antetokounmpo\",\"Jrue Holiday\",\"Marc Gasol\",\"Pau Gasol\",\"Derrick Rose\",\"J.J. Redick\",\"Andre Drummond\",\"Kevin Love\",\"Victor Oladipo\",\"Jeff Teague\",\"Evan Fournier\",\"Mike Conley\",\"Zach Randolph\",\"Avery Bradley\",\"Tyreke Evans\",\"Eric Gordon\",\"Thaddeus Young\",\"Nicolas Batum\",\"Tobias Harris\",\"Kentavious Caldwell-Pope\",\"Rodney Hood\",\"Will Barton\",\"Kristaps Porzingis\",\"Jamal Crawford\",\"Jae Crowder\",\"Hassan Whiteside\",\"Goran Dragic\",\"Jabari Parker\",\"Deron Williams\",\"Darren Collison\",\"Draymond Green\",\"Zach LaVine\",\"Devin Booker\",\"Monta Ellis\",\"Dwight Howard\",\"Chandler Parsons\",\"Marcin Gortat\",\"Alec Burks\",\"D'Angelo Russell\",\"Arron Afflalo\",\"Michael Beasley\",\"Robert Covington\",\"Jarrett Jack\",\"Emmanuel Mudiay\",\"Jonas Valanciunas\",\"Trevor Ariza\",\"Enes Kanter\",\"Michael Kidd-Gilchrist\",\"Serge Ibaka\",\"Kenneth Faried\",\"Luol Deng\",\"Gary Harris\",\"Joe Johnson\",\"Mirza Teletovic\",\"Al Jefferson\",\"Markieff Morris\",\"Tony Parker\",\"Rajon Rondo\",\"Omri Casspi\",\"C.J. Miles\",\"Nikola Mirotic\",\"Harrison Barnes\",\"Jeff Green\",\"Jeremy Lin\",\"Marvin Williams\",\"Kent Bazemore\",\"Michael Carter-Williams\",\"Jordan Hamilton\",\"Julius Randle\",\"Bojan Bogdanovic\",\"Sean Kilpatrick\",\"Nerlens Noel\",\"Isaiah Canaan\",\"DeMarre Carroll\",\"Dennis Schroder\",\"J.J. Barea\",\"Elfrid Payton\",\"Trey Burke\",\"Norris Cole\",\"Shabazz Muhammad\",\"Evan Turner\",\"Ersan Ilyasova\",\"Mario Chalmers\",\"Robin Lopez\",\"Jared Sullinger\",\"Myles Turner\",\"Al-Farouq Aminu\",\"Marco Belinelli\",\"Gorgui Dieng\",\"Ricky Rubio\",\"Matt Barnes\",\"Nikola Jokic\",\"Kelly Olynyk\",\"Patrick Beverley\",\"Terrence Ross\",\"Ramon Sessions\",\"Carl Landry\",\"Gary Neal\",\"Dion Waiters\",\"Jerami Grant\",\"Marcus Thornton\",\"Manu Ginobili\",\"Courtney Lee\",\"Raymond Felton\",\"Doug McDermott\",\"Ian Mahinmi\",\"Kevin Martin\",\"Aaron Gordon\",\"Nene Hilario\",\"Kyle Korver\",\"Rudy Gobert\",\"Mason Plumlee\",\"Marcus Smart\",\"Alex Len\",\"Archie Goodwin\",\"Austin Rivers\",\"Rodney Stuckey\",\"Jordan Hill\",\"Jeremy Lamb\",\"Toney Douglas\",\"Gerald Henderson\",\"Tyler Johnson\",\"Terrence Jones\",\"Luis Scola\",\"Cody Zeller\",\"Tim Duncan\",\"Taj Gibson\",\"Shelvin Mack\",\"Zaza Pachulia\",\"Jon Leuer\",\"Nik Stauskas\",\"Tony Allen\",\"Meyers Leonard\",\"Tony Wroten\",\"Lance Stephenson\",\"Jusuf Nurkic\",\"Lance Thomas\",\"Mo Williams\",\"Stanley Johnson\",\"Steven Adams\",\"P.J. Tucker\",\"Jared Dudley\",\"Joffrey Lauvergne\",\"David Lee\",\"Ben McLemore\",\"Tristan Thompson\",\"Wayne Ellington\",\"Jameer Nelson\",\"Jose Calderon\",\"Langston Galloway\",\"Devin Harris\",\"Darrell Arthur\",\"Matthew Dellavedova\",\"JaMychal Green\",\"Amir Johnson\",\"Shane Larkin\",\"Jodie Meeks\",\"Garrett Temple\",\"Nick Young\",\"Brandon Bass\",\"Corey Brewer\",\"Tyson Chandler\",\"Mike Dunleavy\",\"James Ennis\",\"Danny Green\",\"Jason Smith\",\"Aaron Brooks\",\"Marreese Speights\",\"David West\",\"Luke Babbitt\",\"Clint Capela\",\"Willie Cauley-Stein\",\"Festus Ezeli\",\"John Henson\",\"Andre Iguodala\",\"Bobby Portis\",\"Brandon Jennings\",\"Andrew Nicholson\",\"Patrick Patterson\",\"Brandan Wright\",\"Kosta Koufos\",\"Andrea Bargnani\",\"Vince Carter\",\"Josh Richardson\",\"Ed Davis\",\"Kris Humphries\",\"Leandro Barbosa\",\"Boris Diaw\",\"Maurice Harkless\",\"Thabo Sefolosha\",\"Justise Winslow\",\"Aron Baynes\",\"Shaun Livingston\",\"Timofey Mozgov\",\"P.J. Hairston\",\"Donatas Motiejunas\",\"Mike Scott\",\"Dante Cunningham\",\"Channing Frye\",\"Mario Hezonja\",\"Trey Lyles\",\"Paul Pierce\",\"Tyler Zeller\",\"Alexis Ajinca\",\"Spencer Hawes\",\"Trevor Booker\",\"Randy Foye\",\"Roy Hibbert\",\"Raul Neto\",\"Rondae Hollis-Jefferson\",\"Iman Shumpert\",\"Ty Lawson\",\"Jarell Martin\",\"Greivis Vasquez\",\"Troy Daniels\",\"Bryce Dejean-Jones\",\"Jerian Grant\",\"Richaun Holmes\",\"Anthony Morrow\",\"Norman Powell\",\"Tiago Splitter\",\"Cole Aldrich\",\"Boban Marjanovic\",\"Larry Nance Jr.\",\"Lavoy Allen\",\"Andrew Bogut\",\"Tony Snell\",\"Anthony Tolliver\",\"Nemanja Bjelica\",\"Miles Plumlee\",\"JaKarr Sampson\",\"James Johnson\",\"Cameron Payne\",\"Spencer Dinwiddie\",\"Kyle O'Quinn\",\"Andre Roberson\",\"Chris McCullough\",\"Willie Reed\",\"Beno Udrih\",\"Kyle Anderson\",\"Tyler Ennis\",\"Alonzo Gee\",\"Jordan McRae\",\"Nikola Pekovic\",\"Steve Blake\",\"Jonas Jerebko\",\"Joakim Noah\",\"Thomas Robinson\",\"C.J. Watson\",\"Jeff Withey\",\"Solomon Hill\",\"Joe Ingles\",\"Tyus Jones\",\"Ryan Kelly\",\"Brandon Rush\",\"Chase Budinger\",\"John Jenkins\",\"Omer Asik\",\"Anthony Brown\",\"Rakeem Christmas\",\"Darrun Hilliard\",\"Brian Roberts\",\"Chris Andersen\",\"Kevin Seraphin\",\"Justin Anderson\",\"Delon Wright\",\"Joe Young\",\"Caron Butler\",\"Orlando Johnson\",\"Kendall Marshall\",\"Andre Miller\",\"Shabazz Napier\",\"Montrezl Harrell\",\"Josh McRoberts\",\"Noah Vonleh\",\"Christian Wood\",\"Jordan Adams\",\"James Anderson\",\"Robert Sacre\",\"Cristiano Felicio\",\"Ryan Hollins\",\"Kyle Singler\",\"Reggie Bullock\",\"Phil Pressey\",\"Kevin Garnett\",\"Jason Thompson\",\"Rashad Vaughn\",\"Thanasis Antetokounmpo\",\"Kirk Hinrich\",\"Chris Johnson\",\"Alan Williams\",\"Andrew Goudelock\",\"Josh Huestis\",\"Cory Jefferson\",\"Chris Kaman\",\"Drew Gooden\",\"R.J. Hunter\",\"Kostas Papanikolaou\",\"Anderson Varejao\",\"Lorenzo Brown\",\"Adreian Payne\",\"Pablo Prigioni\",\"Sonny Weems\",\"Jarell Eddie\",\"Jeremy Evans\",\"Tyler Hansbrough\",\"Sergey Karasev\",\"K.J. McDaniels\",\"Steve Novak\",\"Damjan Rudez\",\"Walter Tavares\",\"Lucas Nogueira\",\"DeJuan Blair\",\"Nick Collison\",\"Chris Copeland\",\"Tibor Pleiss\",\"Lou Amundson\",\"Jeff Ayres\",\"Jorge Gutierrez\",\"Damien Inglis\",\"Kevon Looney\",\"Elijah Millsap\",\"Terry Rozier\",\"Nazr Mohammed\",\"Elliot Williams\",\"Jimmer Fredette\",\"Russ Smith\",\"Erick Green\",\"Mitch McGary\",\"Jordan Mickey\",\"Keith Appling\",\"Luis Montero\",\"Pat Connaughton\",\"Bryce Cotton\",\"James Young\",\"Joel Anthony\",\"Aaron Harrison\",\"Sasha Kaun\",\"Bruno Caboclo\",\"Sam Dekker\"],\"Pos\":[\"PG\",\"SG\",\"SF\",\"C\",\"SF\",\"PG\",\"PF\",\"SG\",\"PG\",\"SF\",\"PG\",\"SG\",\"SF\",\"PF\",\"SF\",\"SG\",\"PG\",\"SG\",\"SF\",\"PG\",\"PG\",\"SF\",\"PG\",\"SG\",\"SF\",\"PG\",\"PF\",\"SG\",\"PG\",\"PF\",\"C\",\"SG\",\"C\",\"PF\",\"SF\",\"C\",\"SG\",\"SF\",\"PF\",\"PG\",\"PG\",\"C\",\"C\",\"PG\",\"SG\",\"C\",\"PF\",\"SG\",\"PG\",\"SF\",\"PG\",\"PF\",\"SG\",\"SG\",\"SG\",\"PF\",\"SF\",\"PF\",\"SG\",\"SG\",\"SG\",\"PF\",\"SG\",\"SF\",\"C\",\"PG\",\"PF\",\"PG\",\"PG\",\"PF\",\"SG\",\"SG\",\"SG\",\"C\",\"SF\",\"C\",\"SG\",\"PG\",\"SG\",\"SF\",\"SF\",\"PG\",\"PG\",\"C\",\"SF\",\"C\",\"SF\",\"PF\",\"PF\",\"PF\",\"SG\",\"SF\",\"PF\",\"C\",\"PF\",\"PG\",\"PG\",\"SF\",\"SF\",\"PF\",\"SF\",\"SF\",\"SG\",\"PF\",\"SF\",\"PG\",\"SF\",\"PF\",\"SF\",\"SG\",\"C\",\"SG\",\"SF\",\"PG\",\"PG\",\"PG\",\"PG\",\"PG\",\"SF\",\"SG\",\"PF\",\"PG\",\"C\",\"PF\",\"C\",\"SF\",\"SG\",\"C\",\"PG\",\"SF\",\"C\",\"C\",\"PG\",\"SF\",\"PG\",\"PF\",\"SG\",\"SG\",\"SF\",\"SG\",\"SG\",\"SG\",\"PG\",\"SF\",\"C\",\"SG\",\"PF\",\"PF\",\"SG\",\"C\",\"C\",\"PG\",\"C\",\"PG\",\"SG\",\"PG\",\"C\",\"SG\",\"PG\",\"SG\",\"SG\",\"PF\",\"PF\",\"C\",\"C\",\"PF\",\"PG\",\"C\",\"PF\",\"SG\",\"SG\",\"PF\",\"PG\",\"SF\",\"C\",\"PF\",\"PG\",\"SF\",\"C\",\"SF\",\"PF\",\"C\",\"PF\",\"SG\",\"PF\",\"SG\",\"PG\",\"PG\",\"PG\",\"PG\",\"PF\",\"PG\",\"PF\",\"PF\",\"PG\",\"SG\",\"SF\",\"SG\",\"PF\",\"SF\",\"C\",\"SF\",\"SF\",\"SG\",\"C\",\"PG\",\"C\",\"PF\",\"SF\",\"C\",\"C\",\"C\",\"C\",\"SF\",\"PF\",\"PG\",\"PF\",\"PF\",\"PF\",\"C\",\"C\",\"SG\",\"SG\",\"PF\",\"PF\",\"SG\",\"PF\",\"SF\",\"SF\",\"SF\",\"C\",\"PG\",\"C\",\"SF\",\"PF\",\"PF\",\"SF\",\"PF-C\",\"SF\",\"PF\",\"SF\",\"C\",\"C\",\"PF\",\"PF\",\"SG\",\"C\",\"PG\",\"SF\",\"SG\",\"PG\",\"PF\",\"PG\",\"SG\",\"SG\",\"PG\",\"PF\",\"SG\",\"SG\",\"C\",\"C\",\"C\",\"PF\",\"PF\",\"C\",\"SF\",\"PF\",\"PF\",\"C\",\"SF\",\"PF\",\"PG\",\"PG\",\"PF\",\"SG\",\"PF\",\"PF\",\"PG\",\"SF\",\"PG\",\"SF\",\"PG\",\"C\",\"PG\",\"PF\",\"C\",\"PF\",\"PG\",\"C\",\"SF\",\"SF\",\"PG\",\"PF\",\"SG\",\"SF\",\"SG\",\"C\",\"SF\",\"PF\",\"SG\",\"PG\",\"C\",\"C\",\"SF\",\"PG\",\"PG\",\"SF\",\"SG\",\"PG\",\"PG\",\"PG\",\"PF\",\"PF\",\"PF\",\"PF\",\"SG\",\"SG\",\"C\",\"C\",\"C\",\"SF\",\"SF\",\"PG\",\"PF\",\"C\",\"SG\",\"SF\",\"PG\",\"SF\",\"PF\",\"PG\",\"PF\",\"PF\",\"C\",\"PF\",\"SG\",\"SF\",\"C\",\"PG\",\"PF\",\"PG\",\"SG-SF\",\"SF\",\"SF\",\"PF\",\"SF\",\"SF\",\"PF\",\"SF\",\"C\",\"C\",\"C\",\"PF\",\"PF\",\"C\",\"PF\",\"C\",\"PG\",\"SF\",\"PF\",\"SG\",\"PG\",\"C\",\"PG\",\"SG\",\"PG\",\"PG\",\"PF\",\"PF\",\"PG\",\"SG\",\"SG\",\"PG\",\"SG\",\"C\",\"SG\",\"C\",\"SF\",\"SF\"],\"SALARY\":[11370786,15756438,20158622,15851950,22970500,4236287,7070730,10050000,16744218,17120106,6912869,15501000,22875000,18907726,16407500,16407500,12000000,2525160,5758680,13500000,15851950,15409570,16407501,13500000,14000000,21468695,22192730,20000000,13913044,8333334,5703600,14700000,11250000,19689000,25000000,4582680,5694674,12403101,18671659,1953960,10595507,19688000,7448760,20093064,7085000,3272091,19689000,5192520,8000000,2288205,9588426,9638555,7730337,10734586,15514031,11235955,13125306,16000000,2891760,1348440,3533333,4131720,5675000,6796117,981348,14783000,5152440,5378974,5013559,14260870,2148360,2127840,10300000,22359364,15361500,11217391,9463484,5103120,8000000,306527,1000000,6300000,3102240,4660482,8193030,16407500,6331404,12250000,11235955,10151612,1584480,261894,5500000,13500000,8000000,13437500,9500000,2836186,4394225,5543725,3873398,9650000,2139000,7000000,2000000,2399040,1015421,3132240,3425510,134215,3457800,947276,13600000,1763400,4290000,2505720,2658240,3036927,2056920,3425510,7900000,4300000,12650000,2569260,2357760,8042895,6060606,1474440,12700000,3542500,1300000,2165160,6486486,3553917,2170465,6500000,2139000,5138430,845059,200600,2814000,5675000,3950313,2380440,4000000,200600,4171680,13000000,5746479,1175880,1415520,3431040,3807120,1160160,3110796,7000000,4000000,3034356,1164858,6000000,845059,2489530,2900000,4204200,5250000,8500000,2433333,5200000,1035000,2869440,5158539,3075880,167406,9000000,1842000,1636842,2100000,2841960,2279040,5500000,4375000,1709719,2085671,3156600,14260870,1500000,4345000,7402812,845059,4053446,2814000,1147276,845059,12000000,1500000,6270000,1100602,5219169,3000000,8229375,13000000,4500000,845059,10000000,4300000,2250000,3815000,1499187,1100602,1242720,3398280,2008748,2943221,11710456,1391160,8344497,2380593,6268675,5464000,7700000,1362897,4088019,525093,6980802,1000000,2500000,7500000,2894059,4000000,2481720,6500000,5543725,4950000,1201440,2288205,3333333,2850000,8193029,3741480,2239800,3376000,2616975,4389607,6110034,4775000,3135000,15592217,900000,1335480,8988765,211744,1230840,6600000,947276,169883,1572360,1074169,3344000,650000,9756250,1100602,1200000,1155600,4050000,13800000,1535880,3000000,3950001,2109294,258489,2500000,2021520,845059,3750000,1210800,1140240,947276,2170465,1142880,1662360,1320000,111196,12100000,2170465,5000000,13400000,981348,5000000,947276,1358880,2050000,1282080,1724250,1270964,206192,981348,9213483,700000,1007026,600000,2854940,5000000,2814000,1449000,1509360,1007026,1449187,55722,2144772,250750,1294440,1000000,5543725,2637720,525093,1404600,1015421,981348,525093,239605,4500000,1252440,55722,8500000,245177,1733040,30888,2854940,981348,83397,200600,1140240,49709,5016000,3300000,1148640,800321,289755,111444,1938840,947726,2814000,561716,1100602,947276,1599840,3189794,295327,1149500,1000000,1842000,2000000,3750000,1150000,2900000,1635476,111444,189455,855000,1131960,845059,1824360,222888,55722,874837,845059,99418,1463040,1170960,61776,525093,625093,700902,1749840,2500000,525093,1276000,1524000,1646400],\"STL\":{\"__ndarray__\":\"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\",\"dtype\":\"float64\",\"shape\":[379]},\"TOV\":{\"__ndarray__\":\"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\",\"dtype\":\"float64\",\"shape\":[379]},\"TRB\":{\"__ndarray__\":\"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\",\"dtype\":\"float64\",\"shape\":[379]},\"Tm\":[\"GSW\",\"HOU\",\"OKC\",\"SAC\",\"CLE\",\"POR\",\"NOP\",\"TOR\",\"OKC\",\"IND\",\"BOS\",\"GSW\",\"NYK\",\"LAC\",\"SAS\",\"CHI\",\"CHO\",\"POR\",\"MIN\",\"PHO\",\"WAS\",\"UTA\",\"CLE\",\"PHO\",\"DEN\",\"LAC\",\"MIA\",\"MIA\",\"DET\",\"DAL\",\"MIN\",\"MIL\",\"ORL\",\"SAS\",\"LAL\",\"PHI\",\"WAS\",\"SAC\",\"ATL\",\"MIL\",\"NOP\",\"MEM\",\"CHI\",\"CHI\",\"LAC\",\"DET\",\"CLE\",\"ORL\",\"ATL\",\"ORL\",\"MEM\",\"MEM\",\"BOS\",\"NOP\",\"NOP\",\"BRK\",\"CHO\",\"TOT\",\"DET\",\"UTA\",\"DEN\",\"NYK\",\"LAC\",\"BOS\",\"MIA\",\"MIA\",\"MIL\",\"DAL\",\"SAC\",\"GSW\",\"MIN\",\"PHO\",\"IND\",\"HOU\",\"DAL\",\"WAS\",\"UTA\",\"LAL\",\"NYK\",\"HOU\",\"PHI\",\"BRK\",\"DEN\",\"TOR\",\"HOU\",\"OKC\",\"CHO\",\"OKC\",\"DEN\",\"MIA\",\"DEN\",\"TOT\",\"PHO\",\"CHO\",\"TOT\",\"SAS\",\"SAC\",\"SAC\",\"IND\",\"CHI\",\"GSW\",\"TOT\",\"CHO\",\"CHO\",\"ATL\",\"MIL\",\"NOP\",\"LAL\",\"BRK\",\"TOT\",\"PHI\",\"PHI\",\"TOR\",\"ATL\",\"DAL\",\"ORL\",\"UTA\",\"NOP\",\"MIN\",\"BOS\",\"TOT\",\"TOT\",\"NYK\",\"BOS\",\"IND\",\"POR\",\"SAC\",\"MIN\",\"MIN\",\"MEM\",\"DEN\",\"BOS\",\"HOU\",\"TOR\",\"WAS\",\"PHI\",\"WAS\",\"OKC\",\"PHI\",\"TOT\",\"SAS\",\"TOT\",\"DAL\",\"CHI\",\"IND\",\"TOT\",\"ORL\",\"WAS\",\"ATL\",\"UTA\",\"POR\",\"BOS\",\"PHO\",\"PHO\",\"LAC\",\"IND\",\"IND\",\"CHO\",\"NOP\",\"POR\",\"MIA\",\"HOU\",\"TOR\",\"CHO\",\"SAS\",\"CHI\",\"TOT\",\"DAL\",\"PHO\",\"PHI\",\"MEM\",\"POR\",\"PHI\",\"TOT\",\"DEN\",\"NYK\",\"CLE\",\"DET\",\"OKC\",\"PHO\",\"WAS\",\"DEN\",\"TOT\",\"SAC\",\"CLE\",\"BRK\",\"DEN\",\"NYK\",\"NYK\",\"DAL\",\"DEN\",\"CLE\",\"MEM\",\"BOS\",\"BRK\",\"DET\",\"WAS\",\"LAL\",\"LAL\",\"HOU\",\"PHO\",\"CHI\",\"TOT\",\"SAS\",\"ORL\",\"CHI\",\"GSW\",\"SAS\",\"NOP\",\"HOU\",\"SAC\",\"GSW\",\"MIL\",\"GSW\",\"CHI\",\"TOT\",\"ORL\",\"TOR\",\"MEM\",\"SAC\",\"BRK\",\"MEM\",\"MIA\",\"POR\",\"TOT\",\"GSW\",\"SAS\",\"POR\",\"ATL\",\"MIA\",\"DET\",\"GSW\",\"CLE\",\"TOT\",\"HOU\",\"ATL\",\"NOP\",\"TOT\",\"ORL\",\"UTA\",\"LAC\",\"BOS\",\"NOP\",\"CHO\",\"UTA\",\"TOT\",\"LAL\",\"UTA\",\"BRK\",\"CLE\",\"TOT\",\"MEM\",\"MIL\",\"CHO\",\"NOP\",\"NYK\",\"PHI\",\"OKC\",\"TOR\",\"ATL\",\"LAC\",\"SAS\",\"LAL\",\"IND\",\"GSW\",\"CHI\",\"DET\",\"MIN\",\"MIL\",\"TOT\",\"TOR\",\"OKC\",\"DET\",\"NYK\",\"OKC\",\"BRK\",\"BRK\",\"TOT\",\"SAS\",\"MIL\",\"NOP\",\"TOT\",\"MIN\",\"DET\",\"BOS\",\"CHI\",\"BRK\",\"ORL\",\"UTA\",\"IND\",\"UTA\",\"MIN\",\"LAL\",\"GSW\",\"TOT\",\"TOT\",\"NOP\",\"LAL\",\"IND\",\"DET\",\"TOT\",\"TOT\",\"NYK\",\"DAL\",\"TOR\",\"IND\",\"SAC\",\"TOT\",\"PHI\",\"TOT\",\"ORL\",\"HOU\",\"MIA\",\"POR\",\"PHI\",\"MEM\",\"SAC\",\"LAL\",\"CHI\",\"TOT\",\"OKC\",\"DET\",\"TOT\",\"MIN\",\"TOT\",\"MIL\",\"NYK\",\"TOT\",\"UTA\",\"PHO\",\"HOU\",\"OKC\",\"PHO\",\"POR\",\"WAS\",\"BOS\",\"DEN\",\"TOT\",\"PHO\",\"MIN\",\"LAC\",\"TOT\",\"WAS\",\"DAL\",\"CHO\",\"BRK\",\"HOU\",\"TOT\",\"MIN\",\"ATL\",\"TOR\",\"WAS\",\"OKC\",\"MIL\",\"UTA\",\"NYK\",\"LAC\",\"CHO\",\"MIL\",\"GSW\",\"UTA\",\"BOS\",\"OKC\",\"MEM\",\"TOT\",\"MEM\",\"TOT\",\"OKC\",\"BOS\",\"ORL\",\"POR\",\"POR\",\"TOT\",\"BOS\",\"DET\",\"CHO\",\"CLE\",\"TOR\",\"HOU\"],\"eFG%\":{\"__ndarray__\":\"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\",\"dtype\":\"float64\",\"shape\":[379]},\"index\":[0,1,2,3,4,5,6,7,8,9,10,11,12,13,14,15,16,17,18,19,20,21,22,23,24,25,26,27,28,29,30,31,32,33,34,35,36,37,38,39,40,41,42,43,44,45,46,47,48,49,50,51,52,53,54,55,56,57,58,59,60,61,62,63,64,65,66,67,68,69,70,71,72,73,74,75,76,77,78,79,80,81,82,83,84,85,86,87,88,89,90,91,92,93,94,95,96,97,98,99,100,101,102,103,104,105,106,107,108,109,110,111,112,113,114,115,116,117,118,119,120,121,122,123,124,125,126,127,128,129,130,131,132,133,134,135,136,137,138,139,140,141,142,143,144,145,146,147,148,149,150,151,152,153,154,155,156,157,158,159,160,161,162,163,164,165,166,167,168,169,170,171,172,173,174,175,176,177,178,179,180,181,182,183,184,185,186,187,188,189,190,191,192,193,194,195,196,197,198,199,200,201,202,203,204,205,206,207,208,209,210,211,212,213,214,215,216,217,218,219,220,221,222,223,224,225,226,227,228,229,230,231,232,233,234,235,236,237,238,239,240,241,242,243,244,245,246,247,248,249,250,251,252,253,254,255,256,257,258,259,260,261,262,263,264,265,266,267,268,269,270,271,272,273,274,275,276,277,278,279,280,281,282,283,284,285,286,287,288,289,290,291,292,293,294,295,296,297,298,299,300,301,302,303,304,305,306,307,308,309,310,311,312,313,314,315,316,317,318,319,320,321,322,323,324,325,326,327,328,329,330,331,332,333,334,335,336,337,338,339,340,341,342,343,344,345,346,347,348,349,350,351,352,353,354,355,356,357,358,359,360,361,362,363,364,365,366,367,368,369,370,371,372,373,374,375,376,377,378],\"logsalary\":{\"__ndarray__\":\"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\",\"dtype\":\"float64\",\"shape\":[379]}}},\"id\":\"a8c058e0-ba5d-49a5-83d1-0a93ba17ef72\",\"type\":\"ColumnDataSource\"},{\"attributes\":{\"active_drag\":\"auto\",\"active_inspect\":\"auto\",\"active_scroll\":\"auto\",\"active_tap\":\"auto\",\"tools\":[{\"id\":\"0e691fe6-159e-417b-b72d-b4bd8bf648dd\",\"type\":\"HoverTool\"},{\"id\":\"257ea538-962a-4b5d-a4d1-c5d554d2c88a\",\"type\":\"BoxZoomTool\"},{\"id\":\"3408d66e-05b0-4b1e-8924-bdf84c9d4b06\",\"type\":\"WheelZoomTool\"}]},\"id\":\"d69f4905-1cb3-4da1-9b09-9be8e176a5e9\",\"type\":\"Toolbar\"},{\"attributes\":{\"callback\":null,\"tooltips\":[[\"Player Name\",\"@Player\"],[\"Team\",\"@Tm\"],[\"Position\",\"@Pos\"],[\"Salary\",\"@SALARY\"],[\"x\",\"$x\"]]},\"id\":\"0e691fe6-159e-417b-b72d-b4bd8bf648dd\",\"type\":\"HoverTool\"},{\"attributes\":{},\"id\":\"b1310b2f-31d0-49b3-8d4c-571aae22d1d5\",\"type\":\"LinearScale\"},{\"attributes\":{},\"id\":\"9c3c29e6-2c0a-4bcf-a322-df7de0330ad7\",\"type\":\"BasicTickFormatter\"},{\"attributes\":{},\"id\":\"f1655fa7-de74-4850-b4f8-8b7c6fff9ee1\",\"type\":\"BasicTicker\"},{\"attributes\":{\"callback\":null,\"tabs\":[{\"id\":\"ca034223-a670-4ddc-8fa2-104e7ce7e793\",\"type\":\"Panel\"},{\"id\":\"73367bfc-547d-428a-9f90-8011c0a590aa\",\"type\":\"Panel\"}]},\"id\":\"7bd9fd9a-6430-4065-91e3-fa64764006b5\",\"type\":\"Tabs\"},{\"attributes\":{\"data_source\":{\"id\":\"a8c058e0-ba5d-49a5-83d1-0a93ba17ef72\",\"type\":\"ColumnDataSource\"},\"glyph\":{\"id\":\"b606a873-d14e-403d-bb4e-450c6148fc4b\",\"type\":\"Circle\"},\"hover_glyph\":null,\"muted_glyph\":null,\"nonselection_glyph\":{\"id\":\"9a85ab04-d3af-4068-a4d7-3967c223bfd7\",\"type\":\"Circle\"},\"selection_glyph\":null,\"view\":{\"id\":\"2a20e745-2608-42bb-abd0-52cd58e337a2\",\"type\":\"CDSView\"}},\"id\":\"5d7693c9-64c5-4cd8-97f8-863cdb1975a3\",\"type\":\"GlyphRenderer\"},{\"attributes\":{\"overlay\":{\"id\":\"fc3da4bd-230d-4499-b08e-a31af783abe6\",\"type\":\"BoxAnnotation\"}},\"id\":\"257ea538-962a-4b5d-a4d1-c5d554d2c88a\",\"type\":\"BoxZoomTool\"},{\"attributes\":{\"callback\":null},\"id\":\"1dd38ab5-cad9-40e1-b261-b6c697f78246\",\"type\":\"DataRange1d\"},{\"attributes\":{\"range\":{\"id\":\"1dd38ab5-cad9-40e1-b261-b6c697f78246\",\"type\":\"DataRange1d\"},\"width\":0.6},\"id\":\"8c54dff0-8090-435f-bd83-de16db9f0c97\",\"type\":\"Jitter\"},{\"attributes\":{\"below\":[{\"id\":\"43785fe6-4366-40c6-a68d-907ca46dfd55\",\"type\":\"LinearAxis\"}],\"left\":[{\"id\":\"1799334c-5ed9-487c-a490-0b748beb6d11\",\"type\":\"LinearAxis\"}],\"renderers\":[{\"id\":\"43785fe6-4366-40c6-a68d-907ca46dfd55\",\"type\":\"LinearAxis\"},{\"id\":\"96c5ac92-cd1e-4412-acc9-1993feee77a3\",\"type\":\"Grid\"},{\"id\":\"1799334c-5ed9-487c-a490-0b748beb6d11\",\"type\":\"LinearAxis\"},{\"id\":\"cbcc5b4b-3677-4a6c-aea3-50009c83d421\",\"type\":\"Grid\"},{\"id\":\"a623f05b-1c77-45b9-b1ae-2d085a2f25b4\",\"type\":\"BoxAnnotation\"},{\"id\":\"9f4aa4ae-056d-4522-8f4d-5896efa2ccb8\",\"type\":\"Legend\"},{\"id\":\"16a12e19-f4cb-47f2-a287-7031d618d6c6\",\"type\":\"GlyphRenderer\"}],\"title\":{\"id\":\"08809197-c750-48d0-8e3d-52afe7ead836\",\"type\":\"Title\"},\"toolbar\":{\"id\":\"4396dc1d-6bce-475b-b5cf-2463890b0fe4\",\"type\":\"Toolbar\"},\"x_range\":{\"id\":\"09750401-c516-4a79-b4b6-45754e1b609e\",\"type\":\"DataRange1d\"},\"x_scale\":{\"id\":\"e57be68f-4711-4979-aa71-fee7c6daae10\",\"type\":\"LinearScale\"},\"y_range\":{\"id\":\"3e1442c0-179d-4504-b6ec-60072a5b4128\",\"type\":\"DataRange1d\"},\"y_scale\":{\"id\":\"b1310b2f-31d0-49b3-8d4c-571aae22d1d5\",\"type\":\"LinearScale\"}},\"id\":\"18efa352-1a2c-46c8-9738-b620e587927e\",\"subtype\":\"Figure\",\"type\":\"Plot\"},{\"attributes\":{},\"id\":\"2767cdc7-da43-43da-bf1c-87b56431929a\",\"type\":\"BasicTickFormatter\"},{\"attributes\":{\"bottom_units\":\"screen\",\"fill_alpha\":{\"value\":0.5},\"fill_color\":{\"value\":\"lightgrey\"},\"left_units\":\"screen\",\"level\":\"overlay\",\"line_alpha\":{\"value\":1.0},\"line_color\":{\"value\":\"black\"},\"line_dash\":[4,4],\"line_width\":{\"value\":2},\"plot\":null,\"render_mode\":\"css\",\"right_units\":\"screen\",\"top_units\":\"screen\"},\"id\":\"fc3da4bd-230d-4499-b08e-a31af783abe6\",\"type\":\"BoxAnnotation\"},{\"attributes\":{\"background_fill_alpha\":{\"value\":0.5},\"background_fill_color\":{\"value\":\"navy\"},\"items\":[{\"id\":\"dd6b15eb-ff46-4f89-a407-d96779725876\",\"type\":\"LegendItem\"}],\"location\":\"bottom_right\",\"plot\":{\"id\":\"18efa352-1a2c-46c8-9738-b620e587927e\",\"subtype\":\"Figure\",\"type\":\"Plot\"}},\"id\":\"9f4aa4ae-056d-4522-8f4d-5896efa2ccb8\",\"type\":\"Legend\"},{\"attributes\":{\"fill_alpha\":{\"value\":0.2},\"fill_color\":{\"field\":\"Pos\",\"transform\":{\"id\":\"4347a93b-1267-419e-8482-100a1b677dad\",\"type\":\"CategoricalColorMapper\"}},\"line_color\":{\"field\":\"Pos\",\"transform\":{\"id\":\"4347a93b-1267-419e-8482-100a1b677dad\",\"type\":\"CategoricalColorMapper\"}},\"x\":{\"field\":\"Age\",\"transform\":{\"id\":\"8c54dff0-8090-435f-bd83-de16db9f0c97\",\"type\":\"Jitter\"}},\"y\":{\"field\":\"logsalary\"}},\"id\":\"4da7ec60-3422-47ae-bc29-6c8b2083dff3\",\"type\":\"Circle\"},{\"attributes\":{\"dimension\":1,\"plot\":{\"id\":\"18efa352-1a2c-46c8-9738-b620e587927e\",\"subtype\":\"Figure\",\"type\":\"Plot\"},\"ticker\":{\"id\":\"b83d8d3c-1d3e-4ae3-a8ff-5941f0339214\",\"type\":\"BasicTicker\"}},\"id\":\"cbcc5b4b-3677-4a6c-aea3-50009c83d421\",\"type\":\"Grid\"},{\"attributes\":{\"dimension\":1,\"plot\":{\"id\":\"e886b86b-7301-47f0-b966-50463d18ec9c\",\"subtype\":\"Figure\",\"type\":\"Plot\"},\"ticker\":{\"id\":\"c2215096-2011-412d-ad9b-c61c476d8725\",\"type\":\"BasicTicker\"}},\"id\":\"97aa50c3-9355-4072-8dab-03203e8e17d6\",\"type\":\"Grid\"},{\"attributes\":{},\"id\":\"25cfe24e-3716-4e05-a065-c504e23c118a\",\"type\":\"LinearScale\"},{\"attributes\":{\"bottom_units\":\"screen\",\"fill_alpha\":{\"value\":0.5},\"fill_color\":{\"value\":\"lightgrey\"},\"left_units\":\"screen\",\"level\":\"overlay\",\"line_alpha\":{\"value\":1.0},\"line_color\":{\"value\":\"black\"},\"line_dash\":[4,4],\"line_width\":{\"value\":2},\"plot\":null,\"render_mode\":\"css\",\"right_units\":\"screen\",\"top_units\":\"screen\"},\"id\":\"a623f05b-1c77-45b9-b1ae-2d085a2f25b4\",\"type\":\"BoxAnnotation\"},{\"attributes\":{\"background_fill_alpha\":{\"value\":0.5},\"background_fill_color\":{\"value\":\"navy\"},\"items\":[{\"id\":\"e7e5aa8e-391b-4f0a-b815-2f50c5a89aa0\",\"type\":\"LegendItem\"}],\"location\":\"bottom_right\",\"plot\":{\"id\":\"e886b86b-7301-47f0-b966-50463d18ec9c\",\"subtype\":\"Figure\",\"type\":\"Plot\"}},\"id\":\"6af026ff-7d4d-49f4-83a0-7dba020852f9\",\"type\":\"Legend\"},{\"attributes\":{\"axis_label\":\"Points Per Game\",\"formatter\":{\"id\":\"9c3c29e6-2c0a-4bcf-a322-df7de0330ad7\",\"type\":\"BasicTickFormatter\"},\"plot\":{\"id\":\"e886b86b-7301-47f0-b966-50463d18ec9c\",\"subtype\":\"Figure\",\"type\":\"Plot\"},\"ticker\":{\"id\":\"ecb778c4-3b14-4e30-94ee-6cc1e75b9018\",\"type\":\"BasicTicker\"}},\"id\":\"68819838-68fd-42a9-8bd6-e0c4993a16c1\",\"type\":\"LinearAxis\"},{\"attributes\":{\"plot\":{\"id\":\"e886b86b-7301-47f0-b966-50463d18ec9c\",\"subtype\":\"Figure\",\"type\":\"Plot\"},\"ticker\":{\"id\":\"ecb778c4-3b14-4e30-94ee-6cc1e75b9018\",\"type\":\"BasicTicker\"}},\"id\":\"463273ae-3b13-4715-8931-e99e031fc097\",\"type\":\"Grid\"},{\"attributes\":{},\"id\":\"7f837027-3d27-49ed-84af-5a5b8f27ad66\",\"type\":\"LinearScale\"},{\"attributes\":{\"active_drag\":\"auto\",\"active_inspect\":\"auto\",\"active_scroll\":\"auto\",\"active_tap\":\"auto\",\"tools\":[{\"id\":\"0e691fe6-159e-417b-b72d-b4bd8bf648dd\",\"type\":\"HoverTool\"},{\"id\":\"f6baed9d-2794-4386-ae51-c362294824db\",\"type\":\"BoxZoomTool\"},{\"id\":\"e6186a5d-2743-40ec-9f55-53adf653b27a\",\"type\":\"WheelZoomTool\"}]},\"id\":\"4396dc1d-6bce-475b-b5cf-2463890b0fe4\",\"type\":\"Toolbar\"},{\"attributes\":{\"axis_label\":\"Salary USD (log)\",\"formatter\":{\"id\":\"bc7cc2da-1f87-4f49-8cbd-8446925f47c1\",\"type\":\"BasicTickFormatter\"},\"plot\":{\"id\":\"18efa352-1a2c-46c8-9738-b620e587927e\",\"subtype\":\"Figure\",\"type\":\"Plot\"},\"ticker\":{\"id\":\"b83d8d3c-1d3e-4ae3-a8ff-5941f0339214\",\"type\":\"BasicTicker\"}},\"id\":\"1799334c-5ed9-487c-a490-0b748beb6d11\",\"type\":\"LinearAxis\"},{\"attributes\":{\"label\":{\"field\":\"Pos\"},\"renderers\":[{\"id\":\"5d7693c9-64c5-4cd8-97f8-863cdb1975a3\",\"type\":\"GlyphRenderer\"}]},\"id\":\"e7e5aa8e-391b-4f0a-b815-2f50c5a89aa0\",\"type\":\"LegendItem\"},{\"attributes\":{\"axis_label\":\"Salary USD (log)\",\"formatter\":{\"id\":\"d44cf8ab-ea3f-4a5d-a8bb-5ab4ed86e173\",\"type\":\"BasicTickFormatter\"},\"plot\":{\"id\":\"e886b86b-7301-47f0-b966-50463d18ec9c\",\"subtype\":\"Figure\",\"type\":\"Plot\"},\"ticker\":{\"id\":\"c2215096-2011-412d-ad9b-c61c476d8725\",\"type\":\"BasicTicker\"}},\"id\":\"287644ec-c69c-4161-a78e-b676fdc9b3cb\",\"type\":\"LinearAxis\"},{\"attributes\":{\"fill_alpha\":{\"value\":0.2},\"fill_color\":{\"field\":\"Pos\",\"transform\":{\"id\":\"4347a93b-1267-419e-8482-100a1b677dad\",\"type\":\"CategoricalColorMapper\"}},\"line_color\":{\"field\":\"Pos\",\"transform\":{\"id\":\"4347a93b-1267-419e-8482-100a1b677dad\",\"type\":\"CategoricalColorMapper\"}},\"x\":{\"field\":\"PSG\"},\"y\":{\"field\":\"logsalary\"}},\"id\":\"b606a873-d14e-403d-bb4e-450c6148fc4b\",\"type\":\"Circle\"},{\"attributes\":{\"plot\":{\"id\":\"18efa352-1a2c-46c8-9738-b620e587927e\",\"subtype\":\"Figure\",\"type\":\"Plot\"},\"ticker\":{\"id\":\"f1655fa7-de74-4850-b4f8-8b7c6fff9ee1\",\"type\":\"BasicTicker\"}},\"id\":\"96c5ac92-cd1e-4412-acc9-1993feee77a3\",\"type\":\"Grid\"},{\"attributes\":{\"label\":{\"field\":\"Pos\"},\"renderers\":[{\"id\":\"16a12e19-f4cb-47f2-a287-7031d618d6c6\",\"type\":\"GlyphRenderer\"}]},\"id\":\"dd6b15eb-ff46-4f89-a407-d96779725876\",\"type\":\"LegendItem\"},{\"attributes\":{},\"id\":\"ecb778c4-3b14-4e30-94ee-6cc1e75b9018\",\"type\":\"BasicTicker\"},{\"attributes\":{},\"id\":\"d44cf8ab-ea3f-4a5d-a8bb-5ab4ed86e173\",\"type\":\"BasicTickFormatter\"},{\"attributes\":{},\"id\":\"c2215096-2011-412d-ad9b-c61c476d8725\",\"type\":\"BasicTicker\"},{\"attributes\":{\"callback\":null},\"id\":\"3e1442c0-179d-4504-b6ec-60072a5b4128\",\"type\":\"DataRange1d\"},{\"attributes\":{\"overlay\":{\"id\":\"a623f05b-1c77-45b9-b1ae-2d085a2f25b4\",\"type\":\"BoxAnnotation\"}},\"id\":\"f6baed9d-2794-4386-ae51-c362294824db\",\"type\":\"BoxZoomTool\"},{\"attributes\":{},\"id\":\"3408d66e-05b0-4b1e-8924-bdf84c9d4b06\",\"type\":\"WheelZoomTool\"},{\"attributes\":{},\"id\":\"e6186a5d-2743-40ec-9f55-53adf653b27a\",\"type\":\"WheelZoomTool\"},{\"attributes\":{\"source\":{\"id\":\"a8c058e0-ba5d-49a5-83d1-0a93ba17ef72\",\"type\":\"ColumnDataSource\"}},\"id\":\"2943ecae-d662-4e1a-b208-12bc8e9100e2\",\"type\":\"CDSView\"}],\"root_ids\":[\"7bd9fd9a-6430-4065-91e3-fa64764006b5\"]},\"title\":\"Bokeh Application\",\"version\":\"0.12.7\"}};\n",
       "            var render_items = [{\"docid\":\"0ecbfe51-5490-4666-94e9-07d49f36eec4\",\"elementid\":\"994e16b0-73d3-4892-988a-cd9c48ee095e\",\"modelid\":\"7bd9fd9a-6430-4065-91e3-fa64764006b5\"}];\n",
       "            \n",
       "            Bokeh.embed.embed_items(docs_json, render_items);\n",
       "          };\n",
       "          if (document.readyState != \"loading\") fn();\n",
       "          else document.addEventListener(\"DOMContentLoaded\", fn);\n",
       "        })();\n",
       "      },\n",
       "      function(Bokeh) {\n",
       "      }\n",
       "    ];\n",
       "  \n",
       "    function run_inline_js() {\n",
       "      \n",
       "      if ((root.Bokeh !== undefined) || (force === true)) {\n",
       "        for (var i = 0; i < inline_js.length; i++) {\n",
       "          inline_js[i].call(root, root.Bokeh);\n",
       "        }if (force === true) {\n",
       "          display_loaded();\n",
       "        }} else if (Date.now() < root._bokeh_timeout) {\n",
       "        setTimeout(run_inline_js, 100);\n",
       "      } else if (!root._bokeh_failed_load) {\n",
       "        console.log(\"Bokeh: BokehJS failed to load within specified timeout.\");\n",
       "        root._bokeh_failed_load = true;\n",
       "      } else if (force !== true) {\n",
       "        var cell = $(document.getElementById(\"994e16b0-73d3-4892-988a-cd9c48ee095e\")).parents('.cell').data().cell;\n",
       "        cell.output_area.append_execute_result(NB_LOAD_WARNING)\n",
       "      }\n",
       "  \n",
       "    }\n",
       "  \n",
       "    if (root._bokeh_is_loading === 0) {\n",
       "      console.log(\"Bokeh: BokehJS loaded, going straight to plotting\");\n",
       "      run_inline_js();\n",
       "    } else {\n",
       "      load_libs(js_urls, function() {\n",
       "        console.log(\"Bokeh: BokehJS plotting callback run at\", now());\n",
       "        run_inline_js();\n",
       "      });\n",
       "    }\n",
       "  }(window));\n",
       "</script>"
      ]
     },
     "metadata": {},
     "output_type": "display_data"
    }
   ],
   "source": [
    "from bokeh.layouts import layout\n",
    "output_notebook()\n",
    "\n",
    "p = figure(plot_width=600, plot_height=600,tools=[hover,'box_zoom','wheel_zoom'])\n",
    "p.circle(x=\"PSG\", y=\"logsalary\",color={'field': 'Pos', 'transform': color_mapper},\n",
    "        legend='Pos',fill_alpha=0.2,source=dat)\n",
    "p.xaxis.axis_label = \"Points Per Game\"\n",
    "p.yaxis.axis_label = \"Salary USD (log)\"\n",
    "p.legend.location = \"bottom_right\"\n",
    "p.legend.background_fill_color = \"navy\"\n",
    "p.legend.background_fill_alpha = 0.5\n",
    "\n",
    "\n",
    "p1 = figure(plot_width=600, plot_height=600,tools=[hover,'box_zoom','wheel_zoom'])\n",
    "p1.circle(x=jitter(\"Age\",width=0.6, range=p.x_range), y=\"logsalary\",\n",
    "           color={'field': 'Pos', 'transform': color_mapper}, \n",
    "          legend='Pos',fill_alpha=0.2,source=dat)\n",
    "p1.xaxis.axis_label = \"Age\"\n",
    "p1.yaxis.axis_label = \"Salary USD (log)\"\n",
    "p1.legend.location = \"bottom_right\"\n",
    "p1.legend.background_fill_color = \"navy\"\n",
    "p1.legend.background_fill_alpha = 0.5\n",
    "\n",
    "\n",
    "tab1 = Panel(child=p, title=\"PPG\")\n",
    "tab2 = Panel(child=p1, title=\"Age\")\n",
    "tabs = Tabs(tabs=[ tab1, tab2 ])\n",
    "show(tabs)"
   ]
  },
  {
   "cell_type": "markdown",
   "metadata": {},
   "source": [
    "## Solution"
   ]
  },
  {
   "cell_type": "markdown",
   "metadata": {},
   "source": [
    "# Question 3: Diabetes classification using support vector machines (4+3+3=10 pts) \n",
    "(a) Apply a linear SVM, using the scikit-SVM, for the Pima Indian Women diabetes detection problem on the dataset provided (details on dataset here  http://archive.ics.uci.edu/ml/datasets/Pima+Indians+Diabetes) . Specify how you chose the slack cost/penalty (‘C’ parameter)for the model. Maintain all other parameters as default. Hint: http://scikit-learn.org/stable/modules/generated/sklearn.grid_search.GridSearchCV.html will make 10-fold cross-validation easier.\n",
    "The code to get the training/testing data is provided below.\n",
    "\n",
    "(b) Repeat (a) but using a Gaussian radial basis kernel.\n",
    "\n",
    "(c) Summarize the comparative performance (mean error rates) of the classifiers. What do you conclude? (be brief)."
   ]
  },
  {
   "cell_type": "code",
   "execution_count": 46,
   "metadata": {
    "collapsed": true
   },
   "outputs": [],
   "source": [
    "import numpy as np\n",
    "import pandas as pd\n",
    "from sklearn.svm import SVC\n",
    "from sklearn import grid_search\n",
    "\n",
    "data_train = pd.read_csv('diabetes_train-log.csv')\n",
    "data_test = pd.read_csv('diabetes_test-log.csv')\n",
    "cols = ['numpreg', 'plasmacon', 'bloodpress', 'skinfold', 'seruminsulin', 'BMI', 'pedigreefunction', 'age']\n",
    "\n",
    "xtrain = np.asmatrix(data_train[cols])\n",
    "ytrain = np.asarray(data_train['classvariable']).T\n",
    "\n",
    "xtest = np.asmatrix(data_test[cols])\n",
    "ytest = np.asarray(data_test['classvariable']).T"
   ]
  },
  {
   "cell_type": "markdown",
   "metadata": {},
   "source": [
    "## SOLUTION"
   ]
  },
  {
   "cell_type": "markdown",
   "metadata": {},
   "source": [
    "### Part A - Select C (slack penalty)"
   ]
  },
  {
   "cell_type": "code",
   "execution_count": 47,
   "metadata": {},
   "outputs": [
    {
     "data": {
      "text/plain": [
       "GridSearchCV(cv=10, error_score='raise',\n",
       "       estimator=SVC(C=1.0, cache_size=200, class_weight=None, coef0=0.0,\n",
       "  decision_function_shape=None, degree=3, gamma='auto', kernel='linear',\n",
       "  max_iter=-1, probability=False, random_state=None, shrinking=True,\n",
       "  tol=0.001, verbose=False),\n",
       "       fit_params={}, iid=True, n_jobs=1,\n",
       "       param_grid={'C': array([  0.5,   1. ,   1.5,   2. ,   2.5,   3. ,   3.5,   4. ,   4.5,\n",
       "         5. ,   5.5,   6. ,   6.5,   7. ,   7.5,   8. ,   8.5,   9. ,\n",
       "         9.5,  10. ,  10.5,  11. ,  11.5,  12. ,  12.5,  13. ,  13.5,\n",
       "        14. ,  14.5,  15. ,  15.5,  16. ,  16.5,  17. ,  17.5,  18. ,\n",
       "        18.5,  19. ,  19.5,  20. ,  20.5,  21. ,  21.5,  22. ,  22.5,\n",
       "        23. ,  23.5,  24. ,  24.5,  25. ])},\n",
       "       pre_dispatch='2*n_jobs', refit=True, scoring=None, verbose=0)"
      ]
     },
     "execution_count": 47,
     "metadata": {},
     "output_type": "execute_result"
    }
   ],
   "source": [
    "parameters = {'C':np.linspace(0.5,25)}\n",
    "svr = SVC(kernel='linear')\n",
    "clf = grid_search.GridSearchCV(svr, parameters,cv=10)\n",
    "clf.fit(xtrain, ytrain)"
   ]
  },
  {
   "cell_type": "code",
   "execution_count": 48,
   "metadata": {},
   "outputs": [
    {
     "data": {
      "text/plain": [
       "{'C': 3.5}"
      ]
     },
     "execution_count": 48,
     "metadata": {},
     "output_type": "execute_result"
    }
   ],
   "source": [
    "clf.best_params_"
   ]
  },
  {
   "cell_type": "code",
   "execution_count": 49,
   "metadata": {},
   "outputs": [
    {
     "name": "stdout",
     "output_type": "stream",
     "text": [
      "(Train) Mean squared error is: 0.24\n",
      "(Test) Mean squared error: 0.20\n"
     ]
    }
   ],
   "source": [
    "from sklearn.metrics import mean_squared_error\n",
    "ypred_tr = clf.predict(xtrain)\n",
    "ypred_ts = clf.predict(xtest)\n",
    "print \"(Train) Mean squared error is: %.2f\" % mean_squared_error(ytrain,ypred_tr)\n",
    "print \"(Test) Mean squared error: %.2f\" % mean_squared_error(ytest,ypred_ts)"
   ]
  },
  {
   "cell_type": "markdown",
   "metadata": {},
   "source": [
    "### Part B - Select C (slack penalty) w/ Gaussian RBF"
   ]
  },
  {
   "cell_type": "code",
   "execution_count": 50,
   "metadata": {},
   "outputs": [
    {
     "data": {
      "text/plain": [
       "GridSearchCV(cv=10, error_score='raise',\n",
       "       estimator=SVC(C=1.0, cache_size=200, class_weight=None, coef0=0.0,\n",
       "  decision_function_shape=None, degree=3, gamma='auto', kernel='rbf',\n",
       "  max_iter=-1, probability=False, random_state=None, shrinking=True,\n",
       "  tol=0.001, verbose=False),\n",
       "       fit_params={}, iid=True, n_jobs=1,\n",
       "       param_grid={'C': array([  0.5,   1. ,   1.5,   2. ,   2.5,   3. ,   3.5,   4. ,   4.5,\n",
       "         5. ,   5.5,   6. ,   6.5,   7. ,   7.5,   8. ,   8.5,   9. ,\n",
       "         9.5,  10. ,  10.5,  11. ,  11.5,  12. ,  12.5,  13. ,  13.5,\n",
       "        14. ,  14.5,  15. ,  15.5,  16. ,  16.5,  17. ,  17.5,  18. ,\n",
       "        18.5,  19. ,  19.5,  20. ,  20.5,  21. ,  21.5,  22. ,  22.5,\n",
       "        23. ,  23.5,  24. ,  24.5,  25. ])},\n",
       "       pre_dispatch='2*n_jobs', refit=True, scoring=None, verbose=0)"
      ]
     },
     "execution_count": 50,
     "metadata": {},
     "output_type": "execute_result"
    }
   ],
   "source": [
    "parameters = {'C':np.linspace(0.5,25)}\n",
    "svr = SVC(kernel='rbf')\n",
    "clf = grid_search.GridSearchCV(svr, parameters,cv=10)\n",
    "clf.fit(xtrain, ytrain)"
   ]
  },
  {
   "cell_type": "code",
   "execution_count": 51,
   "metadata": {},
   "outputs": [
    {
     "data": {
      "text/plain": [
       "{'C': 1.5}"
      ]
     },
     "execution_count": 51,
     "metadata": {},
     "output_type": "execute_result"
    }
   ],
   "source": [
    "clf.best_params_"
   ]
  },
  {
   "cell_type": "code",
   "execution_count": 52,
   "metadata": {},
   "outputs": [
    {
     "name": "stdout",
     "output_type": "stream",
     "text": [
      "(Train) Mean squared error is: 0.24\n",
      "(Test) Mean squared error: 0.24\n"
     ]
    }
   ],
   "source": [
    "ypred_tr_rbf = clf.predict(xtrain)\n",
    "ypred_ts_rbf = clf.predict(xtest)\n",
    "print \"(Train) Mean squared error is: %.2f\" % mean_squared_error(ytrain,ypred_tr_rbf)\n",
    "print \"(Test) Mean squared error: %.2f\" % mean_squared_error(ytest,ypred_ts_rbf)"
   ]
  },
  {
   "cell_type": "markdown",
   "metadata": {
    "collapsed": true
   },
   "source": [
    "### Part C - Explanation"
   ]
  },
  {
   "cell_type": "markdown",
   "metadata": {
    "collapsed": true
   },
   "source": [
    "With all factors considered, the first iteration of this problem with only selecting the slack penalty based on a linear model yielded a slighltly lower MSE on the testing set than selecting the slack penalty with Gaussian RBF. It should be noted that both trials yielded the same MSE on the training sets which shows that SVM's are very good when it comes to classifications, especially on the simple data set used in this scenario. What would be expected going forward with more robust data would be that each method would have its own merits - the linear kernal will continue to fit simpler datasets well, while the non-linear that RBF utilizes will be able to better classify more complex boundary problems."
   ]
  }
 ],
 "metadata": {
  "anaconda-cloud": {},
  "kernelspec": {
   "display_name": "Python 2",
   "language": "python",
   "name": "python2"
  },
  "language_info": {
   "codemirror_mode": {
    "name": "ipython",
    "version": 2
   },
   "file_extension": ".py",
   "mimetype": "text/x-python",
   "name": "python",
   "nbconvert_exporter": "python",
   "pygments_lexer": "ipython2",
   "version": "2.7.13"
  }
 },
 "nbformat": 4,
 "nbformat_minor": 1
}
