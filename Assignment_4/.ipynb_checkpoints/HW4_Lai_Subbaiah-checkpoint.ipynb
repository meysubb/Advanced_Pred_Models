{
 "cells": [
  {
   "cell_type": "markdown",
   "metadata": {
    "collapsed": true
   },
   "source": [
    "\n",
    "# <p style=\"text-align: center;\">MIS 382: Advanced Predictive Modelling</p>\n",
    "# <p style=\"text-align: center;\">Assignment 4</p>\n",
    "## <p style=\"text-align: center;\">Total points: 60</p>\n",
    "## <p style=\"text-align: center;\">Due: Wednesday, November 8th, submitted via Canvas by 11:59 pm</p>\n",
    "## <p style=\"text-align: center;\">By: Tim Lai (ttl353), Meyappan Subbaiah (ms47296)</p>\n",
    "\n",
    "Your homework should be written in a **Jupyter notebook**. You may work in groups if you wish. Only one student per team needs to submit the assignment on Canvas.  But be sure to include name and UTID for all students.  Homework groups will be created and managed through Canvas, so please do not arbitrarily change your homework group.  \n",
    "\n",
    "Also, please make sure your code runs and the graphics (and anything else) are displayed in your notebook before submitting. (%matplotlib inline)"
   ]
  },
  {
   "cell_type": "markdown",
   "metadata": {},
   "source": [
    "# Question 1 - Bayesian Classifiers (15 pts)\n",
    "\n",
    "In this problem, you will classify between digits 8 and 9 of the MNIST dataset using Bayesian classifiers (LDA, QDA and Naive Bayes) The code below loads the dataset and all necessary sklearn modules. Look up any module on the scikit-learn website for a full description.\n",
    "\n",
    "1. Train Linear Discriminant Analysis, Quadratic Discriminant Analysis, and (Gaussian) Naive Bayes. Extract the probability of the class being digits 8 or digits 9 for every row. \n",
    "2. Use this to plot the receiver operating characteristic (ROC) curve. (one figure for all 3 models, with a label for each line) \n",
    "3. Report the area under the ROC curve (AUC) for each model. (5 pts for each model. Total of 15 pts)"
   ]
  },
  {
   "cell_type": "code",
   "execution_count": 1,
   "metadata": {
    "collapsed": true
   },
   "outputs": [],
   "source": [
    "%matplotlib inline\n",
    "import pandas as pd\n",
    "from sklearn.model_selection import train_test_split\n",
    "from sklearn.metrics import roc_curve, roc_auc_score\n",
    "from sklearn.naive_bayes import GaussianNB\n",
    "from sklearn.discriminant_analysis import LinearDiscriminantAnalysis as LDA\n",
    "from sklearn.discriminant_analysis import QuadraticDiscriminantAnalysis as QDA\n",
    "import numpy as np\n",
    "import matplotlib.pyplot as plt"
   ]
  },
  {
   "cell_type": "code",
   "execution_count": 2,
   "metadata": {
    "collapsed": true
   },
   "outputs": [],
   "source": [
    "import matplotlib.pyplot as plt\n",
    "from sklearn.datasets import fetch_mldata\n",
    "\n",
    "mnist = fetch_mldata(\"MNIST original\", data_home='./dataset/')  # data downloaded in'./dataset/', change if necessary\n",
    "\n",
    "X= (mnist.data / 255.)\n",
    "y = mnist.target\n",
    "\n",
    "X_train = X[:60000]\n",
    "y_train = y[:60000]\n",
    "\n",
    "X_test = X[60000:]\n",
    "y_test = y[60000:]"
   ]
  },
  {
   "cell_type": "code",
   "execution_count": 3,
   "metadata": {},
   "outputs": [
    {
     "name": "stdout",
     "output_type": "stream",
     "text": [
      "((11800, 784), (11800,), (1983, 784), (1983,))\n"
     ]
    }
   ],
   "source": [
    "idx = (y_train == 8) + (y_train==9)\n",
    "X_train = X_train[idx]\n",
    "y_train = y_train[idx]\n",
    "y_train = (y_train-8)\n",
    "\n",
    "idx = (y_test == 8) + (y_test==9)\n",
    "X_test = X_test[idx]\n",
    "y_test = y_test[idx]\n",
    "y_test = (y_test-8)\n",
    "\n",
    "print(X_train.shape, y_train.shape, X_test.shape, y_test.shape)"
   ]
  },
  {
   "cell_type": "markdown",
   "metadata": {},
   "source": [
    "## Solutions"
   ]
  },
  {
   "cell_type": "markdown",
   "metadata": {},
   "source": [
    "#### Linear Discriminant Analysis "
   ]
  },
  {
   "cell_type": "code",
   "execution_count": 4,
   "metadata": {},
   "outputs": [
    {
     "name": "stderr",
     "output_type": "stream",
     "text": [
      "/anaconda/lib/python2.7/site-packages/sklearn/discriminant_analysis.py:387: UserWarning: Variables are collinear.\n",
      "  warnings.warn(\"Variables are collinear.\")\n"
     ]
    },
    {
     "data": {
      "text/plain": [
       "array([[  9.99740516e-01,   2.59484124e-04],\n",
       "       [  9.99999830e-01,   1.69840181e-07],\n",
       "       [  9.99978789e-01,   2.12106777e-05],\n",
       "       ..., \n",
       "       [  2.82800672e-09,   9.99999997e-01],\n",
       "       [  5.97602137e-08,   9.99999940e-01],\n",
       "       [  1.59061098e-09,   9.99999998e-01]])"
      ]
     },
     "execution_count": 4,
     "metadata": {},
     "output_type": "execute_result"
    }
   ],
   "source": [
    "lda = LDA()\n",
    "lda.fit(X_train, y_train)\n",
    "lda_probs = lda.predict_proba(X_test)\n",
    "lda_probs"
   ]
  },
  {
   "cell_type": "markdown",
   "metadata": {},
   "source": [
    "#### Quadratic Discriminant Analysis "
   ]
  },
  {
   "cell_type": "code",
   "execution_count": 5,
   "metadata": {},
   "outputs": [
    {
     "name": "stderr",
     "output_type": "stream",
     "text": [
      "/anaconda/lib/python2.7/site-packages/sklearn/discriminant_analysis.py:695: UserWarning: Variables are collinear\n",
      "  warnings.warn(\"Variables are collinear\")\n"
     ]
    },
    {
     "data": {
      "text/plain": [
       "array([[  1.00000000e+000,   1.25488809e-296],\n",
       "       [  1.00000000e+000,   0.00000000e+000],\n",
       "       [  1.00000000e+000,   0.00000000e+000],\n",
       "       ..., \n",
       "       [  0.00000000e+000,   1.00000000e+000],\n",
       "       [  0.00000000e+000,   1.00000000e+000],\n",
       "       [  0.00000000e+000,   1.00000000e+000]])"
      ]
     },
     "execution_count": 5,
     "metadata": {},
     "output_type": "execute_result"
    }
   ],
   "source": [
    "qda = QDA()\n",
    "qda.fit(X_train, y_train)\n",
    "qda_probs = qda.predict_proba(X_test)\n",
    "qda_probs"
   ]
  },
  {
   "cell_type": "markdown",
   "metadata": {},
   "source": [
    "#### (Gaussian) Naive Bayes"
   ]
  },
  {
   "cell_type": "code",
   "execution_count": 6,
   "metadata": {},
   "outputs": [
    {
     "data": {
      "text/plain": [
       "array([[  1.00000000e+000,   0.00000000e+000],\n",
       "       [  1.00000000e+000,   0.00000000e+000],\n",
       "       [  1.00000000e+000,   0.00000000e+000],\n",
       "       ..., \n",
       "       [  4.29907815e-178,   1.00000000e+000],\n",
       "       [  2.35127896e-114,   1.00000000e+000],\n",
       "       [  1.72617317e-182,   1.00000000e+000]])"
      ]
     },
     "execution_count": 6,
     "metadata": {},
     "output_type": "execute_result"
    }
   ],
   "source": [
    "gnb = GaussianNB()\n",
    "gnb.fit(X_train,y_train)\n",
    "gnb_probs = gnb.predict_proba(X_test)\n",
    "gnb_probs"
   ]
  },
  {
   "cell_type": "markdown",
   "metadata": {},
   "source": [
    "### Roc Curve"
   ]
  },
  {
   "cell_type": "code",
   "execution_count": 7,
   "metadata": {},
   "outputs": [
    {
     "data": {
      "image/png": "[encoded data removed]",
      "text/plain": [
       "<matplotlib.figure.Figure at 0x11ab45d10>"
      ]
     },
     "metadata": {},
     "output_type": "display_data"
    }
   ],
   "source": [
    "lda_fpr, lda_tpr, lda_thresholds = roc_curve(y_test, lda_probs[:, 1])\n",
    "qda_fpr, qda_tpr, qda_thresholds = roc_curve(y_test, qda_probs[:, 1])\n",
    "gnb_fpr, gnb_tpr, gnb_thresholds = roc_curve(y_test, gnb_probs[:, 1])\n",
    "plt.plot(lda_fpr, lda_tpr,label='LDA')\n",
    "plt.plot(qda_fpr, qda_tpr,label='QDA')\n",
    "plt.plot(gnb_fpr, gnb_tpr,label='GNB')\n",
    "plt.xlabel('False Positive Rate')\n",
    "plt.ylabel('True Positive Rate')\n",
    "plt.title('Receiver Operating Characteristic (ROC)')\n",
    "plt.legend(loc=\"lower right\")\n",
    "plt.show()"
   ]
  },
  {
   "cell_type": "markdown",
   "metadata": {},
   "source": [
    "### ROC-AUC Score"
   ]
  },
  {
   "cell_type": "code",
   "execution_count": 8,
   "metadata": {},
   "outputs": [
    {
     "name": "stdout",
     "output_type": "stream",
     "text": [
      "The AUC for Linear Discriminant Analysis is: 0.994\n",
      "The AUC for Quadratic Discriminant Analysis is: 0.941\n",
      "The AUC for Gaussian Naive Bayes is: 0.902\n"
     ]
    }
   ],
   "source": [
    "print \"The AUC for Linear Discriminant Analysis is: {:.3f}\".format(roc_auc_score(y_test, lda_probs[:, 1]))\n",
    "print \"The AUC for Quadratic Discriminant Analysis is: {:.3f}\".format(roc_auc_score(y_test, qda_probs[:, 1]))\n",
    "print \"The AUC for Gaussian Naive Bayes is: {:.3f}\".format(roc_auc_score(y_test, gnb_probs[:, 1]))"
   ]
  },
  {
   "cell_type": "markdown",
   "metadata": {},
   "source": [
    "# Question 2: Bayesian Networks (10 pts)\n",
    "In the Bayesian Network shown below, the nodes represent the following random variables: S stands for \"Smoking\", LC for \"Lung Cancer\", B for \"Bronchitis\", T for \"Tuberculosis\", D for \"Dyspnea\". The necessary conditional probabilities are provided alongside. "
   ]
  },
  {
   "cell_type": "code",
   "execution_count": 9,
   "metadata": {},
   "outputs": [
    {
     "data": {
      "image/png": "[encoded data removed]",
      "text/plain": [
       "<IPython.core.display.Image object>"
      ]
     },
     "execution_count": 9,
     "metadata": {},
     "output_type": "execute_result"
    }
   ],
   "source": [
    "from IPython.display import Image\n",
    "Image(filename='BayesianNetworks.png')"
   ]
  },
  {
   "cell_type": "markdown",
   "metadata": {},
   "source": [
    "$$Pr(S = yes) = 0.1$$\n",
    "$$Pr(LC = yes | S = yes) = 0.03$$\n",
    "$$Pr(LC = yes | S = no) = 0.01$$\n",
    "$$Pr(B = yes | S = yes) = 0.06$$\n",
    "$$Pr(B = yes | S = no) = 0.02$$\n",
    "$$Pr(T = yes | LC = yes, B = yes) = 0.8$$\n",
    "$$Pr(T = yes | LC = yes, B = no) = 0.5$$\n",
    "$$Pr(T = yes | LC = no, B = yes) = 0.1$$\n",
    "$$Pr(T = yes | LC = no, B = no) = 0.04$$\n",
    "$$Pr(D = yes | T = yes, B = yes) = 0.9$$\n",
    "$$Pr(D = yes | T = yes, B = no) = 0.7$$\n",
    "$$Pr(D = yes | T = no, B = yes) = 0.65$$\n",
    "$$Pr(D = yes | T = no, B = no) = 0.015$$"
   ]
  },
  {
   "cell_type": "markdown",
   "metadata": {},
   "source": [
    "Compute the following probabilities:\n",
    "\n",
    "(a) (2 pts) $Pr(D = yes)$\n",
    "\n",
    "(b) (2 pts) $Pr(LC = no, B = yes, D = yes)$\n",
    "\n",
    "(c) (3 pts) Given that a person has Bronchitis (B = yes) and no Lung Cancer (LC = no), the probability he will has symptoms of Dyspnea (D = yes).\n",
    "\n",
    "(d) (3 pts) Given that a person is a smoker (S = yes), the probability he will get infected with Tuberculosis (T = yes)."
   ]
  },
  {
   "cell_type": "markdown",
   "metadata": {},
   "source": [
    "## Solutions"
   ]
  },
  {
   "cell_type": "markdown",
   "metadata": {},
   "source": [
    "### Step 1: Develop Conditional Probability Tables for all Nodes"
   ]
  },
  {
   "cell_type": "markdown",
   "metadata": {},
   "source": [
    "**Smoker Node**\n",
    "\n",
    "\n",
    "| T | F |\n",
    "|------|------|\n",
    "|   0.1  | 0.9|"
   ]
  },
  {
   "cell_type": "markdown",
   "metadata": {},
   "source": [
    "** Lung Cancer Node **\n",
    "\n",
    "| | LC = T | LC = F |\n",
    "|----- |------|------|\n",
    "| Smoke = T|   0.03  | 0.97|\n",
    "| Smoke = F|   0.01  | 0.99|"
   ]
  },
  {
   "cell_type": "markdown",
   "metadata": {},
   "source": [
    "** Bronchitis Node **\n",
    "\n",
    "| | B = T | B = F |\n",
    "|----- |------|------|\n",
    "| Smoke = T|   0.06  | 0.94|\n",
    "| Smoke = F|   0.02  | 0.98|"
   ]
  },
  {
   "cell_type": "markdown",
   "metadata": {},
   "source": [
    "** Tuberculosis Node**\n",
    "\n",
    "|      |      | T = T | T = F |\n",
    "|------|------|-------|-------|\n",
    "|LC = T| B = T|   0.8  | 0.2|\n",
    "|LC = T| B = F|   0.5  | 0.5|\n",
    "|LC = F| B = T|   0.1  | 0.9|\n",
    "|LC = F| B = F|   0.04 | 0.96|\n"
   ]
  },
  {
   "cell_type": "markdown",
   "metadata": {},
   "source": [
    "** Dyspnea Node **\n",
    "\n",
    "|      |      | D = T | D = F |\n",
    "|------|------|-------|-------|\n",
    "|Tub = T| B = T|   0.9  | 0.1|\n",
    "|Tub = T| B = F|   0.7  | 0.3|\n",
    "|Tub = F| B = T|   0.65  | 0.35|\n",
    "|Tub = F| B = F|   0.015 | 0.985|\n",
    "\n"
   ]
  },
  {
   "cell_type": "markdown",
   "metadata": {},
   "source": [
    "### Part A"
   ]
  },
  {
   "cell_type": "markdown",
   "metadata": {},
   "source": [
    "$Pr(D=Yes) = (A) + (B) + (C) + (D) $, where:\n",
    "\n",
    "$$ (A) - Pr(D = Y | Tub = T, B = T) * P(Tub=T|B=T) * P(B=T)  $$\n",
    "$$ (B) - Pr(D = Y | Tub = T, B = F) * P(Tub=T|B=F) * P(B=F)  $$\n",
    "$$ (C) - Pr(D = Y | Tub = F, B = T) * P(Tub=F|B=T) * P(B=T)  $$\n",
    "$$ (D) - Pr(D = Y | Tub = F, B = F) * P(Tub=F|B=F) * P(B=F)  $$"
   ]
  },
  {
   "cell_type": "markdown",
   "metadata": {},
   "source": [
    "First we find $P(B = T) * P(B=F)$"
   ]
  },
  {
   "cell_type": "markdown",
   "metadata": {},
   "source": [
    "$$ P(B=T) = P(B=T|S=T) * P(S=T) + P(B=T|S=F) * P(S=F) $$\n",
    "Values obtained from the above tables.\n",
    "$$ P(B=T) = (0.06) * (0.1) + (0.02)(0.9) = 0.024 $$\n",
    "$$ P(B=F) = 1-P(B=T) = 1-0.024 = 0.976 $$"
   ]
  },
  {
   "cell_type": "markdown",
   "metadata": {},
   "source": [
    "Next we find $P(Tub \\in (T,F) | B \\in (T,F))$"
   ]
  },
  {
   "cell_type": "markdown",
   "metadata": {},
   "source": [
    "$$ P(Tub=T|B=T) = P(Tub=T | B=T,LC=T)P(LC=T) + P(Tub=T | B=T,LC=F)P(LC=F) $$\n",
    "$$ P(Tub=T|B=T) = (0.8) * (0.012) + (0.1) * (0.988) = 0.1084 $$"
   ]
  },
  {
   "cell_type": "markdown",
   "metadata": {},
   "source": [
    "$$ P(Tub=T|B=F) = P(Tub=T | B=F,LC=T)P(LC=T) + P(Tub=T | B=F,LC=F)P(LC=F) $$\n",
    "$$ P(Tub=T|B=F) = (0.5)*(0.012) + (0.04) * (0.988) = 0.04552 $$"
   ]
  },
  {
   "cell_type": "markdown",
   "metadata": {},
   "source": [
    "$$ P(Tub=F|B=T) = P(Tub=F | B=T,LC=T)P(LC=T) + P(Tub=F | B=T,LC=F)P(LC=F) $$\n",
    "$$ P(Tub=F|B=T) = (0.2) * (0.012) + (0.9)*(0.988) = 0.8916 $$"
   ]
  },
  {
   "cell_type": "markdown",
   "metadata": {},
   "source": [
    "$$ P(Tub=F|B=F) = P(Tub=F | B=F,LC=T)P(LC=T) + P(Tub=F | B=F,LC=F)P(LC=F) $$\n",
    "$$ P(Tub=F|B=F) = (0.5) * (0.012) + (0.96)*(0.988) = 0.95448$$\n"
   ]
  },
  {
   "cell_type": "markdown",
   "metadata": {},
   "source": [
    "We go back and compute (A), (B), (C), (D), resulting in:\n",
    "\n",
    "(A) = 0.00234144  \n",
    "(B) = 0.031099264  \n",
    "(C) = 0.01390896  \n",
    "(D) = 0.0139735872  \n",
    "**Pr(D=Yes) = (A) + (B) + (C) + (D) = 0.0614 = 6.14%**"
   ]
  },
  {
   "cell_type": "markdown",
   "metadata": {},
   "source": [
    "### Part B"
   ]
  },
  {
   "cell_type": "markdown",
   "metadata": {},
   "source": [
    "$ P(D=T,LC=F,B=T) = (1) + (2) $, where \n",
    "\n",
    "$$ (1) - P(D=T,Tub=T,B=T,LC=F) $$\n",
    "$$ (2) - P(D=T,Tub=F,B=T,LC=F) $$"
   ]
  },
  {
   "cell_type": "markdown",
   "metadata": {},
   "source": [
    "(1) = \n",
    "$$ P(D=T,T=T,B=T,LC=F) = P(D=T|Tub=T,B=T)*P(Tub=T|B=T,LC=F)*P(LC=F)*P(B=T) $$ \n",
    "$$ P(D=T,Tub=T,B=T,LC=F) = (0.9) * (0.1) * (0.988) * (0.024) = 0.00213408 $$"
   ]
  },
  {
   "cell_type": "markdown",
   "metadata": {},
   "source": [
    "(2) =\n",
    "$$ P(D=T,Tub=F,B=T,LC=F) = P(D=T|Tub=T,B=T)*P(Tub=T|B=T,LC=F)*P(LC=F)*P(B=T)$$ \n",
    "$$ P(D=T,Tub=F,B=T,LC=F) = (0.65) * (0.9) * (0.988) * (0.024) = 0.01387152 $$"
   ]
  },
  {
   "cell_type": "markdown",
   "metadata": {},
   "source": [
    "**P(D=T,LC=F,B=T) = 1.60056%**"
   ]
  },
  {
   "cell_type": "markdown",
   "metadata": {},
   "source": [
    "### Part C"
   ]
  },
  {
   "cell_type": "markdown",
   "metadata": {},
   "source": [
    "$ P(D=True|B=T,LC=F) = \\dfrac{P(D=Yes,B=T,LC=F)}{P(B=T,LC=F)} $"
   ]
  },
  {
   "cell_type": "markdown",
   "metadata": {},
   "source": [
    "Found in Part B: P(D=Yes,B=T,LC=F) = 0.0160056"
   ]
  },
  {
   "cell_type": "markdown",
   "metadata": {},
   "source": [
    "$$ P(B=T,LC=F) = P(B=T,LC=F,S=T) + P(B=T,LC=F,S=F)$$\n",
    "$$ P(B=T,LC=F) = P(B=T|S=T)*P(S=T)*P(LC=F|S=T) + P(B=T|S=F)*P(S=F)*P(LC=F|S=F) $$\n",
    "$$ P(B=T,LC=F) = (0.06) * (0.1) * (0.97) + (0.02)*(0.9)*(0.99) = 0.02364 $$\n"
   ]
  },
  {
   "cell_type": "markdown",
   "metadata": {},
   "source": [
    "$ P(D=True|B=T,LC=F) = \\dfrac{P(D=Yes,B=T,LC=F)}{P(B=T,LC=F)} = \\dfrac{0.0160056}{0.02364} $  \n",
    "**P(D=True|B=T,LC=F) = 67.7%**"
   ]
  },
  {
   "cell_type": "markdown",
   "metadata": {},
   "source": [
    "### Part D"
   ]
  },
  {
   "cell_type": "markdown",
   "metadata": {},
   "source": [
    "$ P(Tub=True|S=T) = \\dfrac{P(Tub=T,S=T)}{P(S=T)} = \\dfrac{P(Tub=T,S=T)}{0.9} $"
   ]
  },
  {
   "cell_type": "markdown",
   "metadata": {},
   "source": [
    "$$ P(Tub=T,S=T) = (1) + (2) + (3) + (4) $$"
   ]
  },
  {
   "cell_type": "markdown",
   "metadata": {
    "collapsed": true
   },
   "source": [
    "(1) =  \n",
    "$$ P(Tub = T | B = T,LC=T)P(B=T|S=T)P(LC=T|S=T)P(S=T) =(0.8) * (0.06) * (0.03) * (0.1) = 0.000144 $$"
   ]
  },
  {
   "cell_type": "markdown",
   "metadata": {},
   "source": [
    "(2) =  \n",
    "$$ P(Tub = T | B = F,LC=T)P(B=F|S=T)P(LC=T|S=T)P(S=T) =(0.5) * (0.94) * (0.03) * (0.1) = 0.00141 $$"
   ]
  },
  {
   "cell_type": "markdown",
   "metadata": {},
   "source": [
    "(3) =  \n",
    "$$ P(Tub = T | B = T,LC=F)P(B=T|S=T)P(LC=F|S=T)P(S=T) =(0.1) * (0.06) * (0.97) * (0.1) = 0.000582 $$"
   ]
  },
  {
   "cell_type": "markdown",
   "metadata": {},
   "source": [
    "(4) =  \n",
    "$$ P(Tub = T | B = F,LC=F)P(B=F|S=T)P(LC=F|S=T)P(S=T) =(0.04) * (0.94) * (0.97) * (0.1) = 0.0036472 $$"
   ]
  },
  {
   "cell_type": "markdown",
   "metadata": {},
   "source": [
    "$$ P(Tub=T,S=T) = 0.0057832 $$"
   ]
  },
  {
   "cell_type": "markdown",
   "metadata": {},
   "source": [
    "**P(Tub=True|S=T) = 0.006425778 = 0.6425778%**"
   ]
  },
  {
   "cell_type": "markdown",
   "metadata": {},
   "source": [
    "# Question 3 - Logistic Regression Classification (15pts)\n",
    "\n",
    "Using the MNIST dataset in Q1, the goal is to build a Logistic Regression classifier to classify between digits $\\textbf{8 and 9}$.  Note that the imported MNIST dataset has 10 labels, from digits 0 to 9.  Use the code below to access the data set and extract the MNIST data."
   ]
  },
  {
   "cell_type": "code",
   "execution_count": 10,
   "metadata": {
    "collapsed": true
   },
   "outputs": [],
   "source": [
    "# Use code from Q1 to import the data\n",
    "import matplotlib.pyplot as plt\n",
    "from sklearn.datasets import fetch_mldata\n",
    "\n",
    "mnist = fetch_mldata(\"MNIST original\", data_home='./dataset/')  # data downloaded in'./dataset/', change if necessary\n",
    "\n",
    "X= (mnist.data / 255.)\n",
    "y = mnist.target\n",
    "\n",
    "X_train = X[:60000]\n",
    "y_train = y[:60000]\n",
    "\n",
    "X_test = X[60000:]\n",
    "y_test = y[60000:]"
   ]
  },
  {
   "cell_type": "code",
   "execution_count": 11,
   "metadata": {},
   "outputs": [
    {
     "name": "stdout",
     "output_type": "stream",
     "text": [
      "((11800, 784), (11800,), (1983, 784), (1983,))\n"
     ]
    }
   ],
   "source": [
    "idx = (y_train == 8) + (y_train==9)\n",
    "X_train = X_train[idx]\n",
    "y_train = y_train[idx]\n",
    "y_train = (y_train-8)\n",
    "\n",
    "idx = (y_test == 8) + (y_test==9)\n",
    "X_test = X_test[idx]\n",
    "y_test = y_test[idx]\n",
    "y_test = (y_test-8)\n",
    "\n",
    "print(X_train.shape, y_train.shape, X_test.shape, y_test.shape)"
   ]
  },
  {
   "cell_type": "markdown",
   "metadata": {},
   "source": [
    "1. Train a logistic regression with almost no regularization (pass l2 (ridge) to penalty and 1,000,000 to the C parameter which is the inverse of regularization strength lambda. This essentially does l2 regularization but applies very little weight to the penalty term) and report the [confusion matrix](http://scikit-learn.org/stable/modules/generated/sklearn.metrics.confusion_matrix.html) on the test data. Also report the accuracy for the \"y = 0\" class, the \"y = 1\" class, and the average per-class accuracy on the test data. Average per-class accuracy is described in this [post](http://rasbt.github.io/mlxtend/user_guide/evaluate/scoring/). You can use your confusion matrix to calculate this.  (4pts)\n",
    "2. Repeat step 1 except use l2 penalty with Cs of [0.01, 0.1, 1, 10 ,100]. You will want to use 3-fold cross validation to select the best parameter. To evaluate which parameter is best, maximize the average per-class accuracy. To help with this task, check out [GridSearchCV](http://scikit-learn.org/stable/modules/generated/sklearn.model_selection.GridSearchCV.html#sklearn.model_selection.GridSearchCV) and how to make your own [custom scorer](http://scikit-learn.org/stable/modules/model_evaluation.html).  (4pts)\n",
    "3. Repeat question 2 except use l1 instead of l2 as the penalty type, use Cs of  [0.01, ..., 100].  Compare the performances of the models (no regularization, l2, l1) using the average per-class accuracy.  (3pts)\n",
    "4. Using the optimal regularization parameter obtained in step 2, train a logistic regression classifier with ridge penalty to clasify $\\textbf{all 10 digits}$ (digits 0,1,2,3,...9) of the MNIST dataset.  Use 'newton-cg' and 'multinomial' options for solver and multi_class parameters, respectively. Report the average per-class accuracy and confusion matrix (10 X 10) on the test data. (4pts)"
   ]
  },
  {
   "cell_type": "markdown",
   "metadata": {},
   "source": [
    "## Solutions"
   ]
  },
  {
   "cell_type": "markdown",
   "metadata": {},
   "source": [
    "### Part 1"
   ]
  },
  {
   "cell_type": "code",
   "execution_count": 12,
   "metadata": {},
   "outputs": [
    {
     "data": {
      "text/plain": [
       "LogisticRegression(C=1000000, class_weight=None, dual=False,\n",
       "          fit_intercept=True, intercept_scaling=1, max_iter=100,\n",
       "          multi_class='ovr', n_jobs=1, penalty='l2', random_state=None,\n",
       "          solver='liblinear', tol=0.0001, verbose=0, warm_start=False)"
      ]
     },
     "execution_count": 12,
     "metadata": {},
     "output_type": "execute_result"
    }
   ],
   "source": [
    "from sklearn.linear_model import LogisticRegression\n",
    "l2_LR = LogisticRegression(C=1000000,penalty='l2')\n",
    "l2_LR.fit(X_train,y_train)"
   ]
  },
  {
   "cell_type": "markdown",
   "metadata": {},
   "source": [
    "#### Report Confusion Matrix "
   ]
  },
  {
   "cell_type": "code",
   "execution_count": 13,
   "metadata": {},
   "outputs": [
    {
     "data": {
      "text/plain": [
       "array([[940,  34],\n",
       "       [ 35, 974]])"
      ]
     },
     "execution_count": 13,
     "metadata": {},
     "output_type": "execute_result"
    }
   ],
   "source": [
    "from sklearn.metrics import confusion_matrix\n",
    "y_pred = l2_LR.predict(X_test)\n",
    "l2_conf_mat = confusion_matrix(y_test,y_pred)\n",
    "l2_conf_mat"
   ]
  },
  {
   "cell_type": "markdown",
   "metadata": {},
   "source": [
    "#### Average Per-Class Accuracy"
   ]
  },
  {
   "cell_type": "code",
   "execution_count": 14,
   "metadata": {
    "collapsed": true
   },
   "outputs": [],
   "source": [
    "y_0_acc = l2_conf_mat[0,0]/float(sum(l2_conf_mat[0,]))\n",
    "y_1_acc = l2_conf_mat[1,1]/float(sum(l2_conf_mat[1,]))\n",
    "acc = np.sum(np.diagonal(l2_conf_mat))/float(np.sum(l2_conf_mat))"
   ]
  },
  {
   "cell_type": "code",
   "execution_count": 15,
   "metadata": {
    "scrolled": true
   },
   "outputs": [
    {
     "name": "stdout",
     "output_type": "stream",
     "text": [
      "Accuracy for the y=0 class is: 0.965\n",
      "Accuracy for the y=1 class is: 0.965\n",
      "Average per-class accuracy is: 0.965\n"
     ]
    }
   ],
   "source": [
    "print \"Accuracy for the y=0 class is: {:.3f}\".format(y_0_acc)\n",
    "print \"Accuracy for the y=1 class is: {:.3f}\".format(y_1_acc)\n",
    "print \"Average per-class accuracy is: {:.3f}\".format(acc)"
   ]
  },
  {
   "cell_type": "markdown",
   "metadata": {},
   "source": [
    "### Part 2"
   ]
  },
  {
   "cell_type": "code",
   "execution_count": 16,
   "metadata": {
    "collapsed": true
   },
   "outputs": [],
   "source": [
    "from sklearn.metrics import make_scorer\n",
    "def acc_per_class(ground_truth, predictions):\n",
    "    conf_mat = confusion_matrix(ground_truth,predictions)\n",
    "    acc = np.sum(np.diagonal(conf_mat))/float(np.sum(conf_mat))\n",
    "    return acc"
   ]
  },
  {
   "cell_type": "code",
   "execution_count": 17,
   "metadata": {},
   "outputs": [
    {
     "name": "stderr",
     "output_type": "stream",
     "text": [
      "/anaconda/lib/python2.7/site-packages/sklearn/cross_validation.py:44: DeprecationWarning: This module was deprecated in version 0.18 in favor of the model_selection module into which all the refactored classes and functions are moved. Also note that the interface of the new CV iterators are different from that of this module. This module will be removed in 0.20.\n",
      "  \"This module will be removed in 0.20.\", DeprecationWarning)\n",
      "/anaconda/lib/python2.7/site-packages/sklearn/grid_search.py:43: DeprecationWarning: This module was deprecated in version 0.18 in favor of the model_selection module into which all the refactored classes and functions are moved. This module will be removed in 0.20.\n",
      "  DeprecationWarning)\n"
     ]
    },
    {
     "data": {
      "text/plain": [
       "GridSearchCV(cv=3, error_score='raise',\n",
       "       estimator=LogisticRegression(C=1000000, class_weight=None, dual=False,\n",
       "          fit_intercept=True, intercept_scaling=1, max_iter=100,\n",
       "          multi_class='ovr', n_jobs=1, penalty='l2', random_state=None,\n",
       "          solver='liblinear', tol=0.0001, verbose=0, warm_start=False),\n",
       "       fit_params={}, iid=True, n_jobs=1,\n",
       "       param_grid={'C': [0.01, 0.1, 1, 10, 100]}, pre_dispatch='2*n_jobs',\n",
       "       refit=True, scoring=make_scorer(acc_per_class), verbose=0)"
      ]
     },
     "execution_count": 17,
     "metadata": {},
     "output_type": "execute_result"
    }
   ],
   "source": [
    "from sklearn.grid_search import GridSearchCV\n",
    "acc_class_score = make_scorer(acc_per_class, greater_is_better=True)\n",
    "c_param = {'C':[0.01,0.1, 1, 10 ,100]}\n",
    "grid_l2 = GridSearchCV(l2_LR, c_param, cv = 3, scoring= acc_class_score)\n",
    "grid_l2.fit(X_train,y_train)"
   ]
  },
  {
   "cell_type": "code",
   "execution_count": 18,
   "metadata": {},
   "outputs": [
    {
     "name": "stdout",
     "output_type": "stream",
     "text": [
      "{'C': 1}\n",
      "The maximum average per-class accuracy is: 0.983\n"
     ]
    }
   ],
   "source": [
    "print grid_l2.best_params_\n",
    "print \"The maximum average per-class accuracy is: {:.3f}\".format(grid_l2.best_score_)"
   ]
  },
  {
   "cell_type": "markdown",
   "metadata": {},
   "source": [
    "### Part 3"
   ]
  },
  {
   "cell_type": "code",
   "execution_count": 19,
   "metadata": {},
   "outputs": [
    {
     "data": {
      "text/plain": [
       "GridSearchCV(cv=3, error_score='raise',\n",
       "       estimator=LogisticRegression(C=1000000, class_weight=None, dual=False,\n",
       "          fit_intercept=True, intercept_scaling=1, max_iter=100,\n",
       "          multi_class='ovr', n_jobs=1, penalty='l1', random_state=None,\n",
       "          solver='liblinear', tol=0.0001, verbose=0, warm_start=False),\n",
       "       fit_params={}, iid=True, n_jobs=1,\n",
       "       param_grid={'C': [0.01, 0.1, 1, 10, 100]}, pre_dispatch='2*n_jobs',\n",
       "       refit=True, scoring=make_scorer(acc_per_class), verbose=0)"
      ]
     },
     "execution_count": 19,
     "metadata": {},
     "output_type": "execute_result"
    }
   ],
   "source": [
    "l1_LR = LogisticRegression(C=1000000,penalty='l1')\n",
    "grid_l1 = GridSearchCV(l1_LR, c_param, cv = 3, scoring= acc_class_score)\n",
    "grid_l1.fit(X_train,y_train)"
   ]
  },
  {
   "cell_type": "code",
   "execution_count": 20,
   "metadata": {},
   "outputs": [
    {
     "name": "stdout",
     "output_type": "stream",
     "text": [
      "{'C': 1}\n",
      "The maximum average per-class accuracy is: 0.981\n"
     ]
    }
   ],
   "source": [
    "print grid_l1.best_params_\n",
    "print \"The maximum average per-class accuracy is: {:.3f}\".format(grid_l1.best_score_)"
   ]
  },
  {
   "cell_type": "markdown",
   "metadata": {},
   "source": [
    "** Model Performance **\n",
    "\n",
    "Model performance was measured using the average per-class accuracy. \n",
    "\n",
    "With No Regularization, we obtained a value of **0.965**.  \n",
    "L2 Regularization, we obtained a value of **0.983**.  \n",
    "L1 Regularization, we obtained a value of **0.981**.  \n",
    "\n",
    "Based on additional research, L1 regularization is, in theory, the more effective choice in performing feature selection in sparse feature spaces. Since L1 allows for feature growth logarithmically vs. L2 which allows the same linearly, L1 can be expected to be more flexible and eliminates unnecessary attributes similar to lasso regression."
   ]
  },
  {
   "cell_type": "markdown",
   "metadata": {},
   "source": [
    "### Part 4"
   ]
  },
  {
   "cell_type": "code",
   "execution_count": 21,
   "metadata": {
    "collapsed": true
   },
   "outputs": [],
   "source": [
    "X= (mnist.data / 255.)\n",
    "y = mnist.target\n",
    "\n",
    "X_train = X[:60000]\n",
    "y_train = y[:60000]\n",
    "\n",
    "X_test = X[60000:]\n",
    "y_test = y[60000:]"
   ]
  },
  {
   "cell_type": "code",
   "execution_count": 22,
   "metadata": {
    "collapsed": true,
    "scrolled": true
   },
   "outputs": [],
   "source": [
    "optimal_LR = LogisticRegression(C=1,penalty='l2',solver='newton-cg',multi_class='multinomial')"
   ]
  },
  {
   "cell_type": "code",
   "execution_count": 23,
   "metadata": {
    "scrolled": true
   },
   "outputs": [
    {
     "data": {
      "text/plain": [
       "LogisticRegression(C=1, class_weight=None, dual=False, fit_intercept=True,\n",
       "          intercept_scaling=1, max_iter=100, multi_class='multinomial',\n",
       "          n_jobs=1, penalty='l2', random_state=None, solver='newton-cg',\n",
       "          tol=0.0001, verbose=0, warm_start=False)"
      ]
     },
     "execution_count": 23,
     "metadata": {},
     "output_type": "execute_result"
    }
   ],
   "source": [
    "optimal_LR.fit(X_train,y_train)"
   ]
  },
  {
   "cell_type": "code",
   "execution_count": 24,
   "metadata": {
    "collapsed": true
   },
   "outputs": [],
   "source": [
    "y_pred = optimal_LR.predict(X_test)\n",
    "optimal_conf_mat = confusion_matrix(y_test,y_pred)"
   ]
  },
  {
   "cell_type": "code",
   "execution_count": 25,
   "metadata": {},
   "outputs": [
    {
     "name": "stdout",
     "output_type": "stream",
     "text": [
      "The average per-class accuracy is: 0.926\n"
     ]
    },
    {
     "data": {
      "text/plain": [
       "array([[ 955,    0,    2,    4,    1,   10,    4,    3,    1,    0],\n",
       "       [   0, 1110,    5,    2,    0,    2,    3,    2,   11,    0],\n",
       "       [   6,    9,  930,   14,   10,    3,   12,   10,   34,    4],\n",
       "       [   4,    1,   16,  925,    1,   23,    2,   10,   19,    9],\n",
       "       [   1,    3,    7,    3,  921,    0,    6,    5,    6,   30],\n",
       "       [   9,    2,    3,   35,   10,  777,   15,    6,   31,    4],\n",
       "       [   8,    3,    8,    2,    6,   16,  912,    2,    1,    0],\n",
       "       [   1,    7,   23,    7,    6,    1,    0,  947,    4,   32],\n",
       "       [   9,   11,    6,   22,    7,   29,   13,   10,  855,   12],\n",
       "       [   9,    8,    1,    9,   21,    7,    0,   21,    9,  924]])"
      ]
     },
     "execution_count": 25,
     "metadata": {},
     "output_type": "execute_result"
    }
   ],
   "source": [
    "print \"The average per-class accuracy is: {:.3f}\".format(acc_per_class(y_test,y_pred))\n",
    "optimal_conf_mat"
   ]
  },
  {
   "cell_type": "markdown",
   "metadata": {},
   "source": [
    "# Question 4: Regression Trees (6+5+4 = 15 points)\n",
    "In this question, we will be exploring the application of regression tree (RT) using sklearn package in Python. \n",
    "\n",
    "You will be using an NBA dataset (nbasalariesfull.csv) to predict a player’s Salary (in terms of millions, ie Salary / 1000000 ) using all the numeric performance variables available ( so everything but Player, Team, and Position ). \n",
    "\n",
    "- a. Use a random state of 42 and a test size of 1/3 to split the data into training and test.\n",
    "     \n",
    "         Build a regression using DecisionTreeRegressor with max_depth = 6. \n",
    "         Report the mean squared errors on both training and test datasets.( 6 points )\n",
    "\n",
    "\n",
    "- b. Repeat Part-1 with max_depth = 2. (5 points )\n",
    "\n",
    "\n",
    "- c. Briefly explain what you observe from these MSE values obtained by using maximum tree depths 6 and 2? \n",
    "         Which tree is better and why? ( 4 points )"
   ]
  },
  {
   "cell_type": "markdown",
   "metadata": {},
   "source": [
    "## Solutions"
   ]
  },
  {
   "cell_type": "markdown",
   "metadata": {},
   "source": [
    "#### First we import the csv and split into test and train sets."
   ]
  },
  {
   "cell_type": "code",
   "execution_count": 26,
   "metadata": {},
   "outputs": [
    {
     "data": {
      "text/html": [
       "<div>\n",
       "<style>\n",
       "    .dataframe thead tr:only-child th {\n",
       "        text-align: right;\n",
       "    }\n",
       "\n",
       "    .dataframe thead th {\n",
       "        text-align: left;\n",
       "    }\n",
       "\n",
       "    .dataframe tbody tr th {\n",
       "        vertical-align: top;\n",
       "    }\n",
       "</style>\n",
       "<table border=\"1\" class=\"dataframe\">\n",
       "  <thead>\n",
       "    <tr style=\"text-align: right;\">\n",
       "      <th></th>\n",
       "      <th>Player</th>\n",
       "      <th>Tm</th>\n",
       "      <th>Pos</th>\n",
       "      <th>Age</th>\n",
       "      <th>G</th>\n",
       "      <th>GS</th>\n",
       "      <th>MP</th>\n",
       "      <th>FG</th>\n",
       "      <th>FGA</th>\n",
       "      <th>FG%</th>\n",
       "      <th>...</th>\n",
       "      <th>ORB</th>\n",
       "      <th>DRB</th>\n",
       "      <th>TRB</th>\n",
       "      <th>AST</th>\n",
       "      <th>STL</th>\n",
       "      <th>BLK</th>\n",
       "      <th>TOV</th>\n",
       "      <th>PF</th>\n",
       "      <th>PSG</th>\n",
       "      <th>SALARY</th>\n",
       "    </tr>\n",
       "  </thead>\n",
       "  <tbody>\n",
       "    <tr>\n",
       "      <th>0</th>\n",
       "      <td>Stephen Curry</td>\n",
       "      <td>GSW</td>\n",
       "      <td>PG</td>\n",
       "      <td>27.0</td>\n",
       "      <td>79.0</td>\n",
       "      <td>79.0</td>\n",
       "      <td>34.2</td>\n",
       "      <td>10.2</td>\n",
       "      <td>20.2</td>\n",
       "      <td>0.504</td>\n",
       "      <td>...</td>\n",
       "      <td>0.9</td>\n",
       "      <td>4.6</td>\n",
       "      <td>5.4</td>\n",
       "      <td>6.7</td>\n",
       "      <td>2.1</td>\n",
       "      <td>0.2</td>\n",
       "      <td>3.3</td>\n",
       "      <td>2.0</td>\n",
       "      <td>30.1</td>\n",
       "      <td>11370786</td>\n",
       "    </tr>\n",
       "    <tr>\n",
       "      <th>1</th>\n",
       "      <td>James Harden</td>\n",
       "      <td>HOU</td>\n",
       "      <td>SG</td>\n",
       "      <td>26.0</td>\n",
       "      <td>82.0</td>\n",
       "      <td>82.0</td>\n",
       "      <td>38.1</td>\n",
       "      <td>8.7</td>\n",
       "      <td>19.7</td>\n",
       "      <td>0.439</td>\n",
       "      <td>...</td>\n",
       "      <td>0.8</td>\n",
       "      <td>5.3</td>\n",
       "      <td>6.1</td>\n",
       "      <td>7.5</td>\n",
       "      <td>1.7</td>\n",
       "      <td>0.6</td>\n",
       "      <td>4.6</td>\n",
       "      <td>2.8</td>\n",
       "      <td>29.0</td>\n",
       "      <td>15756438</td>\n",
       "    </tr>\n",
       "    <tr>\n",
       "      <th>2</th>\n",
       "      <td>Kevin Durant</td>\n",
       "      <td>OKC</td>\n",
       "      <td>SF</td>\n",
       "      <td>27.0</td>\n",
       "      <td>72.0</td>\n",
       "      <td>72.0</td>\n",
       "      <td>35.8</td>\n",
       "      <td>9.7</td>\n",
       "      <td>19.2</td>\n",
       "      <td>0.505</td>\n",
       "      <td>...</td>\n",
       "      <td>0.6</td>\n",
       "      <td>7.6</td>\n",
       "      <td>8.2</td>\n",
       "      <td>5.0</td>\n",
       "      <td>1.0</td>\n",
       "      <td>1.2</td>\n",
       "      <td>3.5</td>\n",
       "      <td>1.9</td>\n",
       "      <td>28.2</td>\n",
       "      <td>20158622</td>\n",
       "    </tr>\n",
       "    <tr>\n",
       "      <th>3</th>\n",
       "      <td>DeMarcus Cousins</td>\n",
       "      <td>SAC</td>\n",
       "      <td>C</td>\n",
       "      <td>25.0</td>\n",
       "      <td>65.0</td>\n",
       "      <td>65.0</td>\n",
       "      <td>34.6</td>\n",
       "      <td>9.2</td>\n",
       "      <td>20.5</td>\n",
       "      <td>0.451</td>\n",
       "      <td>...</td>\n",
       "      <td>2.4</td>\n",
       "      <td>9.1</td>\n",
       "      <td>11.5</td>\n",
       "      <td>3.3</td>\n",
       "      <td>1.6</td>\n",
       "      <td>1.4</td>\n",
       "      <td>3.8</td>\n",
       "      <td>3.6</td>\n",
       "      <td>26.9</td>\n",
       "      <td>15851950</td>\n",
       "    </tr>\n",
       "    <tr>\n",
       "      <th>4</th>\n",
       "      <td>LeBron James</td>\n",
       "      <td>CLE</td>\n",
       "      <td>SF</td>\n",
       "      <td>31.0</td>\n",
       "      <td>76.0</td>\n",
       "      <td>76.0</td>\n",
       "      <td>35.6</td>\n",
       "      <td>9.7</td>\n",
       "      <td>18.6</td>\n",
       "      <td>0.520</td>\n",
       "      <td>...</td>\n",
       "      <td>1.5</td>\n",
       "      <td>6.0</td>\n",
       "      <td>7.4</td>\n",
       "      <td>6.8</td>\n",
       "      <td>1.4</td>\n",
       "      <td>0.6</td>\n",
       "      <td>3.3</td>\n",
       "      <td>1.9</td>\n",
       "      <td>25.3</td>\n",
       "      <td>22970500</td>\n",
       "    </tr>\n",
       "  </tbody>\n",
       "</table>\n",
       "<p>5 rows × 30 columns</p>\n",
       "</div>"
      ],
      "text/plain": [
       "             Player   Tm Pos   Age     G    GS    MP    FG   FGA    FG%  \\\n",
       "0     Stephen Curry  GSW  PG  27.0  79.0  79.0  34.2  10.2  20.2  0.504   \n",
       "1      James Harden  HOU  SG  26.0  82.0  82.0  38.1   8.7  19.7  0.439   \n",
       "2      Kevin Durant  OKC  SF  27.0  72.0  72.0  35.8   9.7  19.2  0.505   \n",
       "3  DeMarcus Cousins  SAC   C  25.0  65.0  65.0  34.6   9.2  20.5  0.451   \n",
       "4      LeBron James  CLE  SF  31.0  76.0  76.0  35.6   9.7  18.6  0.520   \n",
       "\n",
       "     ...     ORB  DRB   TRB  AST  STL  BLK  TOV   PF   PSG    SALARY  \n",
       "0    ...     0.9  4.6   5.4  6.7  2.1  0.2  3.3  2.0  30.1  11370786  \n",
       "1    ...     0.8  5.3   6.1  7.5  1.7  0.6  4.6  2.8  29.0  15756438  \n",
       "2    ...     0.6  7.6   8.2  5.0  1.0  1.2  3.5  1.9  28.2  20158622  \n",
       "3    ...     2.4  9.1  11.5  3.3  1.6  1.4  3.8  3.6  26.9  15851950  \n",
       "4    ...     1.5  6.0   7.4  6.8  1.4  0.6  3.3  1.9  25.3  22970500  \n",
       "\n",
       "[5 rows x 30 columns]"
      ]
     },
     "execution_count": 26,
     "metadata": {},
     "output_type": "execute_result"
    }
   ],
   "source": [
    "nbasalaries = pd.read_csv('nbasalariesfull.csv')\n",
    "nbasalaries.head()"
   ]
  },
  {
   "cell_type": "code",
   "execution_count": 27,
   "metadata": {
    "collapsed": true
   },
   "outputs": [],
   "source": [
    "from sklearn.tree import DecisionTreeRegressor\n",
    "from sklearn.model_selection import train_test_split\n",
    "from sklearn.metrics import mean_squared_error\n",
    "\n",
    "X = nbasalaries.drop(['Player','Tm','Pos', 'SALARY'], axis=1)\n",
    "y = nbasalaries['SALARY']/1e6\n",
    "X_train, X_test, y_train, y_test = train_test_split(X, y, test_size=0.33, random_state=42)"
   ]
  },
  {
   "cell_type": "markdown",
   "metadata": {},
   "source": [
    "#### Fitting a regression with max depth = 6"
   ]
  },
  {
   "cell_type": "code",
   "execution_count": 28,
   "metadata": {
    "collapsed": true
   },
   "outputs": [],
   "source": [
    "# Fitting the model with train data\n",
    "salaries6 = DecisionTreeRegressor(max_depth=6)\n",
    "salaries6_fit = salaries6.fit(X_train, y_train)\n",
    "\n",
    "# Predicting salaries with test data\n",
    "salaries6_train_pred = salaries6_fit.predict(X_train)\n",
    "salaries6_pred = salaries6_fit.predict(X_test)"
   ]
  },
  {
   "cell_type": "markdown",
   "metadata": {},
   "source": [
    "#### Reporting MSE"
   ]
  },
  {
   "cell_type": "code",
   "execution_count": 29,
   "metadata": {},
   "outputs": [
    {
     "name": "stdout",
     "output_type": "stream",
     "text": [
      "(Train) Mean squared error is: 3.11\n",
      "(Test) Mean squared error: 18.84\n"
     ]
    }
   ],
   "source": [
    "train_mse = mean_squared_error(y_train,salaries6_train_pred)\n",
    "test_mse = mean_squared_error(y_test, salaries6_pred)\n",
    "print \"(Train) Mean squared error is: %.2f\" % train_mse\n",
    "print \"(Test) Mean squared error: %.2f\" % test_mse"
   ]
  },
  {
   "cell_type": "markdown",
   "metadata": {},
   "source": [
    "### Part (b) - Same as above but now with max depth = 2"
   ]
  },
  {
   "cell_type": "code",
   "execution_count": 30,
   "metadata": {
    "collapsed": true
   },
   "outputs": [],
   "source": [
    "# Fitting the model with train data\n",
    "salaries2 = DecisionTreeRegressor(max_depth=2)\n",
    "salaries2_fit = salaries2.fit(X_train, y_train)\n",
    "\n",
    "# Predicting salaries with test data\n",
    "salaries2_train_pred = salaries2_fit.predict(X_train)\n",
    "salaries2_pred = salaries2_fit.predict(X_test)"
   ]
  },
  {
   "cell_type": "markdown",
   "metadata": {},
   "source": [
    "#### Reporting MSE"
   ]
  },
  {
   "cell_type": "code",
   "execution_count": 31,
   "metadata": {},
   "outputs": [
    {
     "name": "stdout",
     "output_type": "stream",
     "text": [
      "(Train) Mean squared error is: 12.14\n",
      "(Test) Mean squared error: 16.86\n"
     ]
    }
   ],
   "source": [
    "train2_mse = mean_squared_error(y_train,salaries2_train_pred)\n",
    "test2_mse = mean_squared_error(y_test, salaries2_pred)\n",
    "print \"(Train) Mean squared error is: %.2f\" % train2_mse\n",
    "print \"(Test) Mean squared error: %.2f\" % test2_mse"
   ]
  },
  {
   "cell_type": "markdown",
   "metadata": {},
   "source": [
    "### Part (c) Explaining the two models"
   ]
  },
  {
   "cell_type": "markdown",
   "metadata": {},
   "source": [
    "In looking at both of our tree models, the model with a max depth of 6 at first glance performs slightly better in terms of MSE; however, when we further look into test MSE, we see that the model with max depth 6 overfits the model to fit the test data, and therefore has a much higher MSE in that regard.\n",
    "\n",
    "Ultimately, to more accurately build a salary prediction model, we should consider additional depths and other parameters such as number of trees in order to lose some bias that caused the overfitting here."
   ]
  },
  {
   "cell_type": "markdown",
   "metadata": {},
   "source": [
    "# Question 5.  AUC vs Lift Curve ( 5 points )\n",
    "Describe the similarities and differences between AUC and Lift Curves."
   ]
  },
  {
   "cell_type": "markdown",
   "metadata": {},
   "source": [
    "## Solution"
   ]
  },
  {
   "cell_type": "markdown",
   "metadata": {},
   "source": [
    "Formally, both AUC and lift curves help us to identify the model quality of simple models.\n",
    "\n",
    "AUC represents Area Under Curve, or the total area under a generated ROC curve which depicts the true positives vs. false positives. The closer the total area reaches 1, the better quality the model.\n",
    "\n",
    "On the other hand, the Lift curve is slightly different as it does not relate to the ROC curve. The lift curve measures results as a ratio of results obtained with the model compared to random guess. The Lift curve can be considered a better metric for quality in terms of data mining. \n",
    "\n",
    "The ROC curve provides the ability to identify as many true positives as possible in the model, as opposed to overfitting to find all positives. The lift curve just evaluates the performance of the model in comparision to guessing randomly. One refines the model based on a threshold and the other provides model performance details."
   ]
  }
 ],
 "metadata": {
  "kernelspec": {
   "display_name": "Python 2",
   "language": "python",
   "name": "python2"
  },
  "language_info": {
   "codemirror_mode": {
    "name": "ipython",
    "version": 2
   },
   "file_extension": ".py",
   "mimetype": "text/x-python",
   "name": "python",
   "nbconvert_exporter": "python",
   "pygments_lexer": "ipython2",
   "version": "2.7.13"
  }
 },
 "nbformat": 4,
 "nbformat_minor": 1
}
