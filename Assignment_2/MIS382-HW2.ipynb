{
 "cells": [
  {
   "cell_type": "markdown",
   "metadata": {},
   "source": [
    "\n",
    "# <p style=\"text-align: center;\">MIS382: Advanced Predictive Modeling</p>\n",
    "# <p style=\"text-align: center;\">Assignment 2</p>\n",
    "## <p style=\"text-align: center;\">Total points: 40</p>\n",
    "## <p style=\"text-align: center;\"> Timothy Lai (ttl353) and Meyappan Subbaiah (ms47296) </p>\n",
    "## <p style=\"text-align: center;\">Due: Wed, October 4th, submitted via Canvas by 11:59 pm</p>\n",
    "\n",
    "Your homework should be written in a **Jupyter notebook**. You may work in groups of two if you wish. Only one student per team needs to submit the assignment on Canvas.  But be sure to include name and UTID for both students.  Homework groups will be created and managed through Canvas, so please do not arbitrarily change your homework group.  \n",
    "\n",
    "Also, please make sure your code runs and the graphics (and anything else) are displayed in your notebook before submitting. (%matplotlib inline)"
   ]
  },
  {
   "cell_type": "code",
   "execution_count": 1,
   "metadata": {},
   "outputs": [
    {
     "data": {
      "text/html": [
       "<script>\n",
       "code_show=true; \n",
       "function code_toggle() {\n",
       " if (code_show){\n",
       " $('div.input').hide();\n",
       " } else {\n",
       " $('div.input').show();\n",
       " }\n",
       " code_show = !code_show\n",
       "} \n",
       "$( document ).ready(code_toggle);\n",
       "</script>\n",
       "<form action=\"javascript:code_toggle()\"><input type=\"submit\" value=\"Click here to toggle on/off the raw code.\"></form>"
      ],
      "text/plain": [
       "<IPython.core.display.HTML object>"
      ]
     },
     "execution_count": 1,
     "metadata": {},
     "output_type": "execute_result"
    }
   ],
   "source": [
    "from IPython.display import HTML\n",
    "\n",
    "HTML('''<script>\n",
    "code_show=true; \n",
    "function code_toggle() {\n",
    " if (code_show){\n",
    " $('div.input').hide();\n",
    " } else {\n",
    " $('div.input').show();\n",
    " }\n",
    " code_show = !code_show\n",
    "} \n",
    "$( document ).ready(code_toggle);\n",
    "</script>\n",
    "<form action=\"javascript:code_toggle()\"><input type=\"submit\" value=\"Click here to toggle on/off the raw code.\"></form>''')"
   ]
  },
  {
   "cell_type": "markdown",
   "metadata": {},
   "source": [
    "# Question 1 - Bias-variance Trandeoff (2pts)\n",
    "\n",
    "How does the choice of K in the K-nearest neighbor classifier reflect a bias-variance tradeoff?"
   ]
  },
  {
   "cell_type": "markdown",
   "metadata": {},
   "source": [
    "## Answer\n",
    "\n",
    "Small values of K over-fit the data. For example a KNN with a K=1 will have a low bias as it will model the data very closely. However modelling the data so closely makes the model susceptible to modelling noise as well, leading to high variance. \n",
    "\n",
    "While larger values of K under-fit the data. A larger K value will decrease variance (and increase bias) as it avoids modelling noise. "
   ]
  },
  {
   "cell_type": "markdown",
   "metadata": {},
   "source": [
    "# Question 2: Data Exploration and Regression Analysis (4+3+4+4=15pts)\n",
    "\n",
    "Consider the dataset provided (russett_full_v2.csv) about agricultural inequality, industrial development and political instability in different countries. More information about it can be found [here](https://www.rdocumentation.org/packages/plspm/versions/0.4.9/topics/russett) though the data itself is slightly different than that referenced in the link.\n",
    "\n",
    "a) (4 points) Generate box-plots of the \"rent\" (% of farmers that rent all their land), \"inst\" (measure of political stability in the executive branch), \"ecks\" (number of violent internal war incidents ) and \"demo_score\" ( derived measure of the level of a country's democracy from 1945 to 61 ) and identify the cutoff values for outliers. \n",
    "\n",
    "Generate 3 scatterplots of \"rent\" against \"demo_score\", \"inst\" against \"demo_score\" and \"ecks\" against \"demo_score\" with the identified outliers colored differently than non-outliers in each; comment on how inclusion of the outliers would affect a predictive model for the \"demo_score\" response.  \n",
    "\n",
    "b) (3 points) Let us try to fit an MLR, using ordinary least squares, to this dataset with \"demo_score\" as the dependent variable using only the predictors 'rent','inst', and 'ecks' . \n",
    "\n",
    "    from sklearn.model_selection import train_test_split\n",
    "    X_train, X_test, y_train, y_test = train_test_split(X,y,test_size = 0.30, random_state=22)   \n",
    "\n",
    "Report the RMSE obtained on both X_train and X_test. How much does this increase when you score your model on X_test?\n",
    "\n",
    "c) (4 points ) Try to predict ”demo_score” using a robust regression using Huber loss.  You can use the [sklearn package](  http://scikit-learn.org/stable/modules/generated/sklearn.linear_model.HuberRegressor.html).  Set regularization parameter alpha to 0.0 and all other parameters as default.\n",
    "Report RMSE obtained on both X_train and X_test.\n",
    "\n",
    "d) (4 points ) Compare and comment on the model fits obtained in (b) and (c) and plot the residual plots using all data for each model. How do outliers affect the relative performance of ordinary least squares regression, and robust regression with Huber loss in general? \n",
    "\n",
    "## Answer"
   ]
  },
  {
   "cell_type": "markdown",
   "metadata": {},
   "source": [
    "### PART A\n",
    "#### (i) Boxplots"
   ]
  },
  {
   "cell_type": "code",
   "execution_count": 2,
   "metadata": {
    "collapsed": true
   },
   "outputs": [],
   "source": [
    "%matplotlib inline\n",
    "\n",
    "import matplotlib \n",
    "import matplotlib.pyplot as plt\n",
    "import seaborn as sns\n",
    "import numpy as np\n",
    "import pandas as pd\n",
    "import random\n",
    "sns.set(style=\"ticks\")"
   ]
  },
  {
   "cell_type": "code",
   "execution_count": 3,
   "metadata": {
    "collapsed": true
   },
   "outputs": [],
   "source": [
    "russ_df = pd.read_csv(\"russett_full_v2.csv\")\n",
    "## To jitter points\n",
    "a = np.linspace( -0.25, 0.25, 47 )\n",
    "random.shuffle(a)"
   ]
  },
  {
   "cell_type": "code",
   "execution_count": 4,
   "metadata": {},
   "outputs": [
    {
     "data": {
      "image/png": "[encoded data removed]",
      "text/plain": [
       "<matplotlib.figure.Figure at 0x11a51a450>"
      ]
     },
     "metadata": {},
     "output_type": "display_data"
    }
   ],
   "source": [
    "fig, (ax1, ax2,ax3,ax4) = plt.subplots(1, 4)\n",
    "fig.tight_layout(pad=0.4)\n",
    "## Rent\n",
    "rent_plt_data = ax1.boxplot(russ_df['rent'],widths = 0.6,patch_artist=True,boxprops=dict(facecolor=\"green\",alpha=0.5))\n",
    "ax1.scatter(np.ones_like(russ_df['rent'])+a, russ_df['rent'], marker='x', label='all',alpha=0.5,c=\"green\")\n",
    "## Inst\n",
    "inst_plt_data = ax2.boxplot(russ_df['inst'],widths = 0.6,patch_artist=True,boxprops=dict(facecolor=\"blue\",alpha=0.5))\n",
    "ax2.scatter(np.ones_like(russ_df['inst'])+a, russ_df['inst'], marker='x', label='all',alpha=0.5,c=\"blue\")\n",
    "### ecks\n",
    "ecks_plt_data = ax3.boxplot(russ_df['ecks'],widths = 0.6,patch_artist=True,boxprops=dict(facecolor=\"purple\",alpha=0.5))\n",
    "ax3.scatter(np.ones_like(russ_df['ecks'])+a, russ_df['ecks'], marker='x', label='all',alpha=0.5,c=\"purple\")\n",
    "### demo_score\n",
    "demo_score_plt_data = ax4.boxplot(russ_df['demo_score'],widths = 0.6,patch_artist=True,boxprops=dict(facecolor=\"magenta\",alpha=0.5))\n",
    "ax4.scatter(np.ones_like(russ_df['demo_score'])+a, russ_df['demo_score'], marker='x', label='all',alpha=0.5,c=\"magenta\")\n",
    "## Formatting changes\n",
    "ax1.set_ylabel('')\n",
    "ax1.set_title('Rent',fontsize=16)\n",
    "ax1.tick_params(axis='x', which='both',length=0)\n",
    "ax2.set_ylabel('')\n",
    "ax2.set_title('Inst',fontsize=16)\n",
    "ax2.tick_params(axis='x', which='both',length=0)\n",
    "ax3.set_ylabel('')\n",
    "ax3.set_title('Ecks',fontsize=16)\n",
    "ax3.tick_params(axis='x', which='both',length=0)\n",
    "ax4.set_ylabel('')\n",
    "ax4.set_title('Demo Score',fontsize=16)\n",
    "ax4.tick_params(axis='x', which='both',length=0)"
   ]
  },
  {
   "cell_type": "markdown",
   "metadata": {},
   "source": [
    "#### (ii) Scatterplots"
   ]
  },
  {
   "cell_type": "markdown",
   "metadata": {},
   "source": [
    "Generate 3 scatterplots of \"rent\" against \"demo_score\", \"inst\" against \"demo_score\" and \"ecks\" against \"demo_score\" with the identified outliers colored differently than non-outliers in each; comment on how inclusion of the outliers would affect a predictive model for the \"demo_score\" response."
   ]
  },
  {
   "cell_type": "code",
   "execution_count": 5,
   "metadata": {
    "collapsed": true
   },
   "outputs": [],
   "source": [
    "mask1 = russ_df['rent'].isin(rent_plt_data['fliers'][0].get_data()[1])\n",
    "mask2 = russ_df['demo_score'].isin(inst_plt_data['fliers'][0].get_data()[1] )\n",
    "re_ds_df = russ_df[mask1 | mask2]\n",
    "mask3 = russ_df['inst'].isin(inst_plt_data['fliers'][0].get_data()[1])\n",
    "int_ds_df = russ_df[mask3 | mask2]\n",
    "mask4 = russ_df['ecks'].isin(ecks_plt_data['fliers'][0].get_data()[1])\n",
    "ecks_ds_df = russ_df[mask4 | mask2]"
   ]
  },
  {
   "cell_type": "code",
   "execution_count": 6,
   "metadata": {},
   "outputs": [
    {
     "data": {
      "image/png": "[encoded data removed]",
      "text/plain": [
       "<matplotlib.figure.Figure at 0x11ab27150>"
      ]
     },
     "metadata": {},
     "output_type": "display_data"
    }
   ],
   "source": [
    "## Rent vs. Demo_Score\n",
    "plt.figure(figsize=(20,10))\n",
    "## Rent vs. Demo_Score\n",
    "ax1 = plt.subplot(221,aspect='equal')\n",
    "ax1.scatter(x='rent', y='demo_score', data=russ_df, s=100) \n",
    "ax1.scatter(x='rent',y='demo_score',data=re_ds_df, s=100,color=\"red\") \n",
    "ax1.set_title('Rent vs. Demo Score',fontsize=16)\n",
    "## Ecks vs. Demo_Score\n",
    "ax2 = plt.subplot(223,aspect='equal')\n",
    "ax2.scatter(x='ecks', y='demo_score', data=russ_df, s=100) \n",
    "ax2.scatter(x='ecks',y='demo_score',data=ecks_ds_df, s=100,color=\"red\") \n",
    "ax2.set_title('Ecks vs. Demo Score',fontsize=16)\n",
    "## Inst vs. Demo_Score\n",
    "ax3 = plt.subplot(122)\n",
    "ax3.scatter(x='inst', y='demo_score', data=russ_df, s=100) \n",
    "ax3.scatter(x='inst',y='demo_score',data=int_ds_df, s=100,color=\"red\") \n",
    "ax3.set_title('Inst vs. Demo Score',fontsize=16)\n",
    "plt.tight_layout()\n",
    "plt.show()"
   ]
  },
  {
   "cell_type": "markdown",
   "metadata": {},
   "source": [
    "### PART B"
   ]
  },
  {
   "cell_type": "code",
   "execution_count": 7,
   "metadata": {
    "collapsed": true
   },
   "outputs": [],
   "source": [
    "from sklearn.model_selection import train_test_split\n",
    "from sklearn import datasets, linear_model\n",
    "from sklearn.metrics import mean_squared_error\n",
    "\n",
    "X = russ_df[['rent', 'inst', 'ecks']]\n",
    "y = russ_df['demo_score']\n",
    "X_train, X_test, y_train, y_test = train_test_split(X,y,test_size = 0.30, random_state=22)"
   ]
  },
  {
   "cell_type": "code",
   "execution_count": 8,
   "metadata": {
    "collapsed": true
   },
   "outputs": [],
   "source": [
    "reg = linear_model.LinearRegression()\n",
    "result = reg.fit(X_train, y_train)\n",
    "\n",
    "result_y_train_pred = result.predict(X_train)\n",
    "result_y_pred = result.predict(X_test)"
   ]
  },
  {
   "cell_type": "code",
   "execution_count": 9,
   "metadata": {},
   "outputs": [
    {
     "name": "stdout",
     "output_type": "stream",
     "text": [
      "(In sample) Root mean squared error is: 25.78\n",
      "(Out of sample) Root mean squared error: 32.58\n",
      "The score increase is 6.80\n"
     ]
    }
   ],
   "source": [
    "in_sample_rmse = (mean_squared_error(y_train,result_y_train_pred))**0.5\n",
    "oos_rmse = (mean_squared_error(y_test, result_y_pred))**0.5\n",
    "print \"(In sample) Root mean squared error is: %.2f\" % in_sample_rmse\n",
    "print \"(Out of sample) Root mean squared error: %.2f\" % oos_rmse\n",
    "print \"The score increase is %.2f\" % (oos_rmse-in_sample_rmse)"
   ]
  },
  {
   "cell_type": "markdown",
   "metadata": {},
   "source": [
    "We see that when we run the regression on X_test vs. X_train, the MSE increases from 664.68 to 1061.50. This tells us that the model is slightly overfit to the training data."
   ]
  },
  {
   "cell_type": "markdown",
   "metadata": {},
   "source": [
    "### PART C"
   ]
  },
  {
   "cell_type": "code",
   "execution_count": 10,
   "metadata": {
    "collapsed": true
   },
   "outputs": [],
   "source": [
    "huber = linear_model.HuberRegressor(alpha=0)\n",
    "result_huber = huber.fit(X_train,y_train)\n",
    "\n",
    "result_y_train_pred_huber = result_huber.predict(X_train)\n",
    "result_y_pred_huber = result_huber.predict(X_test)"
   ]
  },
  {
   "cell_type": "code",
   "execution_count": 11,
   "metadata": {},
   "outputs": [
    {
     "name": "stdout",
     "output_type": "stream",
     "text": [
      "(In sample) Root mean squared error is: 26.84\n",
      "(Out of sample) Root mean squared error: 29.17\n",
      "The score increase is 2.33\n"
     ]
    }
   ],
   "source": [
    "in_sample_rmse = (mean_squared_error(y_train,result_y_train_pred_huber))**0.5\n",
    "oos_rmse = (mean_squared_error(y_test, result_y_pred_huber))**0.5\n",
    "print \"(In sample) Root mean squared error is: %.2f\" % in_sample_rmse\n",
    "print \"(Out of sample) Root mean squared error: %.2f\" % oos_rmse\n",
    "print \"The score increase is %.2f\" % (oos_rmse-in_sample_rmse)"
   ]
  },
  {
   "cell_type": "markdown",
   "metadata": {},
   "source": [
    "We see that when we run the regression on X_test vs. X_train, the MSE increases from 720.16 to 850.68. Again, this tells us that the model is slightly overfit to the training data."
   ]
  },
  {
   "cell_type": "markdown",
   "metadata": {},
   "source": [
    "### PART D"
   ]
  },
  {
   "cell_type": "markdown",
   "metadata": {},
   "source": [
    "#### Multiple Linear Regression"
   ]
  },
  {
   "cell_type": "code",
   "execution_count": 12,
   "metadata": {
    "scrolled": false
   },
   "outputs": [
    {
     "data": {
      "image/png": "[encoded data removed]",
      "text/plain": [
       "<matplotlib.figure.Figure at 0x11bdb6210>"
      ]
     },
     "metadata": {},
     "output_type": "display_data"
    }
   ],
   "source": [
    "plt.scatter(result_y_pred, result_y_pred-y_test, color='blue')\n",
    "plt.hlines(y=0, xmin = 0, xmax = 65)\n",
    "plt.xlabel('Predictions')\n",
    "plt.ylabel('Residuals')\n",
    "plt.title('Residuals of Predicted Test Values')\n",
    "plt.legend(numpoints = 1, loc='upper left')\n",
    "plt.show()"
   ]
  },
  {
   "cell_type": "markdown",
   "metadata": {},
   "source": [
    "Comment on the Fit. "
   ]
  },
  {
   "cell_type": "markdown",
   "metadata": {},
   "source": [
    "OLS can be dominated by outliers, the sample mean is inflated as a result of the presence of outliers i.e high values. Therefore, we should expect greater Mean Squared Error (MSE) values when regressing without pre-processing data. This includes the removal of outliers.  "
   ]
  },
  {
   "cell_type": "markdown",
   "metadata": {},
   "source": [
    "#### Robust Regression (Huber)"
   ]
  },
  {
   "cell_type": "code",
   "execution_count": 13,
   "metadata": {
    "scrolled": false
   },
   "outputs": [
    {
     "data": {
      "image/png": "[encoded data removed]",
      "text/plain": [
       "<matplotlib.figure.Figure at 0x11bf66c90>"
      ]
     },
     "metadata": {},
     "output_type": "display_data"
    }
   ],
   "source": [
    "plt.scatter(result_y_pred_huber, result_y_pred_huber-y_test, color='blue')\n",
    "plt.hlines(y=0, xmin = 0, xmax = 75)\n",
    "plt.xlabel('Predictions')\n",
    "plt.ylabel('Residuals')\n",
    "plt.title('Residuals of Predicted Test Values')\n",
    "plt.legend(numpoints = 1, loc='upper left')\n",
    "plt.show()"
   ]
  },
  {
   "cell_type": "markdown",
   "metadata": {},
   "source": [
    "Explanation:\n",
    "    Huber loss is less sensitive to "
   ]
  },
  {
   "cell_type": "markdown",
   "metadata": {},
   "source": [
    "# Question 3 - Sampling (4+4=8pts)"
   ]
  },
  {
   "cell_type": "markdown",
   "metadata": {},
   "source": [
    "1. NBC has come up with an extreme TV show, and each of its viewers either likes or hates it. (no middle ground here; we are in a “black and white age”). NBC wants to estimate what fraction p of its audience like the show by “randomly” calling n viewers and tallying their responses so as to estimate the true value of p to a fractional accuracy of within ±ε%, with a confidence of (1 − α) × 100%. For α = 0.10, ε = 0.03 (i.e. your answer will be $\\hat{p}$ ± 0.03), what is the minimum value of n needed if true value (i) p = 0.5, (ii) p=0.25? \n",
    "\n",
    "2. Suppose for a certain value of p and choice of ε, you calculate that you will need 1000 samples for α = 0.02. You now decide to obtain a more accurate answer by either (i) reducing α to 0.01, keeping the same ε or by (ii) reducing ε by a factor of 2 from the original value, and increasing α to 0.05. In each case how many samples would you need now?"
   ]
  },
  {
   "cell_type": "markdown",
   "metadata": {},
   "source": [
    "## Answer"
   ]
  },
  {
   "cell_type": "markdown",
   "metadata": {},
   "source": [
    "Using the following formula:\n",
    "\n",
    "$$ \\epsilon = z * \\sqrt{\\dfrac{p(1-p)}{n}} $$ \n",
    "\n",
    "Where $\\epsilon$ = Margin of Error, Z = Z score for a set confidence interval, and p is the fraction of the audience. With algebra we are able to solve for n:\n",
    "\n",
    "$$ n = p * (1-p) * (\\dfrac{z}{\\epsilon})^2 $$"
   ]
  },
  {
   "cell_type": "markdown",
   "metadata": {},
   "source": [
    "#### 1 Part (i)"
   ]
  },
  {
   "cell_type": "code",
   "execution_count": 14,
   "metadata": {},
   "outputs": [
    {
     "name": "stdout",
     "output_type": "stream",
     "text": [
      "The required sample size 752\n"
     ]
    }
   ],
   "source": [
    "import math\n",
    "print \"The required sample size %d\" % math.ceil(0.5*(1-0.5)*(1.645/0.03)**2)"
   ]
  },
  {
   "cell_type": "markdown",
   "metadata": {},
   "source": [
    "#### 1 Part (ii)"
   ]
  },
  {
   "cell_type": "code",
   "execution_count": 15,
   "metadata": {},
   "outputs": [
    {
     "name": "stdout",
     "output_type": "stream",
     "text": [
      "The required sample size 564\n"
     ]
    }
   ],
   "source": [
    "import math\n",
    "print \"The required sample size %d\" % math.ceil(0.25*(1-0.25)*(1.645/0.03)**2)"
   ]
  },
  {
   "cell_type": "markdown",
   "metadata": {},
   "source": [
    "#### 2 Part (i)"
   ]
  },
  {
   "cell_type": "markdown",
   "metadata": {},
   "source": [
    "For the original 1000 samples, the formula is roughly: \n",
    "$$ 1000 = p*(1-p)*(\\dfrac{2.33}{ME})^2 $$\n",
    "\n",
    "2.33 is a z-score of 98%, as suggested by the alpha to 0.02. \n",
    "\n",
    "By reducing the alpha to 0.01, the z-score becomes 2.58. Thus, we get:\n",
    "$$ n = p*(1-p)*(\\dfrac{2.58}{ME})^2 $$\n",
    "\n",
    "By taking the ratios of $$ \\dfrac{(\\dfrac{2.58}{ME})^2}{(\\dfrac{2.33}{ME})^2} $$\n",
    "\n",
    "\n",
    "This resulting ratio then identifies the ratio of additional samples we will require in order to obtain the new desired accuracy of 99%."
   ]
  },
  {
   "cell_type": "code",
   "execution_count": 16,
   "metadata": {
    "scrolled": true
   },
   "outputs": [
    {
     "name": "stdout",
     "output_type": "stream",
     "text": [
      "In this case we will require 1227 samples\n",
      "\u001b[1mTherefore we will need 227.0 more samples\u001b[0m\n"
     ]
    }
   ],
   "source": [
    "import math\n",
    "org_samples = 1000\n",
    "tot_samples = (1000*(2.58**2)/(2.33**2))\n",
    "print \"In this case we will require %d samples\" % math.ceil(tot_samples)\n",
    "print '\\033[1m' + \"Therefore we will need \" + str(math.ceil(tot_samples) - org_samples) + \" more samples\" + '\\033[0m'"
   ]
  },
  {
   "cell_type": "markdown",
   "metadata": {},
   "source": [
    "#### 2 Part (ii)"
   ]
  },
  {
   "cell_type": "markdown",
   "metadata": {},
   "source": [
    "In this case, alpha is increased to 0.05, resulting in a 95% confidence interval. The z-score drops to 1.96. We will also reduce the $\\epsilon$ by a factor of 2.\n",
    "\n",
    "$$ n = p*(1-p)*(\\dfrac{1.96}{ME/2})^2 $$ \n",
    "\n",
    "$$ n = p*(1-p)*(\\dfrac{1.96*2}{ME})^2 $$\n",
    "\n",
    "By taking the ratios of $$ \\dfrac{(\\dfrac{1.96*2}{ME})^2}{(\\dfrac{2.33}{ME})^2} $$\n",
    "\n",
    "This resulting ratio then identifies the ratio of additional samples required."
   ]
  },
  {
   "cell_type": "code",
   "execution_count": 17,
   "metadata": {},
   "outputs": [
    {
     "name": "stdout",
     "output_type": "stream",
     "text": [
      "In this case we will require 2831 samples\n",
      "\u001b[1mTherefore we will need 1831.0 more samples\u001b[0m\n"
     ]
    }
   ],
   "source": [
    "org_samples = 1000\n",
    "tot_samples = 1000*((1.96*2)**2)/(2.33**2)\n",
    "print \"In this case we will require %d samples\" % math.ceil(tot_samples)\n",
    "print '\\033[1m' + \"Therefore we will need \" + str(math.ceil(tot_samples) - org_samples) + \" more samples\" + '\\033[0m'"
   ]
  },
  {
   "cell_type": "markdown",
   "metadata": {},
   "source": [
    "# Question 4 - Principal Component Analysis (10 points)\n",
    "\n",
    "Import the diabetes dataset as in Q1 and add the interaction variables.\n",
    "You should have 65 variables and one target variable."
   ]
  },
  {
   "cell_type": "code",
   "execution_count": 18,
   "metadata": {
    "collapsed": true
   },
   "outputs": [],
   "source": [
    "from sklearn import datasets\n",
    "diabetes = datasets.load_diabetes()\n",
    "X = diabetes.data\n",
    "y = diabetes.target\n",
    "\n",
    "from sklearn.preprocessing import PolynomialFeatures\n",
    "X = PolynomialFeatures(2, include_bias=False).fit_transform(X)"
   ]
  },
  {
   "cell_type": "markdown",
   "metadata": {},
   "source": [
    "Next, use [StandardScaler](http://scikit-learn.org/stable/modules/generated/sklearn.preprocessing.StandardScaler.html) to center and scale each feature as follows."
   ]
  },
  {
   "cell_type": "code",
   "execution_count": 19,
   "metadata": {
    "collapsed": true
   },
   "outputs": [],
   "source": [
    "from sklearn.preprocessing import StandardScaler\n",
    "stdScaler = StandardScaler()\n",
    "X = stdScaler.fit_transform(X)"
   ]
  },
  {
   "cell_type": "markdown",
   "metadata": {},
   "source": [
    "(a) Perform PCA using the sklearn [PCA](http://scikit-learn.org/stable/modules/generated/sklearn.decomposition.PCA.html) package.  Create i) a scree plot depicting the proportion of variance and ii) a cumulative proportion of variance explained by the principal components of the data (X matrix).  Refer to Figure 10.4 of JW for an example.  You may use the output attribute *explained variance ratio*. (3pts)\n",
    "\n",
    "(b) How many principal components (N1, N2, N3) are required to explain cumulative variance of 30%, 60%, and 90%, respectively? (3pts)\n",
    "\n",
    "(c) Fit an ordinary least squares linear regression using N1, N2, and N3 number of principal components, respectively. (This is called Principal Components Regression) Use entire dataset, e.g. 442 rows. Evaluate the models using mean squared error (MSE). (4pts)"
   ]
  },
  {
   "cell_type": "markdown",
   "metadata": {},
   "source": [
    "## Answer"
   ]
  },
  {
   "cell_type": "markdown",
   "metadata": {},
   "source": [
    "#### Part (a)"
   ]
  },
  {
   "cell_type": "code",
   "execution_count": 20,
   "metadata": {
    "scrolled": true
   },
   "outputs": [
    {
     "data": {
      "text/plain": [
       "PCA(copy=True, iterated_power='auto', n_components=None, random_state=None,\n",
       "  svd_solver='auto', tol=0.0, whiten=False)"
      ]
     },
     "execution_count": 20,
     "metadata": {},
     "output_type": "execute_result"
    }
   ],
   "source": [
    "import numpy as np\n",
    "from sklearn.decomposition import PCA\n",
    "pca = PCA()\n",
    "pca.fit(X)"
   ]
  },
  {
   "cell_type": "markdown",
   "metadata": {},
   "source": [
    "#### Part (a) - (i)"
   ]
  },
  {
   "cell_type": "code",
   "execution_count": 21,
   "metadata": {},
   "outputs": [
    {
     "data": {
      "image/png": "[encoded data removed]",
      "text/plain": [
       "<matplotlib.figure.Figure at 0x11c294fd0>"
      ]
     },
     "metadata": {},
     "output_type": "display_data"
    }
   ],
   "source": [
    "plt.style.use('seaborn')\n",
    "fig = plt.figure(figsize=(8,5))\n",
    "plt.plot(pca.explained_variance_ratio_, 'b*-', linewidth=2)\n",
    "plt.title('Scree Plot')\n",
    "plt.xlabel('Principal Component')\n",
    "plt.ylabel('Proportion of Variance')\n",
    "plt.show()"
   ]
  },
  {
   "cell_type": "markdown",
   "metadata": {},
   "source": [
    "#### Part (a) - (ii)"
   ]
  },
  {
   "cell_type": "code",
   "execution_count": 22,
   "metadata": {},
   "outputs": [
    {
     "data": {
      "image/png": "[encoded data removed]",
      "text/plain": [
       "<matplotlib.figure.Figure at 0x11c0fbd50>"
      ]
     },
     "metadata": {},
     "output_type": "display_data"
    }
   ],
   "source": [
    "plt.style.use('seaborn')\n",
    "fig = plt.figure(figsize=(8,5))\n",
    "cumulative_variance = np.cumsum(pca.explained_variance_ratio_)\n",
    "plt.plot(cumulative_variance, 'b*-', linewidth=2)\n",
    "plt.title('Scree Plot')\n",
    "plt.xlabel('Principal Component')\n",
    "plt.ylabel('Proportion of Variance')\n",
    "plt.show()"
   ]
  },
  {
   "cell_type": "markdown",
   "metadata": {},
   "source": [
    "#### Part (b) "
   ]
  },
  {
   "cell_type": "code",
   "execution_count": 23,
   "metadata": {},
   "outputs": [
    {
     "name": "stdout",
     "output_type": "stream",
     "text": [
      "To explain a cumulative variance of 30 percent we will need 3 principal components.\n",
      "To explain a cumulative variance of 60 percent we will need 9 principal components.\n",
      "To explain a cumulative variance of 90 percent we will need 27 principal components.\n"
     ]
    }
   ],
   "source": [
    "print \"To explain a cumulative variance of 30 percent we will need %d principal components.\" % (len(cumulative_variance[np.where( cumulative_variance <= .30 )]) + 1)\n",
    "print \"To explain a cumulative variance of 60 percent we will need %d principal components.\" % (len(cumulative_variance[np.where( cumulative_variance <= .60 )]) + 1)\n",
    "print \"To explain a cumulative variance of 90 percent we will need %d principal components.\" % (len(cumulative_variance[np.where( cumulative_variance <= .90 )]) + 1)"
   ]
  },
  {
   "cell_type": "markdown",
   "metadata": {},
   "source": [
    "#### Part (c) "
   ]
  },
  {
   "cell_type": "code",
   "execution_count": 24,
   "metadata": {
    "collapsed": true
   },
   "outputs": [],
   "source": [
    "from sklearn.linear_model import LinearRegression\n",
    "from sklearn.metrics import mean_squared_error"
   ]
  },
  {
   "cell_type": "markdown",
   "metadata": {},
   "source": [
    "### N1 = 3"
   ]
  },
  {
   "cell_type": "code",
   "execution_count": 25,
   "metadata": {
    "collapsed": true
   },
   "outputs": [],
   "source": [
    "pca = PCA(n_components=3)\n",
    "X_pca = pca.fit_transform(X)"
   ]
  },
  {
   "cell_type": "code",
   "execution_count": 26,
   "metadata": {},
   "outputs": [
    {
     "name": "stdout",
     "output_type": "stream",
     "text": [
      "Mean squared error: 5120.61\n"
     ]
    }
   ],
   "source": [
    "reg = LinearRegression()\n",
    "result = reg.fit(X_pca,y)\n",
    "result_y_pred = reg.predict(X_pca)\n",
    "\n",
    "print(\"Mean squared error: %.2f\" % mean_squared_error(y, result_y_pred))"
   ]
  },
  {
   "cell_type": "markdown",
   "metadata": {},
   "source": [
    "### N2 = 9"
   ]
  },
  {
   "cell_type": "code",
   "execution_count": 27,
   "metadata": {
    "collapsed": true
   },
   "outputs": [],
   "source": [
    "pca = PCA(n_components=9)\n",
    "X_pca = pca.fit_transform(X)"
   ]
  },
  {
   "cell_type": "code",
   "execution_count": 28,
   "metadata": {},
   "outputs": [
    {
     "name": "stdout",
     "output_type": "stream",
     "text": [
      "Mean squared error: 3942.79\n"
     ]
    }
   ],
   "source": [
    "reg = LinearRegression()\n",
    "result = reg.fit(X_pca,y)\n",
    "result_y_pred = reg.predict(X_pca)\n",
    "\n",
    "print(\"Mean squared error: %.2f\" % mean_squared_error(y, result_y_pred))"
   ]
  },
  {
   "cell_type": "markdown",
   "metadata": {},
   "source": [
    "### N3 = 27"
   ]
  },
  {
   "cell_type": "code",
   "execution_count": 29,
   "metadata": {
    "collapsed": true
   },
   "outputs": [],
   "source": [
    "pca = PCA(n_components=27)\n",
    "X_pca = pca.fit_transform(X)"
   ]
  },
  {
   "cell_type": "code",
   "execution_count": 30,
   "metadata": {},
   "outputs": [
    {
     "name": "stdout",
     "output_type": "stream",
     "text": [
      "Mean squared error: 2857.43\n"
     ]
    }
   ],
   "source": [
    "reg = LinearRegression()\n",
    "result = reg.fit(X_pca,y)\n",
    "result_y_pred = reg.predict(X_pca)\n",
    "\n",
    "print(\"Mean squared error: %.2f\" % mean_squared_error(y, result_y_pred))"
   ]
  },
  {
   "cell_type": "markdown",
   "metadata": {},
   "source": [
    "# Question 5 -  Feature Selection ( 5 points )\n",
    "\n",
    "Explain what you understand by the two wrapper methods for feature selection (forward and backward selection) (no more than 1 paragraph). \n"
   ]
  },
  {
   "cell_type": "markdown",
   "metadata": {},
   "source": [
    "### Answer\n",
    "\n",
    "Both wrapper methods are used for variable selection. In forward selection, we begin with the null model and fit `p` simple linear regressions and add to the null model until we have the lowest RSS, which measures the amount of variability that is left unexplained after performing the regression. Comparatively in backward selection, all variables are included in the model and we remove the variable with the largest p-value in an iterative process until a stopping rule is reached. Forward selection can always be used, but generally is considered more \"greedy\", since we may include variables early that later become redundant."
   ]
  }
 ],
 "metadata": {
  "anaconda-cloud": {},
  "kernelspec": {
   "display_name": "Python 2",
   "language": "python",
   "name": "python2"
  },
  "language_info": {
   "codemirror_mode": {
    "name": "ipython",
    "version": 2
   },
   "file_extension": ".py",
   "mimetype": "text/x-python",
   "name": "python",
   "nbconvert_exporter": "python",
   "pygments_lexer": "ipython2",
   "version": "2.7.13"
  }
 },
 "nbformat": 4,
 "nbformat_minor": 1
}
