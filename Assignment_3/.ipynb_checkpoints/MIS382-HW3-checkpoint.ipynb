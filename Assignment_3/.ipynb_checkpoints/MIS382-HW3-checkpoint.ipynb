{
 "cells": [
  {
   "cell_type": "markdown",
   "metadata": {},
   "source": [
    "\n",
    "# <p style=\"text-align: center;\">MIS 382: Advanced Predictive Modeling</p>\n",
    "# <p style=\"text-align: center;\">Assignment 3</p>\n",
    "## <p style=\"text-align: center;\">Total points: 60</p>\n",
    "## <p style=\"text-align: center;\">Due: Wednesday, October 25th, submitted via Canvas by 11:59 pm</p>\n",
    "### <p style=\"text-align: center;\">Meyappan Subbaiah - ms47296 and Matthew Barrett - mb58428\n",
    "\n",
    "Your homework should be written in a **Jupyter notebook**. You may work in groups of two if you wish. Only one student per team needs to submit the assignment on Canvas.  But be sure to include name and UTID for both students.  Homework groups will be created and managed through Canvas, so please do not arbitrarily change your homework group.  \n",
    "\n",
    "Also, please make sure your code runs and the graphics (and anything else) are displayed in your notebook before submitting. (%matplotlib inline)"
   ]
  },
  {
   "cell_type": "markdown",
   "metadata": {},
   "source": [
    "# Question 1 - Gradient Descent (5+8+2=15pts)\n",
    "\n",
    "In this question you will implement vanilla SGD and an adaptive gradient update technique called Adagrad. In addition, you will also implement ridge regularization. "
   ]
  },
  {
   "cell_type": "markdown",
   "metadata": {},
   "source": [
    "1. Using stochastic gradient descent, derive the coefficent updates for all 4 coefficients of the model: $$ y = w_0 + w_1*x_1 + w_2*x_1*x_2 + w_3*x_2 $$ Hint: start from the cost function (Assume sum of squared error). If you write the math by hand, submit that as a separate file and make a reference to it in your notebook or include the image in your notebook.\n",
    "2. Write Python code for an SGD solution to the non-linear model $$ y = w_0 + w_1*x_1 + w_2*x_1*x_2 + w_3*x_2$$ Try to format similarly to scikit-learn's models. Your class should take as input the learning_rate, regularization_constant and number of epochs. The fit method must take as input X,y and a choice of update_rule as 'SGD' or 'adagrad' (Notes on implementation below). The _predict_ method takes an X value (optionally, an array of values). Use your new gradient descent regression to predict the data given in 'samples.csv', for 10 epochs, using learning rates: [.0001, .001, .01, 0.1, 1, 10, 100] and regularization constants in the range: [0,10,100] . Plot MSE and the $w$ parameters as a function of epoch count (10 epochs) for the best 2 combinations of learning_rate and regularization for both SGD and Adagrad. ie you should have 2 plots of MSE and parameter updates for SGD and adagrad each. Report the MSE at the end of 10 epochs for all 4 combinations.\n",
    "3. Based on the experiments, answer the following:"
   ]
  },
  {
   "cell_type": "markdown",
   "metadata": {},
   "source": [
    "1. Which of the 2 techniqes allows for larger initial setting of the learning_rate? Why?\n",
    "2. What would a drawback of adagrad be? How could this be fixed? (Hint: Adadelta)"
   ]
  },
  {
   "cell_type": "markdown",
   "metadata": {},
   "source": [
    "### Part 1\n",
    "\n",
    "#### Formulas"
   ]
  },
  {
   "cell_type": "markdown",
   "metadata": {},
   "source": [
    "Weights are updated using the following formula:\n",
    "$$w_{j} = w_{j} - \\eta\\Delta w_{j} $$\n",
    "\n",
    "In this case $\\Delta w_{j} = \\dfrac {\\delta E_{n}}{\\delta w_{j}}$, where $E_{n}$ is our cost function.\n",
    "\n",
    "The cost function is defined as: $E_{n} = (t_{n}-y_{n})^2 + \\lambda * ||w||^2 $, where y is given in the problem statement. "
   ]
  },
  {
   "cell_type": "markdown",
   "metadata": {},
   "source": [
    "#### Derivations"
   ]
  },
  {
   "cell_type": "markdown",
   "metadata": {},
   "source": [
    "The coefficient update $\\Delta w_{j}$ is found for each coefficient from \n",
    "\n",
    "$$\\frac {\\delta E_{n}}{\\delta w_{0}} = -2 (t_{n} - y_{n}) - 2 * \\lambda *w_0  $$\n",
    "\n",
    "$$\\frac {\\delta E_{n}}{\\delta w_{1}} = -2*x_{1} (t_{n} - y_{n}) - 2 * \\lambda *w_1 $$\n",
    "\n",
    "$$\\frac {\\delta E_{n}}{\\delta w_{2}} = -2*x_{1}*x_{2} (t_{n} - y_{n}) - 2 * \\lambda *w_2 $$\n",
    "\n",
    "$$\\frac {\\delta E_{n}}{\\delta w_{3}} = -2*x_{2} (t_{n} - y_{n}) - 2 * \\lambda *w_3 $$\n"
   ]
  },
  {
   "cell_type": "markdown",
   "metadata": {},
   "source": [
    "#### Final Coefficient updates"
   ]
  },
  {
   "cell_type": "markdown",
   "metadata": {},
   "source": [
    "Thus, our final weight updates are:\n",
    "\n",
    "$$ w_{0} = w_{0} + 2\\eta* (t_{n} - y_{n}) $$\n",
    "$$ w_{1} = w_{1} + 2\\eta * x_{1}(t_{n} - y_{n})$$\n",
    "$$ w_{2} = w_{2} + 2\\eta * x_{1}*x_{2}(t_{n} - y_{n}) $$\n",
    "$$ w_{3} = w_{3} + 2\\eta * x_{2}(t_{n} - y_{n}) $$\n"
   ]
  },
  {
   "cell_type": "code",
   "execution_count": 1,
   "metadata": {
    "collapsed": true
   },
   "outputs": [],
   "source": [
    "import numpy as np\n",
    "import pandas as pd\n",
    "from sklearn.utils import shuffle\n",
    "from sklearn.preprocessing import normalize\n",
    "from sklearn.metrics import mean_squared_error"
   ]
  },
  {
   "cell_type": "code",
   "execution_count": 2,
   "metadata": {
    "collapsed": true
   },
   "outputs": [],
   "source": [
    "class StochasticGradient():\n",
    "    \n",
    "    def __init__(self, learnrate, reg_constant, epoch):\n",
    "        \"\"\"Accept basic inputs for the SG class:\n",
    "           (1) learning rate (2) reg_constant and (3) epochs\"\"\"\n",
    "        self.learnrate = learnrate\n",
    "        self.reg_constant = reg_constant\n",
    "        self.epoch = epoch\n",
    "        \n",
    "    def fit(self, X, y):\n",
    "        \"\"\"Accept X and Y data\"\"\"\n",
    "        X = normalize(X)\n",
    "        train, tgt = shuffle(X,y)\n",
    "        ## Define Weights \n",
    "        weights = np.array([.0005]*4)\n",
    "        w0 = weights[0]\n",
    "        w1 = weights[1]\n",
    "        w2 = weights[2]\n",
    "        w3 = weights[3]\n",
    "        \n",
    "        for ep in range(self.epoch):\n",
    "            for reg in range(self.reg_constant):\n",
    "                x1 = train[ep][0]\n",
    "                x2 = train[ep][1]\n",
    "                eta = self.learnrate\n",
    "                t = pred[ep]\n",
    "                y = w0 + w1*x1 + w2*x1*x2 + w3*x2\n",
    "                \n",
    "                # weight updates\n",
    "                w0 = w0 + 2*(t-y)*eta + 2*ep*w0\n",
    "                w1 = w1 + 2*x1*(t-y)*eta + 2*ep*w1\n",
    "                w2 = w2 + 2*x1*x2*(t-y)*eta + 2*ep*w2\n",
    "                w3 = w3 + 2*x2*(t-y)*eta + 2*ep*w3\n",
    "                \n",
    "                nweights = [w0, w1, w2, w3]\n",
    "            ## Reshuffle data\n",
    "            train, y = shuffle(X,y) \n",
    "        ## Save weights to use in predict\n",
    "        self.weights = weights\n",
    "        \n",
    "    def predict(self, X, weights = None):\n",
    "        \n",
    "        pred = []\n",
    "        \n",
    "        ## Set original weights\n",
    "        if weights == None:\n",
    "            w0 = self.weights[0]\n",
    "            w1 = self.weights[1]\n",
    "            w2 = self.weights[2]\n",
    "            w3 = self.weights[3]\n",
    "        ## weight updates    \n",
    "        else:\n",
    "            w0 = weights[0]\n",
    "            w1 = weights[1]\n",
    "            w2 = weights[2]\n",
    "            w3 = weights[3]\n",
    "            \n",
    "        n = self.learnrate\n",
    "        \n",
    "        for p in X:\n",
    "            x1 = p[0]\n",
    "            x2 = p[1]\n",
    "            \n",
    "            y_pred = w0 + w1*x1 + w2*x1*x2 + w3*x2\n",
    "            \n",
    "            pred.append(y_pred)\n",
    "            \n",
    "        self.pred = pred                               "
   ]
  },
  {
   "cell_type": "code",
   "execution_count": 3,
   "metadata": {
    "collapsed": true
   },
   "outputs": [],
   "source": [
    "samples = pd.read_csv('samples.csv', names=['index', 'x1', 'x2', 'target'], header = 0)\n",
    "features = samples[['x1', 'x2']]\n",
    "target = samples['target']\n",
    "\n",
    "X, y = np.array(features), np.array(target)"
   ]
  },
  {
   "cell_type": "code",
   "execution_count": 4,
   "metadata": {
    "scrolled": true
   },
   "outputs": [
    {
     "name": "stdout",
     "output_type": "stream",
     "text": [
      "SGD learning rate 0.0001 Reg Constant 0 MSE 17.3376541822 \n"
     ]
    },
    {
     "ename": "TypeError",
     "evalue": "Singleton array -0.00032026370745081982 cannot be considered a valid collection.",
     "output_type": "error",
     "traceback": [
      "\u001b[0;31m---------------------------------------------------------------------------\u001b[0m",
      "\u001b[0;31mTypeError\u001b[0m                                 Traceback (most recent call last)",
      "\u001b[0;32m<ipython-input-4-51cd38964ee3>\u001b[0m in \u001b[0;36m<module>\u001b[0;34m()\u001b[0m\n\u001b[1;32m      5\u001b[0m     \u001b[0;32mfor\u001b[0m \u001b[0mreg\u001b[0m \u001b[0;32min\u001b[0m \u001b[0mreg_constant\u001b[0m\u001b[0;34m:\u001b[0m\u001b[0;34m\u001b[0m\u001b[0m\n\u001b[1;32m      6\u001b[0m         \u001b[0msg1\u001b[0m \u001b[0;34m=\u001b[0m \u001b[0mStochasticGradient\u001b[0m\u001b[0;34m(\u001b[0m\u001b[0mlearnrate\u001b[0m \u001b[0;34m=\u001b[0m \u001b[0mlearn\u001b[0m\u001b[0;34m,\u001b[0m \u001b[0mreg_constant\u001b[0m \u001b[0;34m=\u001b[0m \u001b[0mreg\u001b[0m\u001b[0;34m,\u001b[0m \u001b[0mepoch\u001b[0m \u001b[0;34m=\u001b[0m \u001b[0;36m5\u001b[0m\u001b[0;34m)\u001b[0m\u001b[0;34m\u001b[0m\u001b[0m\n\u001b[0;32m----> 7\u001b[0;31m         \u001b[0msg1\u001b[0m\u001b[0;34m.\u001b[0m\u001b[0mfit\u001b[0m\u001b[0;34m(\u001b[0m\u001b[0mX\u001b[0m\u001b[0;34m,\u001b[0m\u001b[0my\u001b[0m\u001b[0;34m)\u001b[0m\u001b[0;34m\u001b[0m\u001b[0m\n\u001b[0m\u001b[1;32m      8\u001b[0m         \u001b[0msg1\u001b[0m\u001b[0;34m.\u001b[0m\u001b[0mpredict\u001b[0m\u001b[0;34m(\u001b[0m\u001b[0mX\u001b[0m\u001b[0;34m)\u001b[0m\u001b[0;34m\u001b[0m\u001b[0m\n\u001b[1;32m      9\u001b[0m         \u001b[0mpred\u001b[0m \u001b[0;34m=\u001b[0m \u001b[0msg1\u001b[0m\u001b[0;34m.\u001b[0m\u001b[0mpred\u001b[0m\u001b[0;34m\u001b[0m\u001b[0m\n",
      "\u001b[0;32m<ipython-input-2-3b714e72a597>\u001b[0m in \u001b[0;36mfit\u001b[0;34m(self, X, y)\u001b[0m\n\u001b[1;32m     35\u001b[0m                 \u001b[0mnweights\u001b[0m \u001b[0;34m=\u001b[0m \u001b[0;34m[\u001b[0m\u001b[0mw0\u001b[0m\u001b[0;34m,\u001b[0m \u001b[0mw1\u001b[0m\u001b[0;34m,\u001b[0m \u001b[0mw2\u001b[0m\u001b[0;34m,\u001b[0m \u001b[0mw3\u001b[0m\u001b[0;34m]\u001b[0m\u001b[0;34m\u001b[0m\u001b[0m\n\u001b[1;32m     36\u001b[0m             \u001b[0;31m## Reshuffle data\u001b[0m\u001b[0;34m\u001b[0m\u001b[0;34m\u001b[0m\u001b[0m\n\u001b[0;32m---> 37\u001b[0;31m             \u001b[0mtrain\u001b[0m\u001b[0;34m,\u001b[0m \u001b[0my\u001b[0m \u001b[0;34m=\u001b[0m \u001b[0mshuffle\u001b[0m\u001b[0;34m(\u001b[0m\u001b[0mX\u001b[0m\u001b[0;34m,\u001b[0m\u001b[0my\u001b[0m\u001b[0;34m)\u001b[0m\u001b[0;34m\u001b[0m\u001b[0m\n\u001b[0m\u001b[1;32m     38\u001b[0m         \u001b[0;31m## Save weights to use in predict\u001b[0m\u001b[0;34m\u001b[0m\u001b[0;34m\u001b[0m\u001b[0m\n\u001b[1;32m     39\u001b[0m         \u001b[0mself\u001b[0m\u001b[0;34m.\u001b[0m\u001b[0mweights\u001b[0m \u001b[0;34m=\u001b[0m \u001b[0mweights\u001b[0m\u001b[0;34m\u001b[0m\u001b[0m\n",
      "\u001b[0;32m/anaconda/lib/python2.7/site-packages/sklearn/utils/__init__.pyc\u001b[0m in \u001b[0;36mshuffle\u001b[0;34m(*arrays, **options)\u001b[0m\n\u001b[1;32m    283\u001b[0m     \"\"\"\n\u001b[1;32m    284\u001b[0m     \u001b[0moptions\u001b[0m\u001b[0;34m[\u001b[0m\u001b[0;34m'replace'\u001b[0m\u001b[0;34m]\u001b[0m \u001b[0;34m=\u001b[0m \u001b[0mFalse\u001b[0m\u001b[0;34m\u001b[0m\u001b[0m\n\u001b[0;32m--> 285\u001b[0;31m     \u001b[0;32mreturn\u001b[0m \u001b[0mresample\u001b[0m\u001b[0;34m(\u001b[0m\u001b[0;34m*\u001b[0m\u001b[0marrays\u001b[0m\u001b[0;34m,\u001b[0m \u001b[0;34m**\u001b[0m\u001b[0moptions\u001b[0m\u001b[0;34m)\u001b[0m\u001b[0;34m\u001b[0m\u001b[0m\n\u001b[0m\u001b[1;32m    286\u001b[0m \u001b[0;34m\u001b[0m\u001b[0m\n\u001b[1;32m    287\u001b[0m \u001b[0;34m\u001b[0m\u001b[0m\n",
      "\u001b[0;32m/anaconda/lib/python2.7/site-packages/sklearn/utils/__init__.pyc\u001b[0m in \u001b[0;36mresample\u001b[0;34m(*arrays, **options)\u001b[0m\n\u001b[1;32m    202\u001b[0m                                                     n_samples))\n\u001b[1;32m    203\u001b[0m \u001b[0;34m\u001b[0m\u001b[0m\n\u001b[0;32m--> 204\u001b[0;31m     \u001b[0mcheck_consistent_length\u001b[0m\u001b[0;34m(\u001b[0m\u001b[0;34m*\u001b[0m\u001b[0marrays\u001b[0m\u001b[0;34m)\u001b[0m\u001b[0;34m\u001b[0m\u001b[0m\n\u001b[0m\u001b[1;32m    205\u001b[0m \u001b[0;34m\u001b[0m\u001b[0m\n\u001b[1;32m    206\u001b[0m     \u001b[0;32mif\u001b[0m \u001b[0mreplace\u001b[0m\u001b[0;34m:\u001b[0m\u001b[0;34m\u001b[0m\u001b[0m\n",
      "\u001b[0;32m/anaconda/lib/python2.7/site-packages/sklearn/utils/validation.pyc\u001b[0m in \u001b[0;36mcheck_consistent_length\u001b[0;34m(*arrays)\u001b[0m\n\u001b[1;32m    175\u001b[0m     \"\"\"\n\u001b[1;32m    176\u001b[0m \u001b[0;34m\u001b[0m\u001b[0m\n\u001b[0;32m--> 177\u001b[0;31m     \u001b[0mlengths\u001b[0m \u001b[0;34m=\u001b[0m \u001b[0;34m[\u001b[0m\u001b[0m_num_samples\u001b[0m\u001b[0;34m(\u001b[0m\u001b[0mX\u001b[0m\u001b[0;34m)\u001b[0m \u001b[0;32mfor\u001b[0m \u001b[0mX\u001b[0m \u001b[0;32min\u001b[0m \u001b[0marrays\u001b[0m \u001b[0;32mif\u001b[0m \u001b[0mX\u001b[0m \u001b[0;32mis\u001b[0m \u001b[0;32mnot\u001b[0m \u001b[0mNone\u001b[0m\u001b[0;34m]\u001b[0m\u001b[0;34m\u001b[0m\u001b[0m\n\u001b[0m\u001b[1;32m    178\u001b[0m     \u001b[0muniques\u001b[0m \u001b[0;34m=\u001b[0m \u001b[0mnp\u001b[0m\u001b[0;34m.\u001b[0m\u001b[0munique\u001b[0m\u001b[0;34m(\u001b[0m\u001b[0mlengths\u001b[0m\u001b[0;34m)\u001b[0m\u001b[0;34m\u001b[0m\u001b[0m\n\u001b[1;32m    179\u001b[0m     \u001b[0;32mif\u001b[0m \u001b[0mlen\u001b[0m\u001b[0;34m(\u001b[0m\u001b[0muniques\u001b[0m\u001b[0;34m)\u001b[0m \u001b[0;34m>\u001b[0m \u001b[0;36m1\u001b[0m\u001b[0;34m:\u001b[0m\u001b[0;34m\u001b[0m\u001b[0m\n",
      "\u001b[0;32m/anaconda/lib/python2.7/site-packages/sklearn/utils/validation.pyc\u001b[0m in \u001b[0;36m_num_samples\u001b[0;34m(x)\u001b[0m\n\u001b[1;32m    124\u001b[0m         \u001b[0;32mif\u001b[0m \u001b[0mlen\u001b[0m\u001b[0;34m(\u001b[0m\u001b[0mx\u001b[0m\u001b[0;34m.\u001b[0m\u001b[0mshape\u001b[0m\u001b[0;34m)\u001b[0m \u001b[0;34m==\u001b[0m \u001b[0;36m0\u001b[0m\u001b[0;34m:\u001b[0m\u001b[0;34m\u001b[0m\u001b[0m\n\u001b[1;32m    125\u001b[0m             raise TypeError(\"Singleton array %r cannot be considered\"\n\u001b[0;32m--> 126\u001b[0;31m                             \" a valid collection.\" % x)\n\u001b[0m\u001b[1;32m    127\u001b[0m         \u001b[0;32mreturn\u001b[0m \u001b[0mx\u001b[0m\u001b[0;34m.\u001b[0m\u001b[0mshape\u001b[0m\u001b[0;34m[\u001b[0m\u001b[0;36m0\u001b[0m\u001b[0;34m]\u001b[0m\u001b[0;34m\u001b[0m\u001b[0m\n\u001b[1;32m    128\u001b[0m     \u001b[0;32melse\u001b[0m\u001b[0;34m:\u001b[0m\u001b[0;34m\u001b[0m\u001b[0m\n",
      "\u001b[0;31mTypeError\u001b[0m: Singleton array -0.00032026370745081982 cannot be considered a valid collection."
     ]
    }
   ],
   "source": [
    "learnrate = [.0001, .001, .01, 0.1, 1, 10, 100]\n",
    "reg_constant = [0,10,100]\n",
    "\n",
    "for learn in learnrate:\n",
    "    for reg in reg_constant:\n",
    "        sg1 = StochasticGradient(learnrate = learn, reg_constant = reg, epoch = 5)\n",
    "        sg1.fit(X,y)\n",
    "        sg1.predict(X)\n",
    "        pred = sg1.pred\n",
    "        mse_val = mean_squared_error(y,pred)\n",
    "        print(\"SGD learning rate %s Reg Constant %s MSE %s \"% (learn,reg,mse_val)) "
   ]
  },
  {
   "cell_type": "markdown",
   "metadata": {},
   "source": [
    "** Discussion **\n",
    "\n",
    "Note to Diego: We weren't able to get this code running for all of our learning rates and reg constants. If you look above we got it to work for just one value. I'm not really sure I understand this error. I think the class structure has been created properly, and i followed the calculations done previously."
   ]
  },
  {
   "cell_type": "markdown",
   "metadata": {},
   "source": [
    "# Notes on Adagrad\n",
    "Adagrad (http://ruder.io/optimizing-gradient-descent/) differs from vanilla SGD in that the learning rate of each weight changes over updates. A cache is maintained that holds the sum of squares of all gradients upto the current update. The learning_rate is divided by the cache, resulting in a different learning rate for each weight. A consequence of this update rule is that weights that have already seen large gradients (made large jumps) make smaller updates in subsequent iterations.\n",
    "Specifically, the steps can be listed as below:\n",
    "1. cache = cache + (gradients^2)\n",
    "2. weights = weights + ((learning_rate)/sqrt(cache+1e-6))*gradients"
   ]
  },
  {
   "cell_type": "markdown",
   "metadata": {},
   "source": [
    "# (Optional) Notes on Training with Gradient Descent\n",
    "1. Compute error: This consists of a prediction error and a regularization term. From an implementation perspective, this is a function that takes as input the truth, prediction and regularization hyperparameter and returns an error\n",
    "2. Compute gradients: Take a derivative of the error in terms of the weights. This can be modelled as a function that takes as input the error and features and returns the gradients for each weight\n",
    "3. Update weights: Weight updates can be done using vanilla SGD or adaptive techniques. The update function takes as inputs the gradient and hyperparameters and returns the new weights."
   ]
  },
  {
   "cell_type": "markdown",
   "metadata": {},
   "source": [
    "** Discussion **\n",
    "\n",
    "Though in the time available for this assignment we were not able to tackle this portion of question 1, Adagrad would have enabled us to identify separate learning rates for each weight. A great advantage of this is the removal of the necessity to dial in the desired learning rate. Adagrad manages the tweaking of learning rates automatically as the model iterates. This could allow for a more accurate model identified faster, as each weight is able to learn at its independent optimal learning rate."
   ]
  },
  {
   "cell_type": "markdown",
   "metadata": {},
   "source": [
    "# 2. (6+4=10 pts) Tensor Playground\n",
    "Visit http://playground.tensorflow.org for this problem\n",
    "\n",
    "A. From the far right, select \"Regression\" as the problem type, and select the 2nd of the two data sets ( the right one ).  \n",
    "\n",
    "   i) What sort of test / training loss do you get if you run it for 200 epochs with the following learning rates: .3, .01 and .003 ?  What if you run it for 1000 epochs with these learning rates?  Leave all other values at their defaults ( test/training ratio 50%, Noise 0, Batch Size 10, using Tanh activation function, and No Regularization )\n",
    "   \n",
    "   ii) Keeping learning rate at .3, Activation at Tanh, with all others at their defaults, and running for 200 epochs.  \n",
    "     What sort of test/train loss can you achieve using only 1 neuron in the first hidden layer.  What about for 2,3 or 8 neurons?  Provide screen shots of output layer and comment on how the different output fits look and compare with one another.\n",
    "\n",
    "   iii)Now keeping learning rate at .03 with all others at their defaults, and running for 200 epochs.  \n",
    "       Compare how the activation functions affect the ouput ( ReLU, Sigmoid, Tanh, Linear ). Provide screen shots of output results and comment.\n",
    "\n",
    "\n",
    "B. Neural Nets can fit anything.  Now reset to the initial defaults, and select \"Classification\" as the problem type, and from the Data section, select the bottom right \"Spriral\" data set.  With the idea of trying to minimize training/testing error, provide solutions to the problem for the following 2 scenarios.  i) Using just the first 2 inputs ( as per default ) and ii) Using all 7 of the inputs.  You may use as many layers as you want, whatever activation, however man neurons.  Provide screen shots which show your full network, output and parameters. Briefly justify your decisions, and comment on difficulties/tradeoffs, what helps/what doesn't,etc. \n",
    "\n",
    "## ANSWER"
   ]
  },
  {
   "cell_type": "markdown",
   "metadata": {},
   "source": [
    "### Part 1"
   ]
  },
  {
   "cell_type": "markdown",
   "metadata": {},
   "source": [
    "(A) Tensor Flow Run 1: 200 epochs, learning 0.3  \n",
    "(B) Tensor Flow Run 2: 200 epochs, learning 0.01  \n",
    "(C) Tensor Flow Run 3: 200 epochs, learning 0.003  "
   ]
  },
  {
   "cell_type": "markdown",
   "metadata": {},
   "source": [
    "A | B | C\n",
    "- | - | -\n",
    "![alt](epoch_200_lr_0.3.png) | ![alt](epoch_200_lr_0.01.png) | ![alt](epoch_200_lr_0.003.png)"
   ]
  },
  {
   "cell_type": "markdown",
   "metadata": {},
   "source": [
    "(D) Tensor Flow Run 1: 1000 epochs, learning 0.3  \n",
    "(E) Tensor Flow Run 2: 1000 epochs, learning 0.01  \n",
    "(F) Tensor Flow Run 3: 1000 epochs, learning 0.003  "
   ]
  },
  {
   "cell_type": "markdown",
   "metadata": {},
   "source": [
    "D | E | F\n",
    "- | - | -\n",
    "![alt](epoch_1000_lr_0.3.png) | ![alt](epoch_1000_lr_0.01.png) | ![alt](epoch_1000_lr_0.003.png)"
   ]
  },
  {
   "cell_type": "markdown",
   "metadata": {},
   "source": [
    "##### Discussion:\n",
    "Clearly with more epochs, we expect the test/train loss to get smaller and smaller. However, note that with too many epochs it converges but is computationally expensive. \n",
    "\n",
    "With high learning rates, neural networks will not converge quickly. High learning rates make it harder for neural networks to ignore outliers. It remembers previous values much better. However with lower learning rates it has the abillity to forget previous values quicker. Note how the train/test loss are a little bit larger for the lower learning rates. "
   ]
  },
  {
   "cell_type": "markdown",
   "metadata": {},
   "source": [
    "### Part 2"
   ]
  },
  {
   "cell_type": "markdown",
   "metadata": {},
   "source": [
    "(A) 200 Epochs, 1 Neurons  \n",
    "(B) 200 Epochs, 2 Neurons  \n",
    "(C) 200 Epochs, 3 Neurons  \n",
    "(D) 200 Epochs, 8 Neurons  "
   ]
  },
  {
   "cell_type": "markdown",
   "metadata": {},
   "source": [
    "A | B | C | D\n",
    "- | - | - | -\n",
    "![alt](epoch_200_1_neurons.png) | ![alt](epoch_200_2_neurons.png) | ![alt](epoch_200_3_neurons.png) | ![alt](epoch_200_8_neurons.png)"
   ]
  },
  {
   "cell_type": "markdown",
   "metadata": {},
   "source": [
    "** Discussion **\n",
    "\n",
    "With more neurons, the neural network becomes more computational expensive and there is a potential overfitting issue. Especially, if the testing set contains data not previously seen in the training data. If a network has too few neurons, it will not have the capabillity to capture the underlying patterns in the data. After a point adding more neurons doesn't help, it becomes pointless."
   ]
  },
  {
   "cell_type": "markdown",
   "metadata": {},
   "source": [
    "### Part 3"
   ]
  },
  {
   "cell_type": "markdown",
   "metadata": {},
   "source": [
    "(A) Tanh  \n",
    "(B) Sigmoid  \n",
    "(C) Relu  \n",
    "(D) Linear  "
   ]
  },
  {
   "cell_type": "markdown",
   "metadata": {},
   "source": [
    "A | B | C | D\n",
    "- | - | - | -\n",
    "![alt](epoch_200_tanh.png) | ![alt](epoch_200_sigmoid.png) | ![alt](epoch_200_relu.png) | ![alt](epoch_200_linear.png)"
   ]
  },
  {
   "cell_type": "markdown",
   "metadata": {},
   "source": [
    "** Discussion **\n",
    "\n",
    "From the above results, the Tanh and Relu function are ideal when running neural networks (or atleast in this case). \n",
    "\n",
    "The sigmoid function has a (0,1) range and results in a probabillity of return values, which is preferential. However, the derivative of the sigmoid proves to introduce some potential drawbacks when back-propogating weights. It only passes a small fraction to the error function as the max value of the derivative is 0.25. \n",
    "\n",
    "The tanh function has a (-1,1) range. The derivative of the tanh function provides better values that can be back-propogated, specfiically to the error function. This explains why it produces a slightly better train/test loss than the sigmoid function.\n",
    "\n",
    "Lastly, the Relu function has a (0,inf) range. A problem is that the Relu function isn't differentiable; this is handled by passing a gradient equal to 1. This passes the max error through back-propogation. \n",
    "\n",
    "Thus, we can understand why the tanh and Relu functions outperform the others. It relates to the error passed through back-propogation."
   ]
  },
  {
   "cell_type": "markdown",
   "metadata": {},
   "source": [
    "### Part B\n",
    "#### Part 1 - First 2 inputs (default)"
   ]
  },
  {
   "cell_type": "markdown",
   "metadata": {},
   "source": [
    "![alt](epoch_part_b_2_inputs.png)"
   ]
  },
  {
   "cell_type": "markdown",
   "metadata": {},
   "source": [
    "With the trial and error process, the optimal number of hidden layers was 3. However within each layer a larger number of neurons was required to better represent the spiral data. Lastly, we ran up to a 1000 epochs to ensure that the network converged, as shown in the plot over the spiral data in the right. "
   ]
  },
  {
   "cell_type": "markdown",
   "metadata": {},
   "source": [
    "#### Part 2 - All 7 inputs (default)"
   ]
  },
  {
   "cell_type": "markdown",
   "metadata": {},
   "source": [
    "![alt](epoch_part_b_7_inputs.png)"
   ]
  },
  {
   "cell_type": "markdown",
   "metadata": {
    "collapsed": true
   },
   "source": [
    "** Discussion **\n",
    "\n",
    "Surprinsgly with 4 additional features, the number of layers did not change but it did require less neurons. This however isn't intuitive because you would think to adapt for more features it would require more neurons. (Diego, if you could shed some ingisht here that would be appreciated). \n",
    "\n",
    "Overall the train/test loss here was a bit larger than the 2 feature example above, but it doesn't make large enough of a difference."
   ]
  },
  {
   "cell_type": "markdown",
   "metadata": {},
   "source": [
    "# Question 3: Multi-layer Perceptron Regressor (15 points)\n",
    "\n",
    "In this question, you will explore the application of Multi-layer Perceptron (MLP) regression using sklearn package in Python. We will use the Appliances energy prediction dataset for this problem https://archive.ics.uci.edu/ml/datasets/Appliances+energy+prediction.\n",
    "\n",
    "Following code will pre-process the data and split the data into training and test set using [train_test_split](http://scikit-learn.org/stable/modules/generated/sklearn.model_selection.train_test_split.html) with **random state 42** and **test_size = 0.33**.\n",
    "Make sure you have 56 variables and one target variable."
   ]
  },
  {
   "cell_type": "code",
   "execution_count": 5,
   "metadata": {},
   "outputs": [
    {
     "name": "stdout",
     "output_type": "stream",
     "text": [
      "((13222, 56), (13222,), (6513, 56), (6513,))\n"
     ]
    }
   ],
   "source": [
    "import pandas as pd\n",
    "import numpy as np\n",
    "from sklearn.model_selection import (train_test_split,KFold)\n",
    "from sklearn.metrics import mean_squared_error\n",
    "from sklearn.neural_network import MLPRegressor\n",
    "from sklearn.preprocessing import StandardScaler\n",
    "import matplotlib.pyplot as plt\n",
    "import glob\n",
    "%matplotlib inline\n",
    "\n",
    "from sklearn import datasets\n",
    "\n",
    "data = pd.read_csv('./energydata_complete.csv') \n",
    "\n",
    "y = data['Appliances']\n",
    "X = data.drop(['date','Appliances', 'rv1', 'rv2'], axis = 1)\n",
    "\n",
    "\n",
    "from dateutil import parser\n",
    "timeData = np.array(data['date'])\n",
    "\n",
    "days = []\n",
    "hours = []\n",
    "for line in xrange(len(timeData)):\n",
    "    day = parser.parse(timeData[line]).weekday()\n",
    "    hour = parser.parse(timeData[line]).hour\n",
    "    days.append(day)\n",
    "    hours.append(hour)\n",
    "    \n",
    "X = pd.concat([X, pd.get_dummies(days), pd.get_dummies(hours)], axis = 1)\n",
    "\n",
    "\n",
    "X_train, X_test, y_train, y_test = train_test_split(X,y,test_size = 0.33, random_state=42)\n",
    "\n",
    "print(X_train.shape, y_train.shape, X_test.shape, y_test.shape)"
   ]
  },
  {
   "cell_type": "markdown",
   "metadata": {},
   "source": [
    "One more thing to use in this problem is [StandardScaler](http://scikit-learn.org/stable/modules/generated/sklearn.preprocessing.StandardScaler.html). Instead of fitting a model on original data, use StandardScaler to make each feature centered ([Example](http://scikit-learn.org/stable/auto_examples/applications/plot_prediction_latency.html#sphx-glr-auto-examples-applications-plot-prediction-latency-py)). Whenever you have training and test data, fit a scaler on training data and use this scaler on test data. Here, scale only features (independent variables), not target variable y.\n",
    "\n",
    "Use [sklearn.neural_nework.MLPRegressor](http://scikit-learn.org/stable/modules/generated/sklearn.neural_network.MLPRegressor.html#sklearn.neural_network.MLPRegressor) to do a 5-fold cross validation using sklearn's [KFold](http://scikit-learn.org/stable/modules/generated/sklearn.model_selection.KFold.html#sklearn.model_selection.KFold). The cross validation must be performed on the **training data**. "
   ]
  },
  {
   "cell_type": "markdown",
   "metadata": {},
   "source": [
    "1) Use following parameter settings for MLPRegressor:\n",
    "\n",
    "    activation = 'tanh', solver = 'sgd', learning_rate='constant', random_state=42,\n",
    "    batch_size=5000, learning_rate_init = 0.005\n",
    "    \n",
    "Now, consider three different settings for the number of hidden units:\n",
    "    \n",
    "   (a) *hidden_layer_sizes = (2,)* (b) *hidden_layer_sizes = (30,10)* (c) *hidden_layer_sizes = (100,)*\n",
    "    \n",
    "   Report the average Root Mean Squared Error (RMSE) value based on your 5-fold cross validation for each model: (a), (b), and (c) (5pts)\n",
    "      \n",
    "2) Now, using the same number of hidden units used in part 1), train MLPRegressor models on whole training data and report RMSE score for both Train and Test set (Again, use StandardScaler). Which model works the best, (a), (b), or (c)? Briefly analyze the result in terms of the number of hidden units. (3pts)\n",
    "\n",
    "3) MLPRegressor has a built-in attribute *loss\\_curve\\_* which returns the loss at each epoch (misleadingly referred to as \"iteration\" in scikit documentation, though they use epoch in the actual code!). For example, if your model is named as *my_model* you can call it as *my\\_model.loss\\_curve\\_* ([example](http://scikit-learn.org/stable/auto_examples/neural_networks/plot_mlp_training_curves.html#sphx-glr-auto-examples-neural-networks-plot-mlp-training-curves-py)). Plot three curves for model (a), (b), and (c) in one figure, where *X-axis* is epoch  number and *Y-axis* is squared root of *loss\\_curve\\_* value. (2pts)\n",
    "\n",
    "4) Use following parameter settings for MLPRegressor:\n",
    "\n",
    "    activation = 'tanh', solver = 'sgd', learning_rate='constant', random_state=42,\n",
    "    batch_size=5000, hidden_layer_sizes = (15,)\n",
    "    \n",
    "Now, consider three different settings for the learning rates:\n",
    "    \n",
    "   (i) *learning_rate_init = 0.005* (ii) *learning_rate_init = 0.01* (iii) *learning_rate_init = 1*\n",
    "    \n",
    "   Report the average Root Mean Squared Error (RMSE) value based on your 5-fold cross validation for each model: (i), (ii), and (iii) (5pts)\n",
    "\n",
    "\n"
   ]
  },
  {
   "cell_type": "markdown",
   "metadata": {
    "collapsed": true
   },
   "source": [
    "### Answer\n",
    "#### Part 1 - Training Set, 5 Fold CV"
   ]
  },
  {
   "cell_type": "markdown",
   "metadata": {},
   "source": [
    "#### Scaler"
   ]
  },
  {
   "cell_type": "code",
   "execution_count": 6,
   "metadata": {
    "collapsed": true
   },
   "outputs": [],
   "source": [
    "X_scaler = StandardScaler()\n",
    "\n",
    "X_train = X_scaler.fit_transform(X_train)\n",
    "X_train = pd.DataFrame(X_train)\n",
    "\n",
    "X_test = X_scaler.transform(X_test)\n",
    "X_test = pd.DataFrame(X_test)"
   ]
  },
  {
   "cell_type": "markdown",
   "metadata": {},
   "source": [
    "#### Models (MLP-Regressor)"
   ]
  },
  {
   "cell_type": "code",
   "execution_count": 7,
   "metadata": {
    "collapsed": true
   },
   "outputs": [],
   "source": [
    "mlp2 = MLPRegressor(hidden_layer_sizes=(2,), activation='tanh', solver='sgd', learning_rate='constant', random_state=42, \n",
    "                   batch_size=5000, learning_rate_init=0.005)\n",
    "\n",
    "\n",
    "mlp30 = MLPRegressor(hidden_layer_sizes=(30,10), activation='tanh', solver='sgd', learning_rate='constant', random_state=42,\n",
    "                    batch_size=5000, learning_rate_init=0.005)\n",
    "\n",
    "mlp100 = MLPRegressor(hidden_layer_sizes=(100,), activation='tanh', solver='sgd', learning_rate='constant', random_state=42,\n",
    "                    batch_size=5000, learning_rate_init=0.005)"
   ]
  },
  {
   "cell_type": "markdown",
   "metadata": {},
   "source": [
    "#### K-Folds"
   ]
  },
  {
   "cell_type": "code",
   "execution_count": 8,
   "metadata": {},
   "outputs": [
    {
     "data": {
      "text/plain": [
       "5"
      ]
     },
     "execution_count": 8,
     "metadata": {},
     "output_type": "execute_result"
    }
   ],
   "source": [
    "cv = KFold(n_splits=5, random_state=42)\n",
    "cv.get_n_splits(X_train)"
   ]
  },
  {
   "cell_type": "code",
   "execution_count": 9,
   "metadata": {
    "collapsed": true
   },
   "outputs": [],
   "source": [
    "rmse_2 = []\n",
    "rmse_30 = []\n",
    "rmse_100 = []"
   ]
  },
  {
   "cell_type": "code",
   "execution_count": 10,
   "metadata": {
    "collapsed": true
   },
   "outputs": [],
   "source": [
    "for train, test in cv.split(X_train):\n",
    "    # MLP Fits\n",
    "    mlp2.fit(X_train.iloc[train], y_train.iloc[train])\n",
    "    mlp30.fit(X_train.iloc[train], y_train.iloc[train])\n",
    "    mlp100.fit(X_train.iloc[train], y_train.iloc[train])\n",
    "    \n",
    "    # compare predictions against y-true value \n",
    "    y_true = y_train.iloc[test]\n",
    "    # mlp 2 predictions\n",
    "    y2_predict = mlp2.predict(X_train.iloc[test])\n",
    "    # mlp 30 predictions\n",
    "    y30_predict = mlp30.predict(X_train.iloc[test])\n",
    "    # mlp 100 predictions\n",
    "    y100_predict = mlp100.predict(X_train.iloc[test])\n",
    "    \n",
    "    mse_2 = mean_squared_error(y_true, y2_predict)\n",
    "    mse_30 = mean_squared_error(y_true, y30_predict)\n",
    "    mse_100 = mean_squared_error(y_true, y100_predict)\n",
    "    \n",
    "    rmse_2.append(mse_2**.5)\n",
    "    rmse_30.append(mse_30**.5)\n",
    "    rmse_100.append(mse_100**.5)"
   ]
  },
  {
   "cell_type": "markdown",
   "metadata": {},
   "source": [
    "**The average RMSE values reported below were found on the training sets with a 5 fold cross-validaition.**"
   ]
  },
  {
   "cell_type": "code",
   "execution_count": 11,
   "metadata": {},
   "outputs": [
    {
     "name": "stdout",
     "output_type": "stream",
     "text": [
      "2 Hidden Layers, Average RMSE: 95.00\n",
      "30,10 Hidden Layers, Average RMSE: 102.59\n",
      "100 Hidden Layers, Average RMSE: 81.65\n"
     ]
    }
   ],
   "source": [
    "print \"2 Hidden Layers, Average RMSE: {:.2f}\".format(np.mean(rmse_2))\n",
    "print \"30,10 Hidden Layers, Average RMSE: {:.2f}\".format(np.mean(rmse_30))\n",
    "print \"100 Hidden Layers, Average RMSE: {:.2f}\".format(np.mean(rmse_100))"
   ]
  },
  {
   "cell_type": "markdown",
   "metadata": {},
   "source": [
    "#### Part 2 - Full Data \n",
    "##### Model Fit"
   ]
  },
  {
   "cell_type": "code",
   "execution_count": 12,
   "metadata": {},
   "outputs": [
    {
     "data": {
      "text/plain": [
       "MLPRegressor(activation='tanh', alpha=0.0001, batch_size=5000, beta_1=0.9,\n",
       "       beta_2=0.999, early_stopping=False, epsilon=1e-08,\n",
       "       hidden_layer_sizes=(100,), learning_rate='constant',\n",
       "       learning_rate_init=0.005, max_iter=200, momentum=0.9,\n",
       "       nesterovs_momentum=True, power_t=0.5, random_state=42, shuffle=True,\n",
       "       solver='sgd', tol=0.0001, validation_fraction=0.1, verbose=False,\n",
       "       warm_start=False)"
      ]
     },
     "execution_count": 12,
     "metadata": {},
     "output_type": "execute_result"
    }
   ],
   "source": [
    "mlp2.fit(X_train, y_train)\n",
    "mlp30.fit(X_train, y_train)\n",
    "mlp100.fit(X_train, y_train)"
   ]
  },
  {
   "cell_type": "code",
   "execution_count": 13,
   "metadata": {
    "collapsed": true
   },
   "outputs": [],
   "source": [
    "predict2_train = mlp2.predict(X_train)\n",
    "predict2_test = mlp2.predict(X_test)\n",
    "\n",
    "predict30_train = mlp30.predict(X_train)\n",
    "predict30_test = mlp30.predict(X_test)\n",
    "\n",
    "predict100_train = mlp100.predict(X_train)\n",
    "predict100_test = mlp100.predict(X_test)\n",
    "\n",
    "rmse2_train = mean_squared_error(y_train, predict2_train)**.5\n",
    "rmse2_test = mean_squared_error(y_test, predict2_test)**.5\n",
    "\n",
    "rmse30_train = mean_squared_error(y_train, predict30_train)**.5\n",
    "rmse30_test = mean_squared_error(y_test, predict30_test)**.5\n",
    "\n",
    "rmse100_train = mean_squared_error(y_train, predict100_train)**.5\n",
    "rmse100_test = mean_squared_error(y_test, predict100_test)**.5"
   ]
  },
  {
   "cell_type": "markdown",
   "metadata": {},
   "source": [
    "**The average RMSE values reported below were found on the test sets**"
   ]
  },
  {
   "cell_type": "code",
   "execution_count": 14,
   "metadata": {},
   "outputs": [
    {
     "name": "stdout",
     "output_type": "stream",
     "text": [
      "2 Hidden Layers, Average RMSE: 93.15\n",
      "30,10 Hidden Layers, Average RMSE: 85.73\n",
      "100 Hidden Layers, Average RMSE: 80.58\n"
     ]
    }
   ],
   "source": [
    "print \"2 Hidden Layers, Average RMSE: {:.2f}\".format(rmse2_test)\n",
    "print \"30,10 Hidden Layers, Average RMSE: {:.2f}\".format(rmse30_test)\n",
    "print \"100 Hidden Layers, Average RMSE: {:.2f}\".format(rmse100_test)"
   ]
  },
  {
   "cell_type": "markdown",
   "metadata": {},
   "source": [
    "**The average RMSE values reported below were found on the training sets**"
   ]
  },
  {
   "cell_type": "code",
   "execution_count": 15,
   "metadata": {},
   "outputs": [
    {
     "name": "stdout",
     "output_type": "stream",
     "text": [
      "2 Hidden Layers, Average RMSE: 92.44\n",
      "30,10 Hidden Layers, Average RMSE: 78.65\n",
      "100 Hidden Layers, Average RMSE: 67.78\n"
     ]
    }
   ],
   "source": [
    "print \"2 Hidden Layers, Average RMSE: {:.2f}\".format(rmse2_train)\n",
    "print \"30,10 Hidden Layers, Average RMSE: {:.2f}\".format(rmse30_train)\n",
    "print \"100 Hidden Layers, Average RMSE: {:.2f}\".format(rmse100_train)"
   ]
  },
  {
   "cell_type": "markdown",
   "metadata": {},
   "source": [
    "#### Part 3 - Loss Curve"
   ]
  },
  {
   "cell_type": "code",
   "execution_count": 16,
   "metadata": {},
   "outputs": [
    {
     "data": {
      "image/png": "[encoded data removed]",
      "text/plain": [
       "<matplotlib.figure.Figure at 0x10fb37150>"
      ]
     },
     "metadata": {},
     "output_type": "display_data"
    }
   ],
   "source": [
    "plt.title(\"Sqrt Loss vs. Epochs\", fontsize=16)\n",
    "plt.ylabel('Square Root of Loss')\n",
    "plt.xlabel('Number of Epochs')\n",
    "plt.plot(np.sqrt(mlp2.loss_curve_),label='2 Hidden Layers')\n",
    "plt.plot(np.sqrt(mlp30.loss_curve_),color='g',label='30,10 Hidden Layers')\n",
    "plt.plot(np.sqrt(mlp100.loss_curve_),color='r',label= '100 Hidden Layers')\n",
    "plt.legend(bbox_to_anchor=(1.05, 1), loc=2, borderaxespad=0.)\n",
    "plt.tight_layout()"
   ]
  },
  {
   "cell_type": "markdown",
   "metadata": {},
   "source": [
    "#### Part 4 - Learning Rates manipulation"
   ]
  },
  {
   "cell_type": "code",
   "execution_count": 17,
   "metadata": {
    "collapsed": true
   },
   "outputs": [],
   "source": [
    "## Re-create data to ensure previous manipulation doesn't affect it\n",
    "## probably don't need it, but just in-case.\n",
    "X_train, X_test, y_train, y_test = train_test_split(X,y,test_size = 0.33, random_state=42)\n",
    "X_scaler = StandardScaler()\n",
    "\n",
    "X_train = X_scaler.fit_transform(X_train)\n",
    "X_train = pd.DataFrame(X_train)\n",
    "\n",
    "X_test = X_scaler.transform(X_test)\n",
    "X_test = pd.DataFrame(X_test)"
   ]
  },
  {
   "cell_type": "code",
   "execution_count": 18,
   "metadata": {
    "collapsed": true
   },
   "outputs": [],
   "source": [
    "mlp_lr1 = MLPRegressor(hidden_layer_sizes=(15,), activation='tanh', solver='sgd', learning_rate='constant', random_state=42, \n",
    "                   batch_size=5000, learning_rate_init=0.005)\n",
    "\n",
    "\n",
    "mlp_lr2 = MLPRegressor(hidden_layer_sizes=(15,), activation='tanh', solver='sgd', learning_rate='constant', random_state=42,\n",
    "                    batch_size=5000, learning_rate_init=0.01)\n",
    "\n",
    "mlp_lr3 = MLPRegressor(hidden_layer_sizes=(15,), activation='tanh', solver='sgd', learning_rate='constant', random_state=42,\n",
    "                    batch_size=5000, learning_rate_init=1)"
   ]
  },
  {
   "cell_type": "code",
   "execution_count": 19,
   "metadata": {
    "collapsed": true
   },
   "outputs": [],
   "source": [
    "kf = KFold(n_splits=5, random_state=42)\n",
    "kf.get_n_splits(X_train)\n",
    "rmse_lr1 = []\n",
    "rmse_lr2 = []\n",
    "rmse_lr3 = []"
   ]
  },
  {
   "cell_type": "code",
   "execution_count": 20,
   "metadata": {
    "collapsed": true
   },
   "outputs": [],
   "source": [
    "for train, test in kf.split(X_train):\n",
    "    # MLP Fits\n",
    "    mlp_lr1.fit(X_train.iloc[train], y_train.iloc[train])\n",
    "    mlp_lr2.fit(X_train.iloc[train], y_train.iloc[train])\n",
    "    mlp_lr3.fit(X_train.iloc[train], y_train.iloc[train])\n",
    "    \n",
    "    # compare predictions against y-true value \n",
    "    y_true = y_train.iloc[test]\n",
    "    # mlp 2 predictions\n",
    "    y2_predict = mlp_lr1.predict(X_train.iloc[test])\n",
    "    # mlp 30 predictions\n",
    "    y30_predict = mlp_lr2.predict(X_train.iloc[test])\n",
    "    # mlp 100 predictions\n",
    "    y100_predict = mlp_lr3.predict(X_train.iloc[test])\n",
    "    \n",
    "    mse_lr1 = mean_squared_error(y_true, y2_predict)\n",
    "    mse_lr2 = mean_squared_error(y_true, y30_predict)\n",
    "    mse_lr3 = mean_squared_error(y_true, y100_predict)\n",
    "    \n",
    "    rmse_lr1.append(np.sqrt(mse_lr1))\n",
    "    rmse_lr2.append(np.sqrt(mse_lr2))\n",
    "    rmse_lr3.append(np.sqrt(mse_lr3))"
   ]
  },
  {
   "cell_type": "markdown",
   "metadata": {},
   "source": [
    "**The average RMSE values reported below were found on the training sets with a 5 fold cross-validaition.**"
   ]
  },
  {
   "cell_type": "code",
   "execution_count": 21,
   "metadata": {},
   "outputs": [
    {
     "name": "stdout",
     "output_type": "stream",
     "text": [
      "15 Hidden Layers, Learning Rate = 0.005, Average RMSE: 88.33\n",
      "15 Hidden Layers, Learning Rate = 0.01 , Average RMSE: 90.28\n",
      "15 Hidden Layers, Learning Rate = 1    , Average RMSE: 51785446645.84\n"
     ]
    }
   ],
   "source": [
    "print \"15 Hidden Layers, Learning Rate = 0.005, Average RMSE: {:.2f}\".format(np.mean(rmse_lr1))\n",
    "print \"15 Hidden Layers, Learning Rate = 0.01 , Average RMSE: {:.2f}\".format(np.mean(rmse_lr2))\n",
    "print \"15 Hidden Layers, Learning Rate = 1    , Average RMSE: {:.2f}\".format(np.mean(rmse_lr3))"
   ]
  },
  {
   "cell_type": "markdown",
   "metadata": {},
   "source": [
    "** Discussion **\n",
    "\n",
    "30,10 hidden layers underperformed for the k-folds cross-validation method. All methods were higher on RMSE for this method compared to the full data set, but 30,10 was uncharacteristically higher for this method. The higher quantity of hidden layers proved effective at minimizing errors; and higher iterations of epochs continued to reduce error. These findings are in line with expected results.   \n",
    "\n",
    "\n",
    "Rate of accuracy increase decreased as epochs continued to high iterations. This corresponds to expected slowing of change in error as accuracy increases. For the 100 hidden layer size model, there appears to be an uptick of error as the model passed 50 epochs. This could be most likely attributed to overfitting of the model.\n",
    "\n",
    "When learning rates were alterd, expected changes in ultimate RMSE were about expected. The obscenely high Learning Rate of 1 gave the equally obscenely high RMSE due to the model overshooting the corretions by substantial amounts. Lower values of learning rates are much more benefitial."
   ]
  },
  {
   "cell_type": "markdown",
   "metadata": {},
   "source": [
    "# Question 4: (2+5+3=10 pts) Bayes Decision Theory\n",
    "a. Explain what you understand by class-conditional likelihood, class priors, and posterior probability of a class given an input, and the relationship between them. Please define all symbols and equations used explicitly.\n",
    "( 2 points )\n",
    "\n",
    "b. Suppose you want to learn a binary classifier to predict whether or not a customer will buy a TV. The class label is 0 if the customer does not buy a TV and 1 if they do. For each customer, you are given two features, $x_1$ is the per hour salary and $x_2$ is the age. Assume that the class conditional distribution $p([x_1 , x_2]|C)$ is Gaussian. The mean salary and age of the people who do buy a TV is 15 and 30 respectively and that of those who don’t is 8.5 and 25. Assume that both classes of customers have the same covariance given by the Identity matrix. Further, your sales data suggests that only 1 in 3 people actually bought a TV in the last few years. Mathematically derive the (optimal) Bayes decision boundary for this problem. (5 points)\n",
    "\n",
    "c. Now write code to sample 100 customers from each class (C = 0, 1) under the assumed distribution and the estimated parameters and plot their features. Additionally, plot the decision boundary you obtained in the part (b) on the same plot. (3 points)\n",
    "\n",
    "## ANSWER"
   ]
  },
  {
   "cell_type": "markdown",
   "metadata": {},
   "source": [
    "### a)\n",
    "##### Class-Conditional Likelihood:\n",
    "This probability is determined by looking at some number of attributes that are associated with the classification being considered. If the average value of these attributes for members of each classification bin can be determined, this allows for a more accurate method of determining classification than generalized probability methods.\n",
    "\n",
    "\\begin{align}\n",
    "\\text{For each class:  } \\omega_i = \\int_x{p(x|\\omega)} = 1\n",
    "\\end{align}\n",
    "\n",
    "##### Class Priors:\n",
    "This is the probability determined by the results of previously classified inputs. By determining the probability of inputs to be classified into the different bins of outputs, we are able to create a rudimentary system that can identify the most likely classification outcome of sequential inputs. \n",
    "\n",
    "\\begin{align}\n",
    "P(\\omega_i) = \\pi_i   \\\\\n",
    "\\sum_i{\\pi_i} = 1  \n",
    "\\end{align}\n",
    "\n",
    "##### Posterior Probability:\n",
    "This is effectively the reverse of the class-conditional probability. If the classification of an input is known, the attributes of that input can be approximated based upon average values for the fully characterized members of each class.\n",
    "\n",
    "\\begin{align}\n",
    "P(\\omega_i |x) = \\frac{p(x|\\omega_i)\\pi_i}{p(x)}    \\\\\n",
    "\\text{where:  } p(x) = \\sum_i{p(x|\\omega_i)\\pi_i}\n",
    "\\end{align}\n",
    "\n",
    "In these equations, $\\pi$ is the prior observed probabilities, $\\omega$ is the attribute related to the classification, and $i$ is used to index for each attribute or class."
   ]
  },
  {
   "cell_type": "markdown",
   "metadata": {},
   "source": [
    "### b)\n",
    "\n",
    "\\begin{gather}\n",
    "P(\\text{purchase}) = \\frac{1}{3} \\qquad P(\\text{no purchase}) = \\frac{2}{3}   \\\\\n",
    "P(x|\\text{purchase}) = \\frac{1}{\\sqrt{2\\pi }\\sigma}e^{-\\frac{1}{2}(\\frac{(x-\\mu)^2}{\\sigma^2})_{age} -\\frac{1}{2}(\\frac{(x-\\mu)^2}{\\sigma^2})_{salary}}   \\\\\n",
    "\\text{where:} \\qquad \\sigma^2 = \\frac{1}{N}\\Sigma_i(x-\\mu)^2   \\\\\n",
    "\\mu_{age} = 30(\\text{purchase})/25(\\text{no purchase})  \\qquad \\mu_{salary} = 15(\\text{purchase})/8.5(\\text{no purchase})\n",
    "\\end{gather}"
   ]
  },
  {
   "cell_type": "markdown",
   "metadata": {},
   "source": [
    "The starting point equation for probability for no purchase would be similar to the equation above for purchase. To find the boundary of this classification, we set the probabilities equal to each other and solve."
   ]
  },
  {
   "cell_type": "markdown",
   "metadata": {},
   "source": [
    "Purchase on the left:\n",
    "\n",
    "\\begin{gather}\n",
    "\\frac{1}{\\sqrt{2\\pi }\\sigma}e^{-\\frac{1}{2}(\\frac{(x-\\mu)^2}{\\sigma^2})_{age} -\\frac{1}{2}(\\frac{(x-\\mu)^2}{\\sigma^2})_{salary}} = 2\\frac{1}{\\sqrt{2\\pi }\\sigma}e^{-\\frac{1}{2}(\\frac{(x-\\mu)^2}{\\sigma^2})_{age} -\\frac{1}{2}(\\frac{(x-\\mu)^2}{\\sigma^2})_{salary}}\n",
    "\\end{gather}\n",
    "     \n",
    "This simplifies to:\n",
    "\\begin{gather}\n",
    "e^{-\\frac{1}{2}(\\frac{(x-30)^2}{\\sigma^2})_{age} -\\frac{1}{2}(\\frac{(x-15)^2}{\\sigma^2})_{salary}} = 2e^{-\\frac{1}{2}(\\frac{(x-25)^2}{\\sigma^2})_{age} -\\frac{1}{2}(\\frac{(x-8.5)^2}{\\sigma^2})_{salary}}\n",
    "\\end{gather}\n",
    "     \n",
    "After taking the natural log and further simplifying:\n",
    "\\begin{gather}\n",
    "- (\\frac{(x_1-30)^2 + (x_2-15)^2}{2}) = \\ln{2} - (\\frac{(x_1-25)^2 + (x_2-8.5)^2}{2})   \\\\\n",
    "- ((x_1-30)^2 + (x_2-15)^2) = 2\\ln{2} - ((x_1-25)^2 + (x_2-8.5)^2)   \\\\\n",
    "-(x_1^2 - 60x_1 + 900 + x_2^2 - 30x_2 + 225) = 2\\ln{2} - (x_1^2 - 50x_1 + 625 + x_2^2 - 17x_2 + 72.25)   \\\\\n",
    "10x_1 + 13x_2 = 2\\ln{2} + 427.75   \\\\\n",
    "\\boxed{10x_1 + 13x_2 = 429.1363}\n",
    "\\end{gather}\n",
    "Where $x_1$ is age and $x_2$ is salary per hour."
   ]
  },
  {
   "cell_type": "code",
   "execution_count": 22,
   "metadata": {},
   "outputs": [
    {
     "data": {
      "image/png": "[encoded data removed]",
      "text/plain": [
       "<matplotlib.figure.Figure at 0x10f9f0e50>"
      ]
     },
     "metadata": {},
     "output_type": "display_data"
    }
   ],
   "source": [
    "font = {'family': 'serif',\n",
    "        'color':  'darkred',\n",
    "        'weight': 'normal',\n",
    "        'size': 20,\n",
    "        }\n",
    "green_font = {'family': 'serif',\n",
    "        'color':  'green',\n",
    "        'weight': 'normal',\n",
    "        'size': 20,\n",
    "        }\n",
    "plt.plot([0,33.01],[42.91,0])\n",
    "plt.text(2, 12, r'Not Purchased',fontdict=font)\n",
    "plt.text(20, 32, r'Purchased',fontdict=green_font)\n",
    "\n",
    "plt.title('Bayesian Decision Boundary')\n",
    "plt.xlabel('Salary')\n",
    "plt.ylabel('Age')\n",
    "plt.show()"
   ]
  },
  {
   "cell_type": "code",
   "execution_count": 23,
   "metadata": {},
   "outputs": [
    {
     "data": {
      "image/png": "[encoded data removed]",
      "text/plain": [
       "<matplotlib.figure.Figure at 0x10fc152d0>"
      ]
     },
     "metadata": {},
     "output_type": "display_data"
    }
   ],
   "source": [
    "p_mean = [15, 30]\n",
    "p_cov = [[1,0],[0,1]]\n",
    "\n",
    "pX, pY = np.random.multivariate_normal(p_mean, p_cov, 100).T\n",
    "\n",
    "n_mean = [8.5, 25]\n",
    "n_cov = [[1,0],[0,1]]\n",
    "\n",
    "nX, nY = np.random.multivariate_normal(n_mean, n_cov, 100).T\n",
    "\n",
    "plt.figure(figsize=(12,8))\n",
    "plt.plot(pX, pY, '*')\n",
    "plt.plot(nX, nY, 'o')\n",
    "plt.plot([0,33.01],[42.91,0])\n",
    "\n",
    "plt.title('Distribution of 100 purchasers and 100 non-purchasers')\n",
    "plt.legend(['Purchase', 'No Purchase'],bbox_to_anchor=(1.05, 1), loc=2, borderaxespad=0)\n",
    "plt.xlabel('Salary')\n",
    "plt.ylabel('Age')\n",
    "plt.axis([5,25,19,40])\n",
    "\n",
    "plt.show()"
   ]
  },
  {
   "cell_type": "markdown",
   "metadata": {},
   "source": [
    "** Discussion **\n",
    "\n",
    "Using the boundary calculated in part b, we were able to provide a basic classification system using the two known inputs of salary and age. With 100 random members of each class generated on a normal distribution around each class’ mean values for age and salary, we were able to demonstrate the effectiveness of this classification. If the random values were generated around a higher standard deviation, this classification would potentially be less accurate but would still possess value to stores interested in TV sales optimization."
   ]
  },
  {
   "cell_type": "markdown",
   "metadata": {},
   "source": [
    "# Question 5: Decision Tree using Python (10 pts)\n",
    "In this problem, you will model the data using decision trees to perform a classification task. Load the BreastTissue.csv dataset. The dataset has been preprocessed. The description of the dataset can be found [here](https://archive.ics.uci.edu/ml/datasets/Breast+Tissue). Using the class tree.DecisionTreeClassifier (http://scikit-learn.org/stable/modules/classes.html#module-sklearn.tree), build two different trees with a maximum depth of two using the split criteria (i) Gini and (ii) Entropy. Use all the data to build trees. Plot the two trees. If your classifier object is called clf, use the following commands to save the generated tree as a '.dot' file that can be used to visualize the tree using Webgraphviz: http://www.webgraphviz.com/\n",
    "\n",
    "Hint: see  http://scikit-learn.org/stable/modules/generated/sklearn.tree.export_graphviz.html"
   ]
  },
  {
   "cell_type": "markdown",
   "metadata": {},
   "source": [
    "from sklearn import tree\n",
    "from sklearn.externals.six import StringIO\n",
    "with open(\"decision_tree_gini.dot\", 'w') as f:\n",
    "    f = tree.export_graphviz(clf, out_file=f)"
   ]
  },
  {
   "cell_type": "markdown",
   "metadata": {},
   "source": [
    "Copy paste the contents of your '.dot' file into the text window on the website to visualize the trees. At which node(s) do they differ?"
   ]
  },
  {
   "cell_type": "markdown",
   "metadata": {},
   "source": [
    "#### Load Data"
   ]
  },
  {
   "cell_type": "code",
   "execution_count": 24,
   "metadata": {
    "collapsed": true
   },
   "outputs": [],
   "source": [
    "from sklearn import tree\n",
    "from sklearn.externals.six import StringIO\n",
    "data = pd.read_csv('BreastTissue.csv')\n",
    "Y = data['Class']\n",
    "X = data.iloc[:,2:]"
   ]
  },
  {
   "cell_type": "code",
   "execution_count": null,
   "metadata": {
    "collapsed": true
   },
   "outputs": [],
   "source": []
  },
  {
   "cell_type": "code",
   "execution_count": null,
   "metadata": {
    "collapsed": true
   },
   "outputs": [],
   "source": []
  },
  {
   "cell_type": "markdown",
   "metadata": {},
   "source": [
    "#### Model (Gini, Max Depth = 2)"
   ]
  },
  {
   "cell_type": "code",
   "execution_count": 25,
   "metadata": {
    "collapsed": true
   },
   "outputs": [],
   "source": [
    "clf = tree.DecisionTreeClassifier(criterion='gini',max_depth=2)\n",
    "clf.fit(X,Y)\n",
    "with open(\"decision_tree_gini.dot\", 'w') as f:\n",
    "    f = tree.export_graphviz(clf, out_file=f,class_names=['adi','car', 'mas', 'gla', 'fad', 'con'])"
   ]
  },
  {
   "cell_type": "markdown",
   "metadata": {},
   "source": [
    "![](Gini_plot.png)"
   ]
  },
  {
   "cell_type": "markdown",
   "metadata": {},
   "source": [
    "#### Model (Entropy, Max Depth = 2)"
   ]
  },
  {
   "cell_type": "code",
   "execution_count": 26,
   "metadata": {
    "collapsed": true
   },
   "outputs": [],
   "source": [
    "clf = tree.DecisionTreeClassifier(criterion='entropy',max_depth=2)\n",
    "clf.fit(X,Y)\n",
    "with open(\"decision_tree_entropy.dot\", 'w') as f:\n",
    "    f = tree.export_graphviz(clf, out_file=f,class_names=['adi','car', 'mas', 'gla', 'fad', 'con'])"
   ]
  },
  {
   "cell_type": "markdown",
   "metadata": {},
   "source": [
    "![](Entropy_Plot.png)"
   ]
  },
  {
   "cell_type": "markdown",
   "metadata": {},
   "source": [
    "** Discussion: **\n",
    "\n",
    "These decision trees allow for the classification of patients based upon class-conditional likelihood based upon results of common tests performed on breast tissues. This provides a very easy to follow system for classification of patients that medical staff and patients would both understand. These models are very simple, based upon only two cuts each, which may not provide the best accuracy but can be followed with minimal risk of misclassification. With the classification determined, medical staff can initiate any procedures as necessary based upon results."
   ]
  }
 ],
 "metadata": {
  "anaconda-cloud": {},
  "kernelspec": {
   "display_name": "Python 2",
   "language": "python",
   "name": "python2"
  },
  "language_info": {
   "codemirror_mode": {
    "name": "ipython",
    "version": 2
   },
   "file_extension": ".py",
   "mimetype": "text/x-python",
   "name": "python",
   "nbconvert_exporter": "python",
   "pygments_lexer": "ipython2",
   "version": "2.7.13"
  }
 },
 "nbformat": 4,
 "nbformat_minor": 1
}
